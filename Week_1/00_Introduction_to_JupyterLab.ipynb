{
 "cells": [
  {
   "cell_type": "markdown",
   "metadata": {
    "slideshow": {
     "slide_type": "slide"
    }
   },
   "source": [
    "# This is a Python (Jupyter) Notebook\n",
    "\n",
    "### A Jupyter Notebook is the most common way scientists organize their programs.  \n",
    "### It's attractive because it organizes text, code, figures, into a single document. \n",
    "### Its not a **program** in the conventional sense of the term, in that it is usually executed in an interactive way. \n",
    "### All of the lectures, problem sets, tests, homeworks, in this class will be provided in the form of a Jupyter notebook. \n",
    "### A Jupyter notebook can be opened in different Interactive Development Environments (IDE).  \n",
    "### My favorite is Visual Studio Code (VS Code) which I use for my research.  \n",
    "### However, for teaching, the most convenient IDEs are **Jupyter Lab** and **Jupyter Notebook**.  \n",
    "### They are kind of the same thing, and Jupyter Lab is the new and improved Jupyter Notebook, but not all features have made it over. \n",
    "### I will ask you to do all your classwork and homework in **Jupyter Lab**. \n",
    "### I will lecture using **Jupyter Notebook** because it automatically generates presentation slides. "
   ]
  },
  {
   "cell_type": "markdown",
   "metadata": {
    "slideshow": {
     "slide_type": "notes"
    }
   },
   "source": [
    "## Cells\n",
    "\n",
    "### This is a cell, which is indicated by the blue bar on the left in Jupyter Lab (in dark mode). \n",
    "### Cells are of different types as indicated by the word \"markdown\" in the drop down menu above.\n",
    "### A markdown cell contains html code, and is where i was place Instructional text in the Lectures and Tutorials, and the Problem Statement in Homework and Tests.   \n",
    "### The next cell is labeled \"Python\" and contains a bit of python code you can run. \n",
    "### Click on the next cell, then click on the arrow in the menu above. Alternatively, you can click type shift-enter to execute the code. "
   ]
  },
  {
   "cell_type": "code",
   "execution_count": null,
   "metadata": {
    "slideshow": {
     "slide_type": "fragment"
    }
   },
   "outputs": [],
   "source": [
    "#notice that after I execute the cell, the number 1 appears in the box on the left.  IF I execute it again, the number changes to 2. \n",
    "variable_name = \"my_variable\"\n",
    "print(variable_name)\n",
    "#notice that the output of the cell appears below the cell box.  This will be true for print statement and for figures. It will also be where error messages can appear. "
   ]
  },
  {
   "cell_type": "markdown",
   "metadata": {
    "slideshow": {
     "slide_type": "notes"
    }
   },
   "source": [
    "## The `print` statement\n",
    "### The next cell does a small calculation of adding 2 numbers.  The print command displays the output"
   ]
  },
  {
   "cell_type": "code",
   "execution_count": null,
   "metadata": {
    "slideshow": {
     "slide_type": "fragment"
    }
   },
   "outputs": [],
   "source": [
    "a = 1\n",
    "b = 2\n",
    "\n",
    "c = a + b\n",
    "\n",
    "print(c)"
   ]
  },
  {
   "cell_type": "markdown",
   "metadata": {
    "slideshow": {
     "slide_type": "notes"
    }
   },
   "source": [
    "### The next cell does not print. Try running it.  It will seem to do nothing.\n",
    "### You need a `print` command to see the output. \n",
    "### Notice I used a `#` symbol to indicate a comment and not code. \n",
    "### I wrote a comment inline to indicate what the operation was on the line that I multiplied. \n",
    "### On the next line i put a comment symbol `#` in front of print(c).  This means this line is not being executed. \n",
    "### Next try removing the comment and running the cell again.  "
   ]
  },
  {
   "cell_type": "code",
   "execution_count": null,
   "metadata": {
    "slideshow": {
     "slide_type": "fragment"
    }
   },
   "outputs": [],
   "source": [
    "a = 5 \n",
    "b = 4\n",
    "\n",
    "c = a*b  #multiply\n",
    "#print(c)"
   ]
  },
  {
   "cell_type": "markdown",
   "metadata": {},
   "source": [
    "## The **VARIABLE INSPECTOR** window\n",
    "### Another way to examine the output is to directly look at the variables in a table.\n",
    "### Right-click anywhere on this window.  The last menu option is for Variable Inspector"
   ]
  },
  {
   "cell_type": "markdown",
   "metadata": {
    "slideshow": {
     "slide_type": "notes"
    }
   },
   "source": [
    "### In the next example I do a calculation but I do not set it equal to any variable.  Try running it. "
   ]
  },
  {
   "cell_type": "code",
   "execution_count": null,
   "metadata": {
    "slideshow": {
     "slide_type": "fragment"
    }
   },
   "outputs": [],
   "source": [
    "a = 5\n",
    "b = 4\n",
    "a/b #divide"
   ]
  },
  {
   "cell_type": "markdown",
   "metadata": {
    "slideshow": {
     "slide_type": "notes"
    }
   },
   "source": [
    "### When there was nowhere to put the output of the divide, it just output to the window. \n",
    "### Take a look at the VARIABLE INSPECTOR tab.  There is no variable with value 1.25\n",
    "### That value is lost forever "
   ]
  },
  {
   "cell_type": "markdown",
   "metadata": {
    "slideshow": {
     "slide_type": "notes"
    }
   },
   "source": [
    "### Let's create an empty cell and make a new example with a = 3 b = 2 and compute c = a-b and display the results.\n",
    "### Remember that the Cell Type should be **Python** in order to execute the cell. \n",
    "### A cell that has text material is labeled markdown.  \n",
    "### There are two ways to add a cell. One is in the bar on the top, where there is a `+` button that will add the cell. \n",
    "### The other way is the rectangular box to the right of this cell. This can inseert a cell above or below.  "
   ]
  },
  {
   "cell_type": "markdown",
   "metadata": {},
   "source": [
    "## SAVING WORK AND CHECKPOINTS\n",
    "\n",
    "### On the top left of the menu bar is a disk drive symbol, This saves, the file and creates a checkpoint.  Checkpoints are really useful features. "
   ]
  },
  {
   "cell_type": "markdown",
   "metadata": {},
   "source": [
    "## REVERTING YOUR NOTEBOOK. \n",
    "### Suppose its all gone horribly wrong and you just want to restart everything.  \n",
    "### You can reset the outputs of the jupyter notebook using the Clear Output menu option under edit. \n",
    "### You can also restart the kernel using the circle button.  \n",
    "### But *most usefully* you can revert to checkpoint.  That is you can return it to your last good save.  \n",
    "### Under the file menu, you can 'Revert to Checkpoint' or 'Reload notebook from disk'.  The latter option **removes all your work**\n"
   ]
  },
  {
   "cell_type": "markdown",
   "metadata": {},
   "source": [
    "## VALIDATE YOUR NOTEBOOK WITH NBGRADER\n",
    "\n",
    "### We will use nbgrader in this class to allow you to run some checks and validate your notebook.  \n",
    "### You will notice that on the menu bar there is a button called validate.  \n",
    "### That button will allow you to run the tests that I Will run on your homework, problem sets, and tests to check if the answer comes out correctly. \n",
    "### That is not the only way I will be grading them, but its a good way to know if you are getting it right.  \n"
   ]
  },
  {
   "cell_type": "markdown",
   "metadata": {},
   "source": [
    "## SAVING YOUR NOTBOOK \n",
    "\n",
    "### Your notebook should be saved when it is complete. You can do that under the FIle menu"
   ]
  },
  {
   "cell_type": "code",
   "execution_count": null,
   "metadata": {},
   "outputs": [],
   "source": []
  }
 ],
 "metadata": {
  "celltoolbar": "Slideshow",
  "interpreter": {
   "hash": "fda1d92c402c9d5e0550eab7f590eb1c0582e487619314e6aa12d68c281f0580"
  },
  "kernelspec": {
   "display_name": "Python 3 (ipykernel)",
   "language": "python",
   "name": "python3"
  },
  "language_info": {
   "codemirror_mode": {
    "name": "ipython",
    "version": 3
   },
   "file_extension": ".py",
   "mimetype": "text/x-python",
   "name": "python",
   "nbconvert_exporter": "python",
   "pygments_lexer": "ipython3",
   "version": "3.9.16"
  },
  "rise": {
   "scroll": true
  }
 },
 "nbformat": 4,
 "nbformat_minor": 4
}
