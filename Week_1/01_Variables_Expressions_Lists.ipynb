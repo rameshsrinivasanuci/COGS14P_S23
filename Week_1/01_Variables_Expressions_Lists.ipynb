{
 "cells": [
  {
   "cell_type": "markdown",
   "id": "fa5a9d84-669f-4621-9c96-fb18b8a622a5",
   "metadata": {
    "slideshow": {
     "slide_type": "slide"
    }
   },
   "source": [
    "# **Lecture 1**:  Python Variables, Expressions, Data Types, Lists\n",
    "\n"
   ]
  },
  {
   "cell_type": "markdown",
   "id": "01a7ca27-ce21-4506-8054-de1166f3f3a9",
   "metadata": {
    "slideshow": {
     "slide_type": "slide"
    }
   },
   "source": [
    "## Our Conscious Experience of a Computer \n",
    "\n",
    "<img src=\"gnome-shell.jpg\" alt=\"Drawing\" style=\"width: 900px;\"/>\n",
    "\n",
    "* When we work on a computer, the experience is not veridical or a \"true\" representation of reality. \n",
    "* No matter what type of computer (Windows, Mac, Linux) we are always interacting with an interface which contains similar elements.\n",
    "* The Desktop is a graphical representation of your computer.  It varies a bit between different types of computers but contains familiar elements - files, folders, applications. \n",
    "* None of these elements are \"real\".   For example, a file is not represented in the computer in the manner of the icon on the Desktop. \n"
   ]
  },
  {
   "cell_type": "markdown",
   "id": "128ef8d9-2359-4eeb-a2ff-2ff33a919540",
   "metadata": {
    "slideshow": {
     "slide_type": "slide"
    }
   },
   "source": [
    "## Programs are Interfaces to the Computer - **You** give them meaning. \n",
    "* The Desktop is an interface to allow you to manipulate the computer to achieve your objectives, without knowing too much about the inner workings of the computer.   \n",
    "*  **Programming is an interface to allow you to instruct the computer to manipulate information stored in the memory of the computer.**  \n",
    "*  Programming is a way to ask the computer to store values (**variable**) and do things with them (**operations**) \n",
    "*  The elements and rules of programming (**syntax**) are just like \"rules\" of working with the desktop of the computer \n",
    "*  They are a representation in a human readable language of an operation in the computer language "
   ]
  },
  {
   "cell_type": "markdown",
   "id": "9cc1f82c-665b-4503-92f9-b098a1984cf7",
   "metadata": {
    "slideshow": {
     "slide_type": "slide"
    }
   },
   "source": [
    "## Variables - Definitions\n",
    "1.  A variable is a symbolic representation of the **location** of information in the memory of a computer.  \n",
    "1.  A variable is a way to address and manipulate the memory of the computer using a label that ascribes meaning to the information stored there.  \n",
    "1.  Naming variables in meaningful ways is perhaps the most important thing to learn to write **readable** programs.  \n"
   ]
  },
  {
   "cell_type": "code",
   "execution_count": null,
   "id": "178996dc-ea2a-4f94-9bae-d80462c53b0d",
   "metadata": {
    "slideshow": {
     "slide_type": "subslide"
    }
   },
   "outputs": [],
   "source": [
    "#Remember, comment lines start with a #\n",
    "#Comments are useful to track what you are doing.\n",
    "#But, too many comments means you didnt write a self-explanatory program.  \n",
    "\n",
    "my_variable = 1 # my_variable is a variable I created with a statement\n",
    "my_computed_variable = 4/5 #This is a variable I computed with an operation\n",
    "my_text_label = 'Example' #This is a bit of text "
   ]
  },
  {
   "cell_type": "markdown",
   "id": "57d3e86c-2379-400c-8bbc-9d32b3351cda",
   "metadata": {
    "slideshow": {
     "slide_type": "subslide"
    }
   },
   "source": [
    "### There are three types of variables created above. \n",
    "\n",
    "1. numeric integer **my_variable** which is of type **int**  \n",
    "2. numeric floating point **my_other_variable** which is of type **float**  \n",
    "3. text string **my_label** which is of type **str**\n",
    "\n",
    "### Lets Examine the Variables pane to confirm my definitions. \n",
    "### These are 3 of the 4 basic types of variables.  The one missing here is a *logical* variable, which will be discussed later. "
   ]
  },
  {
   "cell_type": "markdown",
   "id": "1409b5f8-194a-41cc-8d6c-fde8c5e3fd19",
   "metadata": {
    "slideshow": {
     "slide_type": "slide"
    }
   },
   "source": [
    "## Expressions - Definitions\n",
    "\n",
    "* ### An expression is an operation on variables.  It may be used to define a new variable. \n",
    "* ### In scientiifc applications, an operation is often a mathematical statement.  "
   ]
  },
  {
   "cell_type": "code",
   "execution_count": null,
   "id": "7deb72a4-edde-412f-a72a-0aa01f6010f7",
   "metadata": {
    "slideshow": {
     "slide_type": "slide"
    }
   },
   "outputs": [],
   "source": [
    "x = 2 #This is a statement that declares a variable with a particular value. \n",
    "y = x**2 #This is a mathematical statement written as code.  \n",
    "print(x)\n",
    "print(y)"
   ]
  },
  {
   "cell_type": "markdown",
   "id": "4bd4dfcb-252b-4aa1-8af9-f24c2029a806",
   "metadata": {
    "slideshow": {
     "slide_type": "subslide"
    }
   },
   "source": [
    "### In the example above a mathematical expression, $y = x^2$ is written as code.\n",
    "### Consider the following 2 lines of code.  Here code is not strictly math."
   ]
  },
  {
   "cell_type": "code",
   "execution_count": null,
   "id": "39ac2cb0-60ae-4546-a220-64b8cabd3060",
   "metadata": {
    "slideshow": {
     "slide_type": "subslide"
    }
   },
   "outputs": [],
   "source": [
    "z = 3 # a variable you created\n",
    "z = z**2 #This is code, not math. "
   ]
  },
  {
   "cell_type": "markdown",
   "id": "a7541606-3101-4170-a50a-73f45b6337da",
   "metadata": {
    "slideshow": {
     "slide_type": "subslide"
    }
   },
   "source": [
    "### In the lower example, we are again computing the square of a number, but we are telling python to **replace** the value of $z$ with $z^2$ in the **location of memory** we address with $z$. "
   ]
  },
  {
   "cell_type": "markdown",
   "id": "b0b7e0d0-4361-44cd-af88-1e746bafcef1",
   "metadata": {
    "slideshow": {
     "slide_type": "slide"
    }
   },
   "source": [
    "### Key Concepts\n",
    "\n",
    "* In programming `=` means *assignment*, not equality\n",
    "* Anything to the right of the equality is evaluated before assignment\n",
    "* There can be more than one variable assigned in a single line. \n",
    "\n"
   ]
  },
  {
   "cell_type": "markdown",
   "id": "a24533b0-d5a4-4883-91de-092087d0de91",
   "metadata": {
    "slideshow": {
     "slide_type": "subslide"
    }
   },
   "source": [
    "## Mathematical Operators \n",
    "\n",
    "1. `+`, addition                                  \n",
    "1. `-`, subtraction\n",
    "1. `*`, multiplication\n",
    "1. `/`, division \n",
    "1. `**`, exponentiation \n",
    "1. `//`, floor division or integer division \n",
    "1. `%`, remainder "
   ]
  },
  {
   "cell_type": "code",
   "execution_count": null,
   "id": "2b34c1b5-6d94-4532-97c3-b4003be5e680",
   "metadata": {
    "slideshow": {
     "slide_type": "subslide"
    }
   },
   "outputs": [],
   "source": [
    "a = 7\n",
    "b = 2\n",
    "print('addition: ',a+b)\n",
    "print('subtration: ',a-b)\n",
    "print('multiplication: ',a*b)\n",
    "print('division: ',a/b)\n",
    "print('exponentiation: ',a**b)\n",
    "print('floor division: ',a//b)\n",
    "print('remainder: ',a%b)"
   ]
  },
  {
   "cell_type": "markdown",
   "id": "20bfa291-8469-4c10-a357-c6d53c2a7ef5",
   "metadata": {
    "slideshow": {
     "slide_type": "slide"
    }
   },
   "source": [
    "## Variable Names\n",
    "\n",
    "### The rules \n",
    "\n",
    "* Variable names are always on the left of the =, values or expressions are always on the right.  \n",
    "* Variable names are case sensitive, e.g. c and C are different variables.  \n",
    "* Variable names must start with letters, but then can include numbers, e.g., A1, b2, C3.  \n",
    "* Variable names cannot include special characters (like &, *, #, etc).  \n",
    "* Variable names can include underscores to improve readability, e.g., A\\_1, b\\_2, C\\_3.  "
   ]
  },
  {
   "cell_type": "markdown",
   "id": "1e8e84e1-2ba4-4b52-b204-d1ca7c4a018a",
   "metadata": {
    "slideshow": {
     "slide_type": "slide"
    }
   },
   "source": [
    "### What are good variable names?\n",
    "\n",
    "* In general, the more explict and self-explanatory the variable names the better. \n",
    "* A program usually expresses an idea, and the variable names should make that idea easy to understand by being explicit. \n",
    "* A program should read like a story!\n",
    "* Sometimes, shorter variables make sense, where the short hand is widely known and recognized.    "
   ]
  },
  {
   "cell_type": "code",
   "execution_count": null,
   "id": "5c37c2ae-1670-4ae3-8d26-72785211c237",
   "metadata": {
    "slideshow": {
     "slide_type": "subslide"
    }
   },
   "outputs": [],
   "source": [
    "#%%Einstein in words\n",
    "mass = 10 # kg\n",
    "speed_of_light = 3e+08 #m/s\n",
    "                      #note the use of scientific notation\n",
    "Energy = mass*speed_of_light**2  #Joules\n",
    "print('Energy is', Energy, 'Joules')"
   ]
  },
  {
   "cell_type": "code",
   "execution_count": null,
   "id": "6dfb2e66-9f73-4f0e-a4c5-6f7c79de6904",
   "metadata": {
    "slideshow": {
     "slide_type": "subslide"
    }
   },
   "outputs": [],
   "source": [
    "#Einstein in widely known variable names\n",
    "m = 10 # kg \n",
    "c = 3e+08 #m/s\n",
    "        #note the use of scientific notation\n",
    "E= m*c**2  #Joules\n",
    "print('Energy is', E, 'Joules')"
   ]
  },
  {
   "cell_type": "code",
   "execution_count": null,
   "id": "adc91ff0-34f7-4df7-90ee-2827c39d6616",
   "metadata": {
    "slideshow": {
     "slide_type": "subslide"
    }
   },
   "outputs": [],
   "source": [
    "#Einstein in generic variables\n",
    "x = 10 # This is the mass of the object in kg\n",
    "y = 3e+08 #This is the speed of light in m/s\n",
    "        #note the use of scientific notation \n",
    "z = x*y**2 #This is the energy in Joules\n",
    "print('Energy is', z, 'Joules')"
   ]
  },
  {
   "cell_type": "markdown",
   "id": "e872cc9d-247d-41d4-80c4-1333706ecd7b",
   "metadata": {
    "slideshow": {
     "slide_type": "slide"
    }
   },
   "source": [
    "## Reserved Words\n",
    "\n",
    "### There are 33 words that are **never** allowed to be used as variable names \n",
    "\n",
    "<img src=\"BadWords.png\" alt=\"Drawing\" style=\"width: 900px;\"/>\n",
    "\n",
    "### If you try to use them, python will return an error.  \n",
    "\n",
    "### In addition, these 33 words have critical roles in python syntax, and thus are colored differently.  "
   ]
  },
  {
   "cell_type": "markdown",
   "id": "0968ad8c-0e01-4646-8cd3-03e1cd23758c",
   "metadata": {
    "slideshow": {
     "slide_type": "slide"
    }
   },
   "source": [
    "## Utilities\n",
    "\n",
    "### The are some built in utilities in python that can be helpful in working with python variables.  \n",
    "\n",
    "* `type`, reports the type of variable \n",
    "* `int`, converts a variable into an integer \n",
    "* `float`, conveets a variable into a floating point variable "
   ]
  },
  {
   "cell_type": "code",
   "execution_count": null,
   "id": "f42ab05d-da24-4dca-8018-0208077838e0",
   "metadata": {
    "slideshow": {
     "slide_type": "subslide"
    }
   },
   "outputs": [],
   "source": [
    "print(my_text_label,'is a',type(my_text_label))\n",
    "print(my_computed_variable,'is a',type(my_computed_variable))\n",
    "print(my_variable,'is a',type(my_variable))"
   ]
  },
  {
   "cell_type": "code",
   "execution_count": null,
   "id": "d9dd066e-ed1b-4fe3-aa3e-f7c3e93cf9ba",
   "metadata": {
    "slideshow": {
     "slide_type": "subslide"
    }
   },
   "outputs": [],
   "source": [
    "#I can convert floating point numbers into integers or integers into floating point numbers \n",
    "float_variable = float(my_variable)\n",
    "print(float_variable)\n",
    "int_variable = int(float_variable)\n",
    "print(int_variable)"
   ]
  },
  {
   "cell_type": "code",
   "execution_count": null,
   "id": "10e29725-ca42-4b0a-8194-a6f7c3f80340",
   "metadata": {
    "slideshow": {
     "slide_type": "subslide"
    }
   },
   "outputs": [],
   "source": [
    "print(my_computed_variable)\n",
    "int(my_computed_variable)"
   ]
  },
  {
   "cell_type": "markdown",
   "id": "43f2b267-53dc-4fdc-aa4c-48cff48f4273",
   "metadata": {
    "slideshow": {
     "slide_type": "slide"
    }
   },
   "source": [
    "## Working with Strings \n",
    "\n",
    "### Strings have additional characteristics, which for scientiists are mostly useful for handling file names and text labels for data and for making graphs. \n",
    "### Most importantly, string can have variable lengths, which you can get from the utility `len`"
   ]
  },
  {
   "cell_type": "code",
   "execution_count": null,
   "id": "5e984947-2795-477b-a555-7a4f394e9af7",
   "metadata": {
    "slideshow": {
     "slide_type": "subslide"
    }
   },
   "outputs": [],
   "source": [
    "print(my_text_label)\n",
    "len(my_text_label)"
   ]
  },
  {
   "cell_type": "markdown",
   "id": "34b1748f-b94d-4940-a5e3-528eec0bb314",
   "metadata": {
    "slideshow": {
     "slide_type": "subslide"
    }
   },
   "source": [
    "### Unlike numerical variables, text cannot be added, however it can be concatenated  "
   ]
  },
  {
   "cell_type": "code",
   "execution_count": null,
   "id": "223f1266-c90c-4f9a-895e-6ffa0a80228e",
   "metadata": {
    "slideshow": {
     "slide_type": "subslide"
    }
   },
   "outputs": [],
   "source": [
    "no = '#1'\n",
    "thisexample = my_text_label+no\n",
    "print(thisexample) \n",
    "space = ' ' \n",
    "prettierexample = my_text_label+space+no\n",
    "print('I like this better')\n",
    "print(prettierexample)"
   ]
  },
  {
   "cell_type": "markdown",
   "id": "2b316878",
   "metadata": {},
   "source": [
    "### Numeric variables can be converted to string using `str`"
   ]
  },
  {
   "cell_type": "code",
   "execution_count": null,
   "id": "2cef6acd",
   "metadata": {},
   "outputs": [],
   "source": [
    "string57 = str(57)\n",
    "print(string57)\n",
    "type(string57)"
   ]
  },
  {
   "cell_type": "markdown",
   "id": "f9888abe-443e-430e-bfd4-c2a52230fe5a",
   "metadata": {
    "slideshow": {
     "slide_type": "subslide"
    }
   },
   "source": [
    "## Lists\n",
    "### A list is a collection of values in a single variable. "
   ]
  },
  {
   "cell_type": "code",
   "execution_count": null,
   "id": "3414749f-c36a-4a10-b051-6727557814d1",
   "metadata": {
    "slideshow": {
     "slide_type": "subslide"
    }
   },
   "outputs": [],
   "source": [
    "my_list = [1,9,6,7] # I made a list here with 4 numeric entries.  Note the use of square brackets [] and commas , \n",
    "                    # to separate the elements of the list. \n",
    "print(my_list)"
   ]
  },
  {
   "cell_type": "markdown",
   "id": "f9a58bd4-66cd-44d5-b2ea-80128040a29d",
   "metadata": {
    "slideshow": {
     "slide_type": "subslide"
    }
   },
   "source": [
    "### Examine the list in the Variables pane. \n",
    "### The list is of shape 4, reflecting the number of elements, and of type list. \n",
    "### The list is a flexible data type designed as a **container** for holding items together\n",
    "### But its not a particularly useful data type for mathematical operations.  "
   ]
  },
  {
   "cell_type": "code",
   "execution_count": null,
   "id": "8224a11b-ad56-488a-9456-98af7c186ee7",
   "metadata": {
    "slideshow": {
     "slide_type": "subslide"
    }
   },
   "outputs": [],
   "source": [
    "list2 = list + 2"
   ]
  },
  {
   "cell_type": "markdown",
   "id": "10009c3a-35df-4c61-9ed0-1b50ce6b103f",
   "metadata": {
    "slideshow": {
     "slide_type": "slide"
    }
   },
   "source": [
    "### So that went badly, because a list doesnt support mathematical operations.  \n",
    "### The strength of lists is the flexibility to hold together different data types that are associated with each other.  "
   ]
  },
  {
   "cell_type": "code",
   "execution_count": null,
   "id": "c591f5f8-5c82-447f-9664-2525a4f04f37",
   "metadata": {
    "slideshow": {
     "slide_type": "subslide"
    }
   },
   "outputs": [],
   "source": [
    "#I can mix together all the data types I know about in a list \n",
    "my_crazy_list = ['Kawhi','Leonard','June',29,1991,79.0]"
   ]
  },
  {
   "cell_type": "markdown",
   "id": "55b30671-ab70-4c03-a396-dd776eafa2de",
   "metadata": {
    "slideshow": {
     "slide_type": "subslide"
    }
   },
   "source": [
    "### I created a list all associated with the best *two-way* NBA player, including\n",
    "* *strings* first name, last name, and date of birth, \n",
    "* *integers* month and year of birth \n",
    "* *floating point* height"
   ]
  },
  {
   "cell_type": "markdown",
   "id": "5971dc51-4ade-476a-b075-24ad25e5d580",
   "metadata": {
    "slideshow": {
     "slide_type": "slide"
    },
    "tags": []
   },
   "source": [
    "## List methods: `append`\n",
    "### The flexibility of lists is their strength.  It is also their weakness as the flexibility also gives greater scope for making mistakes in data handling.\n",
    "### `list` is a **class** with **methods**.  \n",
    "### Here I show how we **append** elements to a list\n",
    "### The syntax here is different from our usual syntax \n",
    "### `list_name.append(variable)`\n",
    "### notice that instead of setting the list or variable equal to something, I used a `.` to separate the list name from the instruction to append.  "
   ]
  },
  {
   "cell_type": "code",
   "execution_count": null,
   "id": "c8964a1b-eaee-49b4-89c5-00b4a0db0361",
   "metadata": {
    "slideshow": {
     "slide_type": "slide"
    }
   },
   "outputs": [],
   "source": [
    "my_kawhi_list = ['Kawhi','Leonard','June',29,1991,79.0]\n",
    "points = 23.7\n",
    "rebounds = 6.3\n",
    "assists = 3.9\n",
    "steals = 1.5\n",
    "blocks = 0.6\n",
    "#lets add these numbers to the list \n",
    "my_kawhi_list.append(points)\n",
    "my_kawhi_list.append(rebounds)\n",
    "my_kawhi_list.append(assists)\n",
    "my_kawhi_list.append(steals)\n",
    "my_kawhi_list.append(blocks)\n",
    "#\n",
    "print(my_kawhi_list)"
   ]
  },
  {
   "cell_type": "markdown",
   "id": "b704c5ef-c0f7-49f2-9f2c-64a943e82512",
   "metadata": {
    "slideshow": {
     "slide_type": "subslide"
    },
    "tags": []
   },
   "source": [
    "## Indexing into lists  "
   ]
  },
  {
   "cell_type": "markdown",
   "id": "9ad1b347-faaf-46e4-bb6a-fae85bec88c2",
   "metadata": {
    "slideshow": {
     "slide_type": "subslide"
    }
   },
   "source": [
    "### Now suppose i wanted to get to his points per game for some data analysis (23.7).  . \n",
    "### I want to figure out a way to do it so that for every player whose data is organized in the same order, \n",
    "### I can extract the points per game from the list. \n",
    "### We can see that points is the 7th entry in the list.  \n"
   ]
  },
  {
   "cell_type": "code",
   "execution_count": null,
   "id": "44e3511e-adc5-4b56-ae16-d26bc21cbbcb",
   "metadata": {
    "slideshow": {
     "slide_type": "subslide"
    }
   },
   "outputs": [],
   "source": [
    "ppg = my_kawhi_list[7]\n",
    "print(ppg)"
   ]
  },
  {
   "cell_type": "markdown",
   "id": "fc786fdc-b344-4316-b6a2-532e3cf9be22",
   "metadata": {
    "slideshow": {
     "slide_type": "subslide"
    }
   },
   "source": [
    "### Thats didnt work.  In fact, it returned the 8th element of the list, which is rebounds.\n",
    "### Computers count from zero, while human beings count from 1.  \n",
    "### If we start the count with 'Kawhi' as item 0, we realize the **index** for 26.6 is 6 and not 7 "
   ]
  },
  {
   "cell_type": "code",
   "execution_count": null,
   "id": "049ab090-89ff-4a4b-9372-570894e23455",
   "metadata": {
    "slideshow": {
     "slide_type": "subslide"
    }
   },
   "outputs": [],
   "source": [
    "ppg = my_kawhi_list[6]\n",
    "print(ppg)"
   ]
  },
  {
   "cell_type": "markdown",
   "id": "b034cad3-6fe7-4926-8a01-1fd6f922b05d",
   "metadata": {
    "slideshow": {
     "slide_type": "subslide"
    }
   },
   "source": [
    "### Take a look at the Variables pane, or print the type of ppg.  \n",
    "### Notice that the variable ppg is of type float.  \n",
    "### Inside a list values cannot have a type, but once I remove a variable from the list it has a type.  "
   ]
  },
  {
   "cell_type": "markdown",
   "id": "161a3ece-59cf-44df-a2f2-8e56922ce0e1",
   "metadata": {
    "slideshow": {
     "slide_type": "slide"
    }
   },
   "source": [
    "### Index to a range of values.  \n",
    "### suppose I want to recover Kawhi's points, rebounds, assists - the classic box score stats.  \n",
    "### Since points is item 6 counting from 0, item 7 is rebounds and item 8 is assists (see above to verify)"
   ]
  },
  {
   "cell_type": "code",
   "execution_count": null,
   "id": "b105b6e9-956c-4b89-b9f6-c070d79f6423",
   "metadata": {
    "slideshow": {
     "slide_type": "subslide"
    }
   },
   "outputs": [],
   "source": [
    "boxscore = my_kawhi_list[6:8]\n",
    "print(boxscore)"
   ]
  },
  {
   "cell_type": "markdown",
   "id": "1467591c-2e05-413a-b0bb-a008d2593f80",
   "metadata": {
    "slideshow": {
     "slide_type": "subslide"
    }
   },
   "source": [
    "### That didnt work either.  \n",
    "### Since we need the next item, lets guess we should add one more and go from 6:9 "
   ]
  },
  {
   "cell_type": "code",
   "execution_count": null,
   "id": "e881e773-48c6-4067-bb35-b76dd072e8aa",
   "metadata": {
    "slideshow": {
     "slide_type": "subslide"
    }
   },
   "outputs": [],
   "source": [
    "boxscore = my_kawhi_list[6:9]\n",
    "print(boxscore)"
   ]
  },
  {
   "cell_type": "markdown",
   "id": "248224b2-9042-4928-88d4-cbe76480b085",
   "metadata": {
    "jp-MarkdownHeadingCollapsed": true,
    "slideshow": {
     "slide_type": "slide"
    },
    "tags": []
   },
   "source": [
    "### Indexing into list and arrays in python is always **inclusive** of the first element and **exclusive** of the last element.  \n",
    "### We will discuss indexing methods in depth using arrays next week"
   ]
  },
  {
   "cell_type": "markdown",
   "id": "02101c2a-96eb-4d4f-81d6-d2a4995678a9",
   "metadata": {
    "slideshow": {
     "slide_type": "slide"
    }
   },
   "source": [
    "## List methods: `remove`\n",
    "### Here I show how we **remove** an element from a list \n",
    "### `list_name.remove(variable)`"
   ]
  },
  {
   "cell_type": "code",
   "execution_count": null,
   "id": "538233e1-c91b-457c-93b9-61fe94dac959",
   "metadata": {
    "slideshow": {
     "slide_type": "subslide"
    }
   },
   "outputs": [],
   "source": [
    "my_kawhi_list.remove(1.5)\n",
    "print(my_kawhi_list)"
   ]
  },
  {
   "cell_type": "markdown",
   "id": "587c1f3c-cdcd-4307-ace9-4754c8723cc7",
   "metadata": {
    "slideshow": {
     "slide_type": "subslide"
    }
   },
   "source": [
    "### The item 1.5 (steals) is removed.   Notice i did not use the original variable name *steals*.  \n",
    "### That variable name is not associated with the list. Only the value is in the list.  "
   ]
  },
  {
   "cell_type": "markdown",
   "id": "42cbbd51-f043-4b8d-b0fc-4359954d397b",
   "metadata": {
    "slideshow": {
     "slide_type": "slide"
    }
   },
   "source": [
    "## Merging Lists"
   ]
  },
  {
   "cell_type": "markdown",
   "id": "674fc9fb-377d-4aea-b03d-1c325184a9c6",
   "metadata": {
    "slideshow": {
     "slide_type": "subslide"
    }
   },
   "source": [
    "## We can merge two lists in the same way we handled strings, with a simple +\n",
    "## Lists and strings do not do math addition, instead + means concatenation. "
   ]
  },
  {
   "cell_type": "code",
   "execution_count": null,
   "id": "559b915e-020b-49ad-a561-905a3a4b08a7",
   "metadata": {
    "slideshow": {
     "slide_type": "subslide"
    },
    "tags": []
   },
   "outputs": [],
   "source": [
    "my_kawhi_list = ['Kawhi','Leonard']\n",
    "points = 26.0\n",
    "rebounds = 6.6\n",
    "assists = 5.0\n",
    "steals = 1.7\n",
    "blocks = 0.4\n",
    "kawhi_season_stats = [points,rebounds,assists,steals,blocks]\n",
    "merged_kawhi_list = my_kawhi_list + kawhi_season_stats   # + for lists does not do ADDITION. \n",
    "print(merged_kawhi_list)"
   ]
  },
  {
   "cell_type": "code",
   "execution_count": null,
   "id": "492c707e-ec99-4b98-b27a-c8b0cdb14837",
   "metadata": {},
   "outputs": [],
   "source": []
  }
 ],
 "metadata": {
  "celltoolbar": "Slideshow",
  "kernelspec": {
   "display_name": "Python 3 (ipykernel)",
   "language": "python",
   "name": "python3"
  },
  "language_info": {
   "codemirror_mode": {
    "name": "ipython",
    "version": 3
   },
   "file_extension": ".py",
   "mimetype": "text/x-python",
   "name": "python",
   "nbconvert_exporter": "python",
   "pygments_lexer": "ipython3",
   "version": "3.11.3"
  }
 },
 "nbformat": 4,
 "nbformat_minor": 5
}
