{
 "cells": [
  {
   "cell_type": "markdown",
   "metadata": {
    "slideshow": {
     "slide_type": "slide"
    },
    "tags": []
   },
   "source": [
    "# **Lecture 4:** Logical Statements and Boolean Operators\n",
    "\n",
    "### The purpose of todays lecture is to introduce the use of *Logical Statements* and *Boolean Operators* in Programming. \n",
    "\n",
    "### A simple definition of a logical statement: \n",
    "### A logical statement is a statement that produces an output which either has the value **True** or **False**.  \n",
    "\n",
    "### From a coding perspective, we could also map those two states onto a binary variable which takes on the value 1 or 0.  \n",
    "### In practice these two representations can be used interchangeability and implicitly.  \n",
    "\n",
    "### This type of variable is known as a **Boolean** variable.   \n",
    "\n",
    "### In this lesson, we will learn how to setup and evaluate various types of logical statements. \n",
    "\n",
    "### In scientific appliations in Psychology/Neuroscience we will make use of logical statements to develop boolean variables as \n",
    "* #### logical *indexing* into data arrays in data analysis applications. \n",
    "* ####  *conditional* code execution.   "
   ]
  },
  {
   "cell_type": "code",
   "execution_count": null,
   "metadata": {
    "slideshow": {
     "slide_type": "subslide"
    },
    "tags": []
   },
   "outputs": [],
   "source": [
    "import numpy as np\n",
    "from numpy import random\n",
    "from matplotlib import pyplot as plt\n",
    "import pandas as pd"
   ]
  },
  {
   "cell_type": "markdown",
   "metadata": {
    "slideshow": {
     "slide_type": "slide"
    },
    "tags": []
   },
   "source": [
    "## Comparison Operators\n",
    "\n",
    "### A logical statement almost always involves comparisons. Examples of comparisons that come to mind might be \n",
    "1. #### `==` - equal                    \n",
    "1. #### `!=` - not equal                \n",
    "1. #### `>`  - greater than             \n",
    "1. #### `>=` - greater than or equal    \n",
    "1. #### `<`  - less than                \n",
    "1. #### `<=` - less than or equal       "
   ]
  },
  {
   "cell_type": "markdown",
   "metadata": {
    "slideshow": {
     "slide_type": "slide"
    },
    "tags": []
   },
   "source": [
    "### Example 1  Logical Statements on Variables\n",
    "### This set of examples looks at simple logical statements on variables, that returns either **True** or **False**"
   ]
  },
  {
   "cell_type": "code",
   "execution_count": null,
   "metadata": {
    "slideshow": {
     "slide_type": "subslide"
    },
    "tags": []
   },
   "outputs": [],
   "source": [
    "x = 5   #This is a statement defining the variable x with the value 5.  \n",
    "x == 5   #Test of Equality, returns the value True "
   ]
  },
  {
   "cell_type": "code",
   "execution_count": null,
   "metadata": {
    "slideshow": {
     "slide_type": "subslide"
    },
    "tags": []
   },
   "outputs": [],
   "source": [
    "test = x == 5  #Equal, True statement, correct syntax, unpleasant formatting \n",
    "print(test)\n",
    "type(test)"
   ]
  },
  {
   "cell_type": "code",
   "execution_count": null,
   "metadata": {
    "slideshow": {
     "slide_type": "subslide"
    },
    "tags": []
   },
   "outputs": [],
   "source": [
    "x = 5\n",
    "test = (x == 5)  #Equal, True Statement, correct syntax, readable formatting \n",
    "print(test)"
   ]
  },
  {
   "cell_type": "code",
   "execution_count": null,
   "metadata": {},
   "outputs": [],
   "source": [
    "x = 5\n",
    "test = (x != 5)  #Not Equal, False Statement \n",
    "print(test)"
   ]
  },
  {
   "cell_type": "code",
   "execution_count": null,
   "metadata": {
    "slideshow": {
     "slide_type": "subslide"
    },
    "tags": []
   },
   "outputs": [],
   "source": [
    "x = 5\n",
    "test = (x == 5)  \n",
    "print(test)\n",
    "istestone = (test == 1) # Here I test if the boolean variable with value True is the same as 1\n",
    "print(istestone)"
   ]
  },
  {
   "cell_type": "code",
   "execution_count": null,
   "metadata": {
    "slideshow": {
     "slide_type": "subslide"
    },
    "tags": []
   },
   "outputs": [],
   "source": [
    "x = 5\n",
    "test = (x != 5)  #Not Equal, False Statement \n",
    "print(test)\n",
    "istestzero = (test == 0) # Here I test if the boolean variable with value False is the same as 0\n",
    "print(istestzero)"
   ]
  },
  {
   "cell_type": "markdown",
   "metadata": {
    "slideshow": {
     "slide_type": "slide"
    },
    "tags": []
   },
   "source": [
    "### Example 2 Logical Statements on numpy arrays \n",
    "### When applying logical statements to an array, we return a numpy **Boolean** array of equal size containing Boolean variables.  \n",
    "### Because the Boolean array is a numpy array, we can do *math* with it.  "
   ]
  },
  {
   "cell_type": "code",
   "execution_count": null,
   "metadata": {
    "slideshow": {
     "slide_type": "subslide"
    },
    "tags": []
   },
   "outputs": [],
   "source": [
    "x = np.array([1, 2, 3, 4, 5]) #make an array from a list 1,2,3,4,5\n",
    "print(x)\n",
    "test = (x < 3)  # use the less than logical operation \n",
    "print(test) #print the output of the numpy array \n",
    "test.dtype  # with numpy arrays we use the dtype method to find out the data type. "
   ]
  },
  {
   "cell_type": "code",
   "execution_count": null,
   "metadata": {
    "slideshow": {
     "slide_type": "subslide"
    },
    "tags": []
   },
   "outputs": [],
   "source": [
    "x = np.array([1, 2, 3, 4, 5]) #make an array from a list 1,2,3,4,5\n",
    "print(x)\n",
    "#How many elements of the array are less than 3? \n",
    "test = (x < 3)  # use the less than logical operation \n",
    "print(test)\n",
    "nless = np.sum(test) #Here I sum the boolean array, implicitly converting the True to 1 and False to 0\n",
    "print(nless)"
   ]
  },
  {
   "cell_type": "code",
   "execution_count": null,
   "metadata": {
    "slideshow": {
     "slide_type": "subslide"
    },
    "tags": []
   },
   "outputs": [],
   "source": [
    "x = np.array([1, 2, 3, 4, 5]) #make an array from a list 1,2,3,4,5\n",
    "print(x)\n",
    "#How many elements of the array are less than 3? \n",
    "test_less = (x < 3)  # use the less than logical operation \n",
    "print(test_less)\n",
    "test_greater = (x > 3)  # greater than\n",
    "print(test_greater)"
   ]
  },
  {
   "cell_type": "code",
   "execution_count": null,
   "metadata": {
    "slideshow": {
     "slide_type": "subslide"
    },
    "tags": []
   },
   "outputs": [],
   "source": [
    "x = np.array([1, 2, 3, 4, 5]) #make an array from a list 1,2,3,4,5\n",
    "print(x)\n",
    "#How many elements of the array are less than 3? \n",
    "test_less = (x < 3)  # use the less than logical operation \n",
    "print(test_less)\n",
    "test_greater_eq = (x >= 3)  # greater than or equal\n",
    "print(test_greater_eq)"
   ]
  },
  {
   "cell_type": "code",
   "execution_count": null,
   "metadata": {
    "slideshow": {
     "slide_type": "subslide"
    },
    "tags": []
   },
   "outputs": [],
   "source": [
    "x = np.array([1, 2, 3, 4, 5]) #make an array from a list 1,2,3,4,5\n",
    "print(x)\n",
    "test_less_eq = (x <= 3)  # less than or equal\n",
    "print(test_less_eq)\n",
    "test_greater = (x > 3)  # greater than\n",
    "print(test_greater)"
   ]
  },
  {
   "cell_type": "code",
   "execution_count": null,
   "metadata": {
    "slideshow": {
     "slide_type": "subslide"
    },
    "tags": []
   },
   "outputs": [],
   "source": [
    "x = np.array([1, 2, 3, 4, 5]) #make an array from a list 1,2,3,4,5\n",
    "print(x)\n",
    "test_eq = (x == 3)  # equal\n",
    "print(test_eq)\n",
    "test_neq = (x != 3)  # not equal\n",
    "print(test_neq)"
   ]
  },
  {
   "cell_type": "markdown",
   "metadata": {
    "slideshow": {
     "slide_type": "slide"
    },
    "tags": []
   },
   "source": [
    "### Logical complement, or logical_not\n",
    "\n",
    "### The complement of a boolean variable is the opposite state.  The complement of **True** is **False** and the complement of **False** is **True** \n",
    "\n",
    "### There are two ways to take the complement of a Boolean array.  One is the numpy method `logical_not` or by using the operator `~`\n"
   ]
  },
  {
   "cell_type": "code",
   "execution_count": null,
   "metadata": {
    "slideshow": {
     "slide_type": "subslide"
    },
    "tags": []
   },
   "outputs": [],
   "source": [
    "x = np.array([1, 2, 3, 4, 5]) #make an array from a list 1,2,3,4,5\n",
    "print(x)\n",
    "test_greater = (x > 3)  # greater than\n",
    "test_not_greater = np.logical_not(test_greater)\n",
    "print('test greater = ', test_greater)\n",
    "print('test greater complement  = ',test_not_greater)"
   ]
  },
  {
   "cell_type": "markdown",
   "metadata": {
    "slideshow": {
     "slide_type": "slide"
    },
    "tags": []
   },
   "source": [
    "## Rules of Logic - Set Theory Perspective\n",
    "\n",
    "### The rules of logic and set theory are important to understand in meaningfully evaluation logical statements. \n",
    "\n",
    "### We can view the array `x =[1 2 3 4 5]` as a **set**. This set defines a **space**, or universe.\n",
    "\n",
    "### Any of the logical statements uses a comparison operation to divide the space into two **subspaces**, one where the logical statement is **True**, and another where the logical statement is **False**.    \n",
    "\n",
    "### **The most important thing to remember is that the two subsets must combine to the original set**"
   ]
  },
  {
   "cell_type": "code",
   "execution_count": null,
   "metadata": {
    "slideshow": {
     "slide_type": "subslide"
    },
    "tags": []
   },
   "outputs": [],
   "source": [
    "x = np.array([1, 2, 3, 4, 5]) #make an array from a list 1,2,3,4,5\n",
    "print(x)\n",
    "test_equal = (x == 3)  # greater than\n",
    "test_not_equal = ~test_equal\n",
    "print('test equal  = ', test_equal)\n",
    "print('test equal complement  = ',test_not_equal)"
   ]
  },
  {
   "cell_type": "markdown",
   "metadata": {
    "slideshow": {
     "slide_type": "slide"
    },
    "tags": []
   },
   "source": [
    "## Creating Boolean Arrays\n",
    "\n",
    "### Manual Entry of a  Boolean Variable or Array \n",
    "\n",
    "### Sometimes we need to manually create Boolean variable or array.  There are two easy ways to do this \n"
   ]
  },
  {
   "cell_type": "code",
   "execution_count": null,
   "metadata": {
    "slideshow": {
     "slide_type": "subslide"
    },
    "tags": []
   },
   "outputs": [],
   "source": [
    "#Boolean variables\n",
    "boolean_var1 = True\n",
    "print(boolean_var1)\n",
    "boolean_var2 = bool(0)\n",
    "print(boolean_var2)"
   ]
  },
  {
   "cell_type": "code",
   "execution_count": null,
   "metadata": {
    "slideshow": {
     "slide_type": "subslide"
    },
    "tags": []
   },
   "outputs": [],
   "source": [
    "#Boolean Arrays\n",
    "boolean_array1 = [True,False,False,True]\n",
    "print(boolean_array1)\n",
    "boolean_numpy_array1 = np.array(boolean_array1)\n",
    "print(boolean_numpy_array1)"
   ]
  },
  {
   "cell_type": "code",
   "execution_count": null,
   "metadata": {
    "slideshow": {
     "slide_type": "subslide"
    },
    "tags": []
   },
   "outputs": [],
   "source": [
    "#Boolean arrays from 0 and 1\n",
    "integer_array = np.array([0,1,1,0])\n",
    "print(integer_array)\n",
    "boolean_array3 = np.array([0,1,1,0],dtype=bool)  # force the data type to boolean \n",
    "print(boolean_array3)"
   ]
  },
  {
   "cell_type": "markdown",
   "metadata": {
    "slideshow": {
     "slide_type": "slide"
    },
    "tags": []
   },
   "source": [
    "### Conversion to a Boolean Array - I can turn anything into a boolean array. \n",
    "### What are the rules? \n",
    "1. #### 0, None, False or empty strings ARE **False**\n",
    "2. #### Values other than 0, None, False or empty strings ARE **True**."
   ]
  },
  {
   "cell_type": "code",
   "execution_count": null,
   "metadata": {
    "slideshow": {
     "slide_type": "subslide"
    },
    "tags": []
   },
   "outputs": [],
   "source": [
    "strange_list = [1, 0.5, 0, 0.0, None, 'a', '', ' ',True, False]\n",
    "bool_arr = np.array(strange_list, dtype=bool)\n",
    "print(strange_list)\n",
    "print(bool_arr)"
   ]
  },
  {
   "cell_type": "markdown",
   "metadata": {
    "slideshow": {
     "slide_type": "slide"
    },
    "tags": []
   },
   "source": [
    "### Interpreted languages like Python, Matlab, R are easy to use because you can be careless like this and things still kind of work.  \n",
    "\n",
    "### **This is their strength AND their weakness**\n",
    "\n",
    "### Its really easy to have a mistake in your code and have your code seem to work in these languages.  "
   ]
  },
  {
   "cell_type": "markdown",
   "metadata": {
    "slideshow": {
     "slide_type": "slide"
    },
    "tags": []
   },
   "source": [
    "## Logical Statements to Compare Arrays\n",
    "\n",
    "### Logical Operators can be used to compare arrays of equal size and shape.  \n",
    "### Such comparisons proceed on an element by element basis and return a Boolean array "
   ]
  },
  {
   "cell_type": "code",
   "execution_count": null,
   "metadata": {
    "slideshow": {
     "slide_type": "subslide"
    },
    "tags": []
   },
   "outputs": [],
   "source": [
    "rng = random.default_rng(seed = 21)\n",
    "array_a = rng.integers(0,10,8) #array of random integers\n",
    "array_b = rng.integers(0,10,8)\n",
    "test = (array_a > array_b) # is a greater than b\n",
    "print(array_a)\n",
    "print(array_b)\n",
    "print(test)"
   ]
  },
  {
   "cell_type": "code",
   "execution_count": null,
   "metadata": {
    "slideshow": {
     "slide_type": "subslide"
    },
    "tags": []
   },
   "outputs": [],
   "source": [
    "### You can embed mathematical calculations into logical statements. \n",
    "x = np.array([1,2,3,4,5])\n",
    "y = 2**x\n",
    "z = x**2\n",
    "test = (y == z)\n",
    "print(x)\n",
    "print(y)\n",
    "print(z)\n",
    "print(test)\n",
    "onesteptest = (2**x == x**2)\n",
    "print(onesteptest)\n",
    "\n"
   ]
  },
  {
   "cell_type": "markdown",
   "metadata": {
    "slideshow": {
     "slide_type": "slide"
    },
    "tags": []
   },
   "source": [
    "## Boolean Operators \n",
    "\n",
    "### We can combine Logical Statements using **Boolean operators** to express more complex logical expressions. \n",
    "### Boolean Operators are operators that work on Boolean variables to create **compound** logical statements.  \n",
    "### This is equivalent to the idea arithmetic operators are operators that work on floating point numbers. \n"
   ]
  },
  {
   "cell_type": "markdown",
   "metadata": {},
   "source": [
    "###  `Not` (`~`) operator\n",
    "\n",
    "\n",
    "### We already introduced one Boolean operator with is ~ (NOT).  This Boolean operator flipped the value of the Boolean variable between True and False. \n"
   ]
  },
  {
   "cell_type": "code",
   "execution_count": null,
   "metadata": {},
   "outputs": [],
   "source": [
    "bool_array1 = np.array([0,0,0,1,1,0,1,0],dtype=bool)\n",
    "print(bool_array1)\n",
    "bool_array2 = ~bool_array1\n",
    "print(bool_array2)"
   ]
  },
  {
   "cell_type": "markdown",
   "metadata": {
    "slideshow": {
     "slide_type": "slide"
    },
    "tags": []
   },
   "source": [
    "### Table of Boolean Operators.\n",
    "\n",
    "### The following table summarizes the bitwise Boolean operators and their equivalent ufuncs:\n",
    "\n",
    "### There are 3 logical operators: `and`, `or`, `not` <br>\n",
    "\n",
    "<table><tbody><tr><th>Operator</th>\n",
    "\t\t\t<th>Meaning</th>\n",
    "\t\t\t<th>Example</th>\n",
    "\t\t</tr><tr><td>and</td>\n",
    "\t\t\t<td>True if both the operands are true</td>\n",
    "\t\t\t<td>x & y</td>\n",
    "\t\t</tr><tr><td>or </td>\n",
    "\t\t\t<td>True if either of the operands is true</td>\n",
    "\t\t\t<td>x | y</td>\n",
    "\t\t</tr><tr><td>not</td>\n",
    "\t\t\t<td>True if operand is false (complements the operand)</td>\n",
    "\t\t\t<td>~x</td>\n",
    "\t\t</tr></tbody></table>"
   ]
  },
  {
   "cell_type": "markdown",
   "metadata": {
    "slideshow": {
     "slide_type": "subslide"
    },
    "tags": []
   },
   "source": [
    "### **VERY IMPORTANT POINT**\n",
    "\n",
    "### You will read online about the `and` and `or` operators built in to Python. \n",
    "### Many students have wasted a lot of time trying to use this to discover that they dont work as expected on arrays. \n",
    "### Please use `&` for and `|` for or"
   ]
  },
  {
   "cell_type": "markdown",
   "metadata": {
    "slideshow": {
     "slide_type": "slide"
    },
    "tags": []
   },
   "source": [
    "\n",
    "### Combining Boolean operators on arrays can lead to a wide range of efficient logical operations"
   ]
  },
  {
   "cell_type": "markdown",
   "metadata": {
    "slideshow": {
     "slide_type": "slide"
    },
    "tags": []
   },
   "source": [
    "### Example 1 - & (AND)"
   ]
  },
  {
   "cell_type": "code",
   "execution_count": null,
   "metadata": {
    "slideshow": {
     "slide_type": "subslide"
    },
    "tags": []
   },
   "outputs": [],
   "source": [
    "rng = random.default_rng(seed = 1967)\n",
    "a = rng.integers(-9,10,12) #make integers from -9 to 9 \n",
    "print(a)\n",
    "x = (a < 5) #find the integers less than 5\n",
    "print('x = ',x) #This is a Boolean which tells where in a I can find x\n",
    "y = (a > -5) #find the integers greater than -5\n",
    "print('y = ',y) #This is a Boolean which tells me where in a I can find y "
   ]
  },
  {
   "cell_type": "markdown",
   "metadata": {
    "slideshow": {
     "slide_type": "subslide"
    },
    "tags": []
   },
   "source": [
    "### To find the integers between -5 and 5 we need to take the **intersection** of the subset of a represented by x with the subset of a represented by y. \n",
    "### In math, we would write this is as $x \\cap y$\n",
    "### In logic, this is known as the **and** operation.\n",
    "### In python, we can carry this out with an `&` operator"
   ]
  },
  {
   "cell_type": "code",
   "execution_count": null,
   "metadata": {
    "slideshow": {
     "slide_type": "subslide"
    },
    "tags": []
   },
   "outputs": [],
   "source": [
    "z1 = x & y #The & symbol requires that both conditional statements be true \n",
    "print(z1)"
   ]
  },
  {
   "cell_type": "markdown",
   "metadata": {
    "slideshow": {
     "slide_type": "slide"
    },
    "tags": []
   },
   "source": [
    "### Example 2 - | (OR)"
   ]
  },
  {
   "cell_type": "code",
   "execution_count": null,
   "metadata": {
    "slideshow": {
     "slide_type": "subslide"
    },
    "tags": []
   },
   "outputs": [],
   "source": [
    "a = rng.integers(-9,10,12) #make integers from -9 to 9 \n",
    "print(a)\n",
    "x = (a > 5) #find the integers greater than 6\n",
    "print('x = ',x) #This is a Boolean which tells where in a I can find x\n",
    "y = (a < -5) #find the integers less than -6\n",
    "print('y = ',y) #This is a Boolean which tells me where in a I can find y "
   ]
  },
  {
   "cell_type": "markdown",
   "metadata": {
    "slideshow": {
     "slide_type": "subslide"
    },
    "tags": []
   },
   "source": [
    "### To find the integers *either* greater than 6 *or* less than -6 we need to take the **union** of the subset of a represented by x with the subset of a represented by y. \n",
    "### In math, we would write this is as $x \\cup y$\n",
    "### In logic, this is known as an **or** operation.\n",
    "### In python, we can carry this out with an `|` operator"
   ]
  },
  {
   "cell_type": "code",
   "execution_count": null,
   "metadata": {
    "slideshow": {
     "slide_type": "subslide"
    },
    "tags": []
   },
   "outputs": [],
   "source": [
    "z1 = (x | y) #The | symbol requires that either one of the conditional statements be true \n",
    "print(z1)"
   ]
  },
  {
   "cell_type": "markdown",
   "metadata": {
    "slideshow": {
     "slide_type": "slide"
    },
    "tags": []
   },
   "source": [
    "## Working with Boolean Arrays\n",
    "\n",
    "### Why do we want to make use of Boolean arrays?  \n",
    "### Here I will show some useful operations that Boolean arrays will allow us to do.  And then, I will show an example of how we make use of Boolean to organize data.  "
   ]
  },
  {
   "cell_type": "markdown",
   "metadata": {
    "slideshow": {
     "slide_type": "slide"
    },
    "tags": []
   },
   "source": [
    "### Counting entries\n",
    "\n",
    "### To count the number of **True** entries in a Boolean array, `np.count_nonzero` is useful:"
   ]
  },
  {
   "cell_type": "code",
   "execution_count": null,
   "metadata": {
    "slideshow": {
     "slide_type": "subslide"
    },
    "tags": []
   },
   "outputs": [],
   "source": [
    "x = rng.integers(0,9,12)\n",
    "print(x)\n",
    "print(x<6)\n",
    "# how many values less than 6?\n",
    "n6 = np.count_nonzero(x < 6)\n",
    "print(n6)"
   ]
  },
  {
   "cell_type": "markdown",
   "metadata": {
    "slideshow": {
     "slide_type": "subslide"
    },
    "tags": []
   },
   "source": [
    "### We see that `count_nonzero` counted the number of entries that were **True** in the entire matrix. \n",
    "### Python interprets **True** as having the numeric value of 1, and **False** as zero.  \n",
    "### Another way to get at this information is to use `np.sum`:"
   ]
  },
  {
   "cell_type": "code",
   "execution_count": null,
   "metadata": {
    "slideshow": {
     "slide_type": "subslide"
    },
    "tags": []
   },
   "outputs": [],
   "source": [
    "nsum6 = np.sum(x < 6)\n",
    "print(nsum6)"
   ]
  },
  {
   "cell_type": "markdown",
   "metadata": {
    "slideshow": {
     "slide_type": "slide"
    },
    "tags": []
   },
   "source": [
    "### Global array tests\n",
    "### `np.any` and `np.all` can be used to test the entire array for whether *any* element is **True** or *all* elements are true \n"
   ]
  },
  {
   "cell_type": "code",
   "execution_count": null,
   "metadata": {
    "slideshow": {
     "slide_type": "subslide"
    },
    "tags": []
   },
   "outputs": [],
   "source": [
    "# are there any values greater than 8?\n",
    "print(x)\n",
    "np.any(x > 8)"
   ]
  },
  {
   "cell_type": "code",
   "execution_count": null,
   "metadata": {
    "slideshow": {
     "slide_type": "subslide"
    },
    "tags": []
   },
   "outputs": [],
   "source": [
    "# are there any values less than zero?\n",
    "print(x)\n",
    "np.any(x < 0)"
   ]
  },
  {
   "cell_type": "code",
   "execution_count": null,
   "metadata": {
    "slideshow": {
     "slide_type": "subslide"
    },
    "tags": []
   },
   "outputs": [],
   "source": [
    "# are all values less than 10?\n",
    "print(x)\n",
    "np.all(x < 10)"
   ]
  },
  {
   "cell_type": "code",
   "execution_count": null,
   "metadata": {
    "slideshow": {
     "slide_type": "subslide"
    },
    "tags": []
   },
   "outputs": [],
   "source": [
    "# are all values equal to 6?\n",
    "print(x)\n",
    "np.all(x == 6)"
   ]
  },
  {
   "cell_type": "markdown",
   "metadata": {
    "slideshow": {
     "slide_type": "slide"
    },
    "tags": []
   },
   "source": [
    "### Boolean Indexing \n",
    "\n",
    "### We can make use of the Boolean variable that is the results of a logical statement as the **index** into a variable to extract the variables that meet the condition of the logical statement.   \n",
    "\n",
    "### We often will want to return the **index** into an array that meets a logical condition. "
   ]
  },
  {
   "cell_type": "code",
   "execution_count": null,
   "metadata": {
    "slideshow": {
     "slide_type": "subslide"
    },
    "tags": []
   },
   "outputs": [],
   "source": [
    "my_array = rng.integers(0,10,20)\n",
    "print(my_array)\n",
    "#test if the array entries are bigger than 5\n",
    "test = (my_array > 5)\n",
    "print(test)\n",
    "#how many values are there greater than 5 \n",
    "count = np.sum(test)\n",
    "print(count)\n",
    "my_greater_than_5_array = my_array[test]\n",
    "print(my_greater_than_5_array)\n",
    "np.size(my_greater_than_5_array)"
   ]
  },
  {
   "cell_type": "code",
   "execution_count": null,
   "metadata": {},
   "outputs": [],
   "source": [
    "onestep_greater_than_5 = my_array[my_array > 5]\n",
    "print(onestep_greater_than_5)"
   ]
  },
  {
   "cell_type": "markdown",
   "metadata": {
    "slideshow": {
     "slide_type": "subslide"
    },
    "tags": []
   },
   "source": [
    "### Suppose my task is to find the mean of all entries in the array greater than 5. \n",
    "### I can do this with a simple logical statement.  \n",
    "### Its really important to look at this and see it in spoken language terms. "
   ]
  },
  {
   "cell_type": "code",
   "execution_count": null,
   "metadata": {
    "slideshow": {
     "slide_type": "subslide"
    },
    "tags": []
   },
   "outputs": [],
   "source": [
    "bigmean = np.mean(my_array[my_array > 5])\n",
    "print(bigmean)\n",
    "                  "
   ]
  },
  {
   "cell_type": "markdown",
   "metadata": {
    "slideshow": {
     "slide_type": "slide"
    },
    "tags": []
   },
   "source": [
    "## Indexing with Boolean Arrays "
   ]
  },
  {
   "cell_type": "markdown",
   "metadata": {
    "slideshow": {
     "slide_type": "subslide"
    },
    "tags": []
   },
   "source": [
    "### Data is rarely delivered to you in the organized in the manner that you want for data analysis. \n",
    "\n",
    "### For example,consider a behavioral experiment with *3* conditions.  In a typical experimental protocol, the subject will be presented a random condition on each trial. The subjects response will be recorded on each trial. \n",
    "\n",
    "### We might then at the end expect to have a data file, where the data has been recorded continuously in the experiment IN THE ORDER OF EXPERIMENT, not organized by condition.  "
   ]
  },
  {
   "cell_type": "code",
   "execution_count": null,
   "metadata": {
    "slideshow": {
     "slide_type": "subslide"
    },
    "tags": []
   },
   "outputs": [],
   "source": [
    "rtdata = pd.read_excel('rtdata.xlsx')\n",
    "rtdata.keys()"
   ]
  },
  {
   "cell_type": "code",
   "execution_count": null,
   "metadata": {
    "scrolled": true,
    "slideshow": {
     "slide_type": "subslide"
    },
    "tags": []
   },
   "outputs": [],
   "source": [
    "print(rtdata)"
   ]
  },
  {
   "cell_type": "markdown",
   "metadata": {
    "slideshow": {
     "slide_type": "subslide"
    },
    "tags": []
   },
   "source": [
    "### Before we get started, lets copy the values from the DataFrame to variables \n",
    "### I always go ahead and convert them into numpy arrays "
   ]
  },
  {
   "cell_type": "code",
   "execution_count": null,
   "metadata": {
    "slideshow": {
     "slide_type": "subslide"
    },
    "tags": []
   },
   "outputs": [],
   "source": [
    "trialnumber = np.array(rtdata['trialnumber'])\n",
    "condition = np.array(rtdata['condition'])\n",
    "responsetime = np.array(rtdata['responsetime'])\n"
   ]
  },
  {
   "cell_type": "markdown",
   "metadata": {
    "slideshow": {
     "slide_type": "subslide"
    },
    "tags": []
   },
   "source": [
    "### `unique` values\n",
    "\n",
    "### Now, it would be quite useful to know how many conditions there are.  From looking at the output of print, you might think there are 3 - 1,2,3.  But only 10 values are displayed here.  \n",
    "\n",
    "### A really useful function in numpy is `unique`"
   ]
  },
  {
   "cell_type": "code",
   "execution_count": null,
   "metadata": {},
   "outputs": [],
   "source": [
    "the_conditions = np.unique(condition)\n",
    "print(the_conditions)"
   ]
  },
  {
   "cell_type": "markdown",
   "metadata": {
    "slideshow": {
     "slide_type": "slide"
    },
    "tags": []
   },
   "source": [
    "### TASK: Compute the mean response time for each condition.  \n",
    "\n",
    "### USE LOGICAL STATEMENTS TO CREATE BOOLEAN VARIABLES THAT IDENTIFY THE TRIALS CORRESPONDING TO EACH CONDITION.   "
   ]
  },
  {
   "cell_type": "code",
   "execution_count": null,
   "metadata": {
    "slideshow": {
     "slide_type": "subslide"
    },
    "tags": []
   },
   "outputs": [],
   "source": [
    "rt0 = np.mean(responsetime[condition == the_conditions[0]])\n",
    "rt1 = np.mean(responsetime[condition == the_conditions[1]])\n",
    "rt2 = np.mean(responsetime[condition == the_conditions[2]])\n",
    "meanrt = [rt0,rt1,rt2]\n",
    "print(meanrt)"
   ]
  },
  {
   "cell_type": "markdown",
   "metadata": {},
   "source": []
  }
 ],
 "metadata": {
  "interpreter": {
   "hash": "fda1d92c402c9d5e0550eab7f590eb1c0582e487619314e6aa12d68c281f0580"
  },
  "kernelspec": {
   "display_name": "Python 3 (ipykernel)",
   "language": "python",
   "name": "python3"
  },
  "language_info": {
   "codemirror_mode": {
    "name": "ipython",
    "version": 3
   },
   "file_extension": ".py",
   "mimetype": "text/x-python",
   "name": "python",
   "nbconvert_exporter": "python",
   "pygments_lexer": "ipython3",
   "version": "3.11.3"
  }
 },
 "nbformat": 4,
 "nbformat_minor": 4
}
