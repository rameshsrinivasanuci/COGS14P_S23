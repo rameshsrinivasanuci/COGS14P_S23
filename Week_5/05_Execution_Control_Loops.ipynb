{
 "cells": [
  {
   "cell_type": "markdown",
   "metadata": {
    "slideshow": {
     "slide_type": "slide"
    },
    "tags": []
   },
   "source": [
    "# **Lecture** Execution Control with `For` and `While` Loops\n",
    "\n",
    "## Loops are a fundamental construct of execution control. Loops are a way of controlling repetition of code, i.e., allow the same piece of code to run multiple times. \n",
    "\n",
    "## Two repetion structures in Python are `for` loops and `while` loops. \n",
    "\n",
    "## `for` loops run a set number of times.  In a typical application, a block of code needs to be applied to the elements of a list or an array or list one at a time.    The number of repetitions of the code is determined in advance. \n",
    "\n",
    "## `while` loops run as long as a specific logical condition is true. The key difference between `while` and `for` loops is that *the number of repetitions in a while loop is unknown* \n"
   ]
  },
  {
   "cell_type": "code",
   "execution_count": 1,
   "metadata": {
    "slideshow": {
     "slide_type": "slide"
    },
    "tags": []
   },
   "outputs": [],
   "source": [
    "import numpy as np \n",
    "from numpy import random\n",
    "from matplotlib import pyplot as plt\n",
    "#Lets start the random number generator\n",
    "rng = random.default_rng(seed = 9876)\n"
   ]
  },
  {
   "cell_type": "markdown",
   "metadata": {
    "slideshow": {
     "slide_type": "slide"
    },
    "tags": []
   },
   "source": [
    "## 'For' Loop \n",
    "\n",
    "### A `for` loop is a repetition structure where a code block runs a specified number of times.\n",
    "\n",
    "    for var in the_range_of_var:\n",
    "        do this\n",
    "        and this \n",
    "        and this \n",
    "    \n",
    "### the_range_of_var can be given in many forms.  The most common way is the `range` command, but it can also be a **list** or a numpy **array** or even a **string**.\n",
    "\n",
    "### The most important difference between a for loop and while loop is that a for loop **automatically increments the value of var to the next element in therange** in each repetition of the code block\n",
    "\n",
    "### As we will see in the examples below var is often used an index variable that indexes into arrays sequentially. "
   ]
  },
  {
   "cell_type": "markdown",
   "metadata": {
    "slideshow": {
     "slide_type": "slide"
    },
    "tags": []
   },
   "source": [
    "### Range Function\n",
    "\n",
    "#### creates an integer list spanning a *range*.  Very useful for indexing and `for` loops. "
   ]
  },
  {
   "cell_type": "code",
   "execution_count": 2,
   "metadata": {
    "slideshow": {
     "slide_type": "subslide"
    },
    "tags": []
   },
   "outputs": [
    {
     "name": "stdout",
     "output_type": "stream",
     "text": [
      "0\n",
      "1\n",
      "2\n"
     ]
    }
   ],
   "source": [
    "for i in range(3):\n",
    "    print(i)"
   ]
  },
  {
   "cell_type": "markdown",
   "metadata": {
    "slideshow": {
     "slide_type": "subslide"
    },
    "tags": []
   },
   "source": [
    "\n",
    "### Python's `range` function can be customized by supplying up to three arguments. The general format of the range function is below:\n",
    "\n",
    "    range(start,stop,step)\n",
    "    \n",
    "### *start*, *stop*, *step* must be **integers**\n"
   ]
  },
  {
   "cell_type": "code",
   "execution_count": 3,
   "metadata": {
    "slideshow": {
     "slide_type": "subslide"
    },
    "tags": []
   },
   "outputs": [
    {
     "name": "stdout",
     "output_type": "stream",
     "text": [
      "0\n",
      "2\n",
      "4\n"
     ]
    }
   ],
   "source": [
    "for i in range(0,6,2):\n",
    "    print(i)"
   ]
  },
  {
   "cell_type": "code",
   "execution_count": 4,
   "metadata": {
    "scrolled": true,
    "slideshow": {
     "slide_type": "subslide"
    },
    "tags": []
   },
   "outputs": [
    {
     "name": "stdout",
     "output_type": "stream",
     "text": [
      "range(0, 6, 2)\n"
     ]
    }
   ],
   "source": [
    "print(range(0,6,2))\n",
    "### That was kind of dissatisfying.  Range is apparently an object"
   ]
  },
  {
   "cell_type": "code",
   "execution_count": 5,
   "metadata": {
    "slideshow": {
     "slide_type": "subslide"
    },
    "tags": []
   },
   "outputs": [
    {
     "name": "stdout",
     "output_type": "stream",
     "text": [
      "[0, 2, 4]\n",
      "[0 2 4]\n"
     ]
    }
   ],
   "source": [
    "x = list(range(0,6,2))\n",
    "print(x)\n",
    "y = np.array(range(0,6,2))\n",
    "print(y)\n",
    "### That's better.  We can turn into a list.  Or, a numpy array. \n",
    "### This can be useful when you are figuring out how to use range\n",
    "### Usually, we just call range and dont examine its contents. "
   ]
  },
  {
   "cell_type": "code",
   "execution_count": 6,
   "metadata": {
    "slideshow": {
     "slide_type": "subslide"
    },
    "tags": []
   },
   "outputs": [
    {
     "name": "stdout",
     "output_type": "stream",
     "text": [
      "use arange\n",
      "0\n",
      "2\n",
      "4\n",
      "step in fractions\n",
      "0.0\n",
      "0.25\n",
      "0.5\n",
      "0.75\n",
      "1.0\n",
      "1.25\n",
      "1.5\n",
      "1.75\n"
     ]
    }
   ],
   "source": [
    "### Can I use numpy's arange instead of range to index a loop?  Yes! \n",
    "print('use arange')\n",
    "for i in np.arange(0,6,2):\n",
    "    print(i)\n",
    "## Keep this in mind if you need to step in fractions.But usually we will work with range.\n",
    "print('step in fractions')\n",
    "for i in np.arange(0,2,0.25):\n",
    "    print(i)"
   ]
  },
  {
   "cell_type": "markdown",
   "metadata": {
    "slideshow": {
     "slide_type": "subslide"
    },
    "tags": []
   },
   "source": [
    "### For loops can index over lists or arrays "
   ]
  },
  {
   "cell_type": "code",
   "execution_count": 7,
   "metadata": {
    "slideshow": {
     "slide_type": "subslide"
    },
    "tags": []
   },
   "outputs": [
    {
     "name": "stdout",
     "output_type": "stream",
     "text": [
      "index by list\n",
      "4\n",
      "7\n",
      "3\n",
      "5\n",
      "index into list\n",
      "4\n",
      "7\n",
      "3\n",
      "5\n"
     ]
    }
   ],
   "source": [
    "mylist = [4,7,3,5]\n",
    "print('index by list')\n",
    "for i in mylist:\n",
    "    print(i)\n",
    "# the other way to do it is to use range over the length of the list (4):\n",
    "print('index into list')\n",
    "for i in range(4): \n",
    "    print(mylist[i])"
   ]
  },
  {
   "cell_type": "markdown",
   "metadata": {
    "slideshow": {
     "slide_type": "slide"
    },
    "tags": []
   },
   "source": [
    "## Organizing input and output arrays with a for loop. \n",
    "\n",
    "### In this section we will discuss how indexing in a loop can be used ot interact with the looping variable of an for loop in very useful ways.\n",
    "\n",
    "### These examples are *NOT* the best use cases of for loops, but are cases where its easy to understand what the loop is doing.  "
   ]
  },
  {
   "cell_type": "markdown",
   "metadata": {
    "slideshow": {
     "slide_type": "subslide"
    },
    "tags": []
   },
   "source": [
    "### Example: Projecting your bank account in 10years \n",
    "\n",
    "### Suppose you have $500 in your bank account and interest rate is 6.0\\% compounded annually. Write a for loop that will compute how much you will have in 5 years. \n",
    "\n",
    "### **Yes, you can do this with a compound interest formula** Bear with me.  "
   ]
  },
  {
   "cell_type": "code",
   "execution_count": 8,
   "metadata": {
    "slideshow": {
     "slide_type": "subslide"
    },
    "tags": []
   },
   "outputs": [
    {
     "name": "stdout",
     "output_type": "stream",
     "text": [
      "Balance of  895.4238482714267 after  10 years\n"
     ]
    }
   ],
   "source": [
    "nyears = 10\n",
    "# number of years\n",
    "interest = 0.06 # interest rate \n",
    "balance = 500 # starting balance\n",
    "for year in range(nyears):\n",
    "    balance = balance+interest*balance\n",
    "print('Balance of ', balance, 'after ', nyears, 'years')\n",
    "    "
   ]
  },
  {
   "cell_type": "markdown",
   "metadata": {
    "slideshow": {
     "slide_type": "subslide"
    },
    "tags": []
   },
   "source": [
    "### Suppose I wanted to save the output for each year, to make a graph. \n",
    "### Since I know the loop has 5 iterations corresponding to the 5 years\n"
   ]
  },
  {
   "cell_type": "code",
   "execution_count": 9,
   "metadata": {
    "slideshow": {
     "slide_type": "subslide"
    },
    "tags": []
   },
   "outputs": [
    {
     "name": "stdout",
     "output_type": "stream",
     "text": [
      "balance =  [500, 530.0, 561.8, 595.5079999999999, 631.2384799999999, 669.1127887999999, 709.2595561279999, 751.8151294956799, 796.9240372654207, 844.739479501346, 895.4238482714267]\n"
     ]
    }
   ],
   "source": [
    "nyears = 10# number of years\n",
    "balance = list() #notice I do n+1 here.  This is because year 0 is the first value and then \n",
    "                        # I want to interate n more years. \n",
    "interest = 0.06 # interest rate \n",
    "balance.append(500) # starting balance at year 0\n",
    "for year in range(nyears):  #\n",
    "    newbalance = balance[year]+interest*balance[year]\n",
    "    balance.append(newbalance)\n",
    "print('balance = ', balance)"
   ]
  },
  {
   "cell_type": "code",
   "execution_count": 10,
   "metadata": {
    "slideshow": {
     "slide_type": "subslide"
    },
    "tags": []
   },
   "outputs": [
    {
     "data": {
      "image/png": "[encoded data removed]",
      "text/plain": [
       "<Figure size 300x300 with 1 Axes>"
      ]
     },
     "metadata": {},
     "output_type": "display_data"
    }
   ],
   "source": [
    "### Let's make a nice plot of it.  \n",
    "fig = plt.figure(figsize = (3,3))\n",
    "a = fig.add_axes([0,0,1,1])\n",
    "a.plot(np.arange(0,nyears+1,1),balance,'ro-') # notice I control the x axis variable here using np.arange to go from 0 to 5\n",
    "a.set_xlabel('Year',fontsize = 14)\n",
    "a.set_ylabel('Balance ($)',fontsize=14)\n",
    "plt.show()"
   ]
  },
  {
   "cell_type": "markdown",
   "metadata": {
    "slideshow": {
     "slide_type": "subslide"
    },
    "tags": []
   },
   "source": [
    "### What if interest rate varies over the next 10 years? So that the interest rate for each of the five years is is [6\\%, 8\\%,4\\%,4\\%,8\\% 6\\%, 7\\%,5\\%,5\\%,7\\%]"
   ]
  },
  {
   "cell_type": "code",
   "execution_count": 12,
   "metadata": {
    "slideshow": {
     "slide_type": "subslide"
    },
    "tags": []
   },
   "outputs": [],
   "source": [
    "\n",
    "interest = np.array([0.06,0.08,0.04,0.04,0.08,0.06,0.07,0.05,0.05,0.07]) # interest rate \n",
    "nyears = np.size(interest) # I determined the number of years from the lenght of interest using the size function\n",
    "balance = list()\n",
    "balance.append(500) # starting balance\n",
    "for year in range(nyears):\n",
    "    newbalance =  balance[year]+interest[year]*balance[year] #notice that I use year here as an index into interest\n",
    "                                                                   #and into balance \n",
    "    balance.append(newbalance)\n",
    "    "
   ]
  },
  {
   "cell_type": "code",
   "execution_count": 13,
   "metadata": {
    "slideshow": {
     "slide_type": "subslide"
    },
    "tags": []
   },
   "outputs": [
    {
     "data": {
      "image/png": "[encoded data removed]",
      "text/plain": [
       "<Figure size 640x480 with 1 Axes>"
      ]
     },
     "metadata": {},
     "output_type": "display_data"
    }
   ],
   "source": [
    "### Let's make a graph again \n",
    "fig = plt.figure()\n",
    "a = fig.add_axes([0,0,1,1])\n",
    "a.plot(np.arange(0,nyears+1,1),balance,'ro-') # notice I control the x axis variable here using np.arange to go from 0 to 11\n",
    "a.set_xlabel('Year',fontsize = 20)\n",
    "a.set_ylabel('Balance ($)',fontsize=20)\n",
    "plt.show()"
   ]
  },
  {
   "cell_type": "markdown",
   "metadata": {
    "slideshow": {
     "slide_type": "slide"
    },
    "tags": []
   },
   "source": [
    "## `While` Loops\n",
    "\n",
    "### A `while` loop is a type of loop that runs as long as a *logical condition* is **True**. When the logical condition becomes **False**, the loop stops running. The general form of a while loop in Python is below:\n",
    "\n",
    "    while logical_statement: \n",
    "        do this\n",
    "        and that\n",
    "        and that \n",
    "        AND DO SOMETHING THAT POSSIBLY CHANGES THE STATE OF THE LOGICAL STATEMENT\n",
    "\n"
   ]
  },
  {
   "cell_type": "code",
   "execution_count": 14,
   "metadata": {
    "scrolled": true,
    "slideshow": {
     "slide_type": "subslide"
    },
    "tags": []
   },
   "outputs": [
    {
     "name": "stdout",
     "output_type": "stream",
     "text": [
      "0\n",
      "1\n",
      "2\n",
      "3\n"
     ]
    }
   ],
   "source": [
    "# Example 1\n",
    "i = 0   #since i is in the logical statement, it must be set to an initial value \n",
    "while i<4:  # this is the conditional statement which controls execution\n",
    "    print(i)\n",
    "    i = i+1 #this is a critical line, as it updates the value of i\n"
   ]
  },
  {
   "cell_type": "markdown",
   "metadata": {
    "slideshow": {
     "slide_type": "slide"
    },
    "tags": []
   },
   "source": [
    "### CRITICAL STEP IN WHILE LOOPS\n",
    "\n",
    "### There are three critical pieces to the while loop.  \n",
    "* #### First, the variable(s) that will be used in the logical statement must be initialized to some value.  \n",
    "* #### Second, a while statement performs execution control based on a logical statement being true.  \n",
    "* #### Third, inside the while loop, the variable(s) used in the logical statement must be updated to new values \n",
    "\n",
    "### When making use of a `while` loop it is critical that there always be a line inside the while loop that updates whatever is being tested by the logical statement. \n",
    "\n",
    "### If that line is missing, the while loop will become an **infinite** loop and the code will only stop by an act of ***VIOLENCE*** by you against either your jupyter notebook server, or in a worst case, against your computer (hard reboot).  "
   ]
  },
  {
   "cell_type": "markdown",
   "metadata": {
    "slideshow": {
     "slide_type": "subslide"
    },
    "tags": []
   },
   "source": [
    "### Example 2\n",
    "\n",
    "### Sometimes, its easy to just use a Boolean Indicator variable to control the while loop. \n",
    "\n",
    "### This can be useful if the conditions that end the while loop are complex. \n",
    "\n",
    "### Here I rewrite the loop above with an indicator variable. "
   ]
  },
  {
   "cell_type": "code",
   "execution_count": 15,
   "metadata": {
    "slideshow": {
     "slide_type": "subslide"
    },
    "tags": []
   },
   "outputs": [
    {
     "name": "stdout",
     "output_type": "stream",
     "text": [
      "0\n",
      "1\n",
      "2\n",
      "3\n"
     ]
    }
   ],
   "source": [
    "i = 0\n",
    "keep_looping = True\n",
    "while keep_looping:\n",
    "    print(i)\n",
    "    i = i+1\n",
    "    if i >= 4:\n",
    "        keep_looping = False\n"
   ]
  },
  {
   "cell_type": "markdown",
   "metadata": {
    "slideshow": {
     "slide_type": "subslide"
    },
    "tags": []
   },
   "source": [
    "### Example 3.  Sum of Random Numbers to a Limit. \n",
    "\n",
    "### This example shows a classical type of problem we might solve with a while loop where we are adding values to a counter to a limit.  \n"
   ]
  },
  {
   "cell_type": "code",
   "execution_count": 16,
   "metadata": {
    "slideshow": {
     "slide_type": "subslide"
    },
    "tags": []
   },
   "outputs": [
    {
     "name": "stdout",
     "output_type": "stream",
     "text": [
      "total =  101\n",
      "nsamples =  21\n"
     ]
    }
   ],
   "source": [
    "limit = 100  #set the limit \n",
    "total = 0  #start at 0\n",
    "nsamples = 0 #start a counter to keep track of the number of samples\n",
    "while total < limit:\n",
    "    sample = rng.integers(0,10) #get one random number from a normal distribution\n",
    "    total = total + sample  # this updates the value of total \n",
    "    nsamples = nsamples + 1 # this keeps track of the number of samples taken\n",
    "print('total = ',total)\n",
    "print('nsamples = ',nsamples)\n"
   ]
  },
  {
   "cell_type": "code",
   "execution_count": 17,
   "metadata": {
    "slideshow": {
     "slide_type": "subslide"
    },
    "tags": []
   },
   "outputs": [
    {
     "name": "stdout",
     "output_type": "stream",
     "text": [
      "total =  102\n",
      "nsamples =  18\n",
      "totallist =  [0, 5, 8, 11, 15, 23, 32, 39, 47, 56, 63, 69, 78, 81, 81, 87, 96, 102]\n"
     ]
    }
   ],
   "source": [
    "### I could save a bit more information from this loop, by actually saving out the running values of total on each step.\n",
    "limit = 100  #set the limit \n",
    "total = 0  #start at 0\n",
    "totallist = list()\n",
    "nsamples = 0 #start a counter to keep track of the number of samples\n",
    "while total < limit:\n",
    "    sample = rng.integers(0,10) #get one random number from a normal distribution\n",
    "    total = total + sample  # this updates the value of total \n",
    "    nsamples = nsamples + 1 # this keeps track of the number of samples taken\n",
    "    totallist.append(total) # I append the current value of total to the list.  \n",
    "print('total = ',total)\n",
    "print('nsamples = ',nsamples)\n",
    "print('totallist = ', totallist)"
   ]
  },
  {
   "cell_type": "code",
   "execution_count": 18,
   "metadata": {
    "slideshow": {
     "slide_type": "subslide"
    },
    "tags": []
   },
   "outputs": [
    {
     "data": {
      "image/png": "[encoded data removed]",
      "text/plain": [
       "<Figure size 400x300 with 1 Axes>"
      ]
     },
     "metadata": {},
     "output_type": "display_data"
    }
   ],
   "source": [
    "fig = plt.figure(figsize = (4,3)) # I selected the figure dimension here \n",
    "ax = fig.add_axes([0,0,1,1])\n",
    "ax.plot(totallist)  # i use the quick an dirty way to make a plot here\n",
    "ax.set_xlabel('number of samples',fontsize = 14)\n",
    "ax.set_ylabel('Total Value',fontsize = 14)\n",
    "plt.grid(True)\n",
    "plt.show()\n"
   ]
  },
  {
   "cell_type": "code",
   "execution_count": null,
   "metadata": {
    "slideshow": {
     "slide_type": "subslide"
    },
    "tags": []
   },
   "outputs": [],
   "source": [
    "nsample_list = np.arange(1,nsamples+1,1) # i made a numpy array from 1 to nsamples in steps of 1\n",
    "fig = plt.figure(figsize = (4,3)) # I selected the figure dimension here \n",
    "ax = fig.add_axes([0,0,1,1])\n",
    "ax.plot(nsample_list,totallist)  # i use the quick an dirty way to make a plot here\n",
    "ax.set_xlabel('number of samples',fontsize = 14)\n",
    "ax.set_ylabel('Total Value',fontsize = 14)\n",
    "plt.grid(True)\n",
    "plt.show()\n",
    "\n"
   ]
  },
  {
   "cell_type": "markdown",
   "metadata": {
    "slideshow": {
     "slide_type": "subslide"
    },
    "tags": []
   },
   "source": [
    "### Example 3.  When will I have a thousand dollars? \n",
    "\n",
    "### Suppose you have 100 dollars.  You put in the bank, and each year they give you 2.5% interest (compounded annually).  How many years will it take for you to have more than 1000 dollars. \n"
   ]
  },
  {
   "cell_type": "code",
   "execution_count": 20,
   "metadata": {
    "slideshow": {
     "slide_type": "subslide"
    },
    "tags": []
   },
   "outputs": [
    {
     "name": "stdout",
     "output_type": "stream",
     "text": [
      "Balance of  1018.6930584867284 after  94 years\n"
     ]
    }
   ],
   "source": [
    "### What is the answer to the question? In terms of the code?\n",
    "interest = 0.025 # interest rate \n",
    "balance = 100 # starting balance\n",
    "nyears = 0 \n",
    "while balance <= 1000: #greater than 1000!  \n",
    "    balance = balance+interest*balance\n",
    "    nyears = nyears+1\n",
    "    #write the code! \n",
    "print('Balance of ', balance, 'after ', nyears, 'years')\n",
    "    "
   ]
  },
  {
   "cell_type": "code",
   "execution_count": null,
   "metadata": {},
   "outputs": [],
   "source": []
  }
 ],
 "metadata": {
  "interpreter": {
   "hash": "fda1d92c402c9d5e0550eab7f590eb1c0582e487619314e6aa12d68c281f0580"
  },
  "kernelspec": {
   "display_name": "Python 3 (ipykernel)",
   "language": "python",
   "name": "python3"
  },
  "language_info": {
   "codemirror_mode": {
    "name": "ipython",
    "version": 3
   },
   "file_extension": ".py",
   "mimetype": "text/x-python",
   "name": "python",
   "nbconvert_exporter": "python",
   "pygments_lexer": "ipython3",
   "version": "3.9.16"
  }
 },
 "nbformat": 4,
 "nbformat_minor": 4
}
