{
 "cells": [
  {
   "cell_type": "markdown",
   "metadata": {
    "slideshow": {
     "slide_type": "slide"
    },
    "tags": []
   },
   "source": [
    "# **Lecture** Execution Control II\n",
    "\n",
    "## One of the fundamental aspects of a program is *execution control*.  \n",
    "## We introduced last week the notion of a loop, and execution control in a loop. \n",
    "## In this lecture, I will review execution control in a `for` or `while` loop. \n",
    "## Then I will introduce `if`, `if-else`, and `if-elif-else`, conditional statements. \n"
   ]
  },
  {
   "cell_type": "code",
   "execution_count": 1,
   "metadata": {
    "slideshow": {
     "slide_type": "subslide"
    },
    "tags": []
   },
   "outputs": [],
   "source": [
    "import numpy as np \n",
    "from numpy import random"
   ]
  },
  {
   "cell_type": "markdown",
   "metadata": {
    "slideshow": {
     "slide_type": "slide"
    },
    "tags": []
   },
   "source": [
    "##`For` loop revisited\n",
    "### A `For` loop has two constituent parts \n",
    "### A `For` statement that increments the value of a variable.  Most often, we will use this variable as an index into lists or arrays. \n",
    "### A block of code that will repeat a number of times that depends on the 'For' statement.  Each iteration will update the value of the \n",
    "### variable sequentially according to the `For` statement. \n"
   ]
  },
  {
   "cell_type": "markdown",
   "metadata": {
    "slideshow": {
     "slide_type": "slide"
    },
    "tags": []
   },
   "source": [
    "## GEOMETRIC SERIES  1\n",
    "\n",
    "### $$\\sum_{n=1}^{\\infty}{\\frac{1}{2^n}} = \\frac{1}{2} + \\frac{1}{4} + \\frac{1}{8} + \\frac{1}{16} + ..... = 1$$\n",
    "\n",
    "### is a **geometric** series, that sums to 1 as **n** approaches infinity. \n",
    "\n",
    "### Write a `for` loop that will sum this series to a fix number of terms (**N**),  \n",
    "\n",
    "### Warning: remember, python's `range` function starts counting at 0.  "
   ]
  },
  {
   "cell_type": "code",
   "execution_count": 2,
   "metadata": {
    "slideshow": {
     "slide_type": "subslide"
    },
    "tags": []
   },
   "outputs": [
    {
     "name": "stdout",
     "output_type": "stream",
     "text": [
      "0\n",
      "1\n",
      "2\n",
      "3\n",
      "4\n"
     ]
    }
   ],
   "source": [
    "N = 5 # number of terms in the sum. \n",
    "for n in range(N):\n",
    "    print(n)"
   ]
  },
  {
   "cell_type": "code",
   "execution_count": 4,
   "metadata": {
    "slideshow": {
     "slide_type": "subslide"
    },
    "tags": []
   },
   "outputs": [
    {
     "name": "stdout",
     "output_type": "stream",
     "text": [
      "n  1\n",
      "geomsum  1\n",
      "n  2\n",
      "geomsum  3\n",
      "n  3\n",
      "geomsum  6\n",
      "n  4\n",
      "geomsum  10\n",
      "n  5\n",
      "geomsum  15\n"
     ]
    }
   ],
   "source": [
    "N = 5\n",
    "geomsum = 0\n",
    "#for n in range(N):\n",
    "#    print('n ',n)     \n",
    "#    geomsum = geomsum + (n+1) \n",
    "#    print('geomsum ', geomsum)\n",
    "for n in range(1,N+1):\n",
    "    print('n ', n)\n",
    "    geomsum = geomsum + n\n",
    "    print('geomsum ',geomsum) \n",
    "    "
   ]
  },
  {
   "cell_type": "code",
   "execution_count": 7,
   "metadata": {
    "slideshow": {
     "slide_type": "subslide"
    },
    "tags": []
   },
   "outputs": [
    {
     "name": "stdout",
     "output_type": "stream",
     "text": [
      "n  1\n",
      "geomsum  0.5\n",
      "n  2\n",
      "geomsum  0.75\n",
      "n  3\n",
      "geomsum  0.875\n",
      "n  4\n",
      "geomsum  0.9375\n",
      "n  5\n",
      "geomsum  0.96875\n"
     ]
    }
   ],
   "source": [
    "N = 5\n",
    "geomsum = 0\n",
    "for n in range(1,N+1):\n",
    "    print('n ', n)\n",
    "    geomsum = geomsum + 1/2**n\n",
    "    print('geomsum ',geomsum) "
   ]
  },
  {
   "cell_type": "code",
   "execution_count": 9,
   "metadata": {
    "slideshow": {
     "slide_type": "subslide"
    },
    "tags": []
   },
   "outputs": [
    {
     "name": "stdout",
     "output_type": "stream",
     "text": [
      "0.03125\n"
     ]
    }
   ],
   "source": [
    "# We can compute the error (the correct value of the sum should be 1 if n is infinity) as the difference between the sum at N terms and 1.\n",
    "error = 1-geomsum \n",
    "print(error)"
   ]
  },
  {
   "cell_type": "code",
   "execution_count": 10,
   "metadata": {
    "slideshow": {
     "slide_type": "subslide"
    },
    "tags": []
   },
   "outputs": [
    {
     "name": "stdout",
     "output_type": "stream",
     "text": [
      "0\n",
      "17\n",
      "1\n",
      "11\n",
      "2\n",
      "5\n",
      "3\n",
      "-1\n",
      "4\n",
      "-7\n"
     ]
    }
   ],
   "source": [
    "# the variable n can be used as an index into an array.  I think its intuitive to think about that if you have a bit of code like this\n",
    "mylist = [17,11,5,-1,-7]\n",
    "nlist = len(mylist)\n",
    "for j in range(nlist):\n",
    "    print(j)\n",
    "    print(mylist[j])"
   ]
  },
  {
   "cell_type": "code",
   "execution_count": 11,
   "metadata": {
    "slideshow": {
     "slide_type": "subslide"
    },
    "tags": []
   },
   "outputs": [
    {
     "name": "stdout",
     "output_type": "stream",
     "text": [
      "n  1\n",
      "geomsum  0.5\n",
      "n  2\n",
      "geomsum  0.75\n",
      "n  3\n",
      "geomsum  0.875\n",
      "n  4\n",
      "geomsum  0.9375\n",
      "n  5\n",
      "geomsum  0.96875\n"
     ]
    }
   ],
   "source": [
    "#its important to understand that each iteration of the loop produces some output, and we may want to save it. \n",
    "N = 5\n",
    "geomsum = 0\n",
    "for n in range(1,N+1):\n",
    "    print('n ', n)\n",
    "    geomsum = geomsum + 1/2**n\n",
    "    print('geomsum ',geomsum) \n",
    "#Here on each pass of the loop the value of geomsum is being updated. "
   ]
  },
  {
   "cell_type": "code",
   "execution_count": 12,
   "metadata": {
    "slideshow": {
     "slide_type": "subslide"
    },
    "tags": []
   },
   "outputs": [
    {
     "name": "stdout",
     "output_type": "stream",
     "text": [
      "n  1\n",
      "geomsum  0.5\n",
      "n  2\n",
      "geomsum  0.75\n",
      "n  3\n",
      "geomsum  0.875\n",
      "n  4\n",
      "geomsum  0.9375\n",
      "n  5\n",
      "geomsum  0.96875\n",
      "[0.5, 0.75, 0.875, 0.9375, 0.96875]\n"
     ]
    }
   ],
   "source": [
    "#its important to understand that each iteration of the loop produces some output, and we may want to save it. \n",
    "N = 5\n",
    "geomsumlist = list()\n",
    "geomsum = 0\n",
    "for n in range(1,N+1):\n",
    "    print('n ', n)\n",
    "    geomsum = geomsum + 1/2**n\n",
    "    print('geomsum ',geomsum) \n",
    "    geomsumlist.append(geomsum)\n",
    "print(geomsumlist)\n",
    "#Here on each pass of the loop the value of geomsum is being appended to geomsumlist "
   ]
  },
  {
   "cell_type": "code",
   "execution_count": 13,
   "metadata": {
    "slideshow": {
     "slide_type": "subslide"
    },
    "tags": []
   },
   "outputs": [
    {
     "name": "stdout",
     "output_type": "stream",
     "text": [
      "n  1\n",
      "geomsum  0.5\n",
      "n  2\n",
      "geomsum  0.75\n",
      "n  3\n",
      "geomsum  0.875\n",
      "n  4\n",
      "geomsum  0.9375\n",
      "n  5\n",
      "geomsum  0.96875\n",
      "[0.5     0.75    0.875   0.9375  0.96875]\n"
     ]
    }
   ],
   "source": [
    "#its important to understand that each iteration of the loop produces some output, and we may want to save it. \n",
    "N = 5\n",
    "geomsumarray = np.zeros(N)\n",
    "geomsum = 0\n",
    "for n in range(1,N+1):\n",
    "    print('n ', n)\n",
    "    geomsum = geomsum + 1/2**n\n",
    "    print('geomsum ',geomsum) \n",
    "    geomsumarray[n-1] = geomsum #note I had to index with n-1\n",
    "print(geomsumarray)\n",
    "#Here on each pass of the loop the value of geomsum is being appended to geomsumlist "
   ]
  },
  {
   "cell_type": "markdown",
   "metadata": {
    "slideshow": {
     "slide_type": "slide"
    },
    "tags": []
   },
   "source": [
    "## `While` loop revisited \n",
    "\n",
    "## `While` Loops\n",
    "\n",
    "### A `while` loop is a type of loop that runs as long as a *logical condition* is **True**. When the logical condition becomes **False**, the loop stops running. The general form of a while loop in Python is below:\n",
    "\n",
    "    while logical_statement: \n",
    "        do this\n",
    "        and that\n",
    "        and that \n",
    "        AND DO SOMETHING THAT POSSIBLY CHANGES THE STATE OF THE LOGICAL STATEMENT"
   ]
  },
  {
   "cell_type": "code",
   "execution_count": 14,
   "metadata": {
    "slideshow": {
     "slide_type": "subslide"
    },
    "tags": []
   },
   "outputs": [
    {
     "name": "stdout",
     "output_type": "stream",
     "text": [
      "0\n",
      "1\n",
      "2\n",
      "3\n"
     ]
    }
   ],
   "source": [
    "### simple example\n",
    "i = 0   #since i will be tested is in the logical statement, it must be set to an initial value \n",
    "while i<4:  # this is the conditional statement which controls execution\n",
    "    print(i)\n",
    "    i = i+1 #this is a critical line, as it updates the value of i.  If you dont do this, i will always be less than 4"
   ]
  },
  {
   "cell_type": "markdown",
   "metadata": {
    "slideshow": {
     "slide_type": "slide"
    },
    "tags": []
   },
   "source": [
    "## 3. GEOMETRIC SERIES \n",
    "\n",
    "### $$ geom = \\sum_{n=1}^{\\infty}{\\frac{1}{2^n}} = \\frac{1}{2} + \\frac{1}{4} + \\frac{1}{8} + \\frac{1}{16} + .....$$\n",
    "\n",
    "### is a geometric series, that sums to 1 as **n** approaches infinity ($\\infty$). \n",
    "\n",
    "### Write a `while` loop that will keep adding terms to the sum **geom** (i.e., increasing **n**) until the increase in the value of the sum  is smaller than a user-specified value (**tol**).  \n",
    "### For your test code, use tol = 0.0001\n",
    "\n",
    "### The code should return the number of terms **n** in the sum, and a variable called **error** which is the difference between **geom** and 1.   \n",
    "### Hint: there should be a variable tested against **tol** by the while loop and updated on each iteration of the loop. "
   ]
  },
  {
   "cell_type": "code",
   "execution_count": 15,
   "metadata": {
    "slideshow": {
     "slide_type": "subslide"
    },
    "tags": []
   },
   "outputs": [
    {
     "name": "stdout",
     "output_type": "stream",
     "text": [
      "0.96875\n",
      "error is  0.03125\n",
      "errorarray is  [0.5     0.25    0.125   0.0625  0.03125]\n"
     ]
    }
   ],
   "source": [
    "N = 5\n",
    "geomsumarray = np.zeros(N)\n",
    "geomsum = 0\n",
    "for n in range(1,N+1):\n",
    "    geomsum = geomsum + 1/2**n\n",
    "    geomsumarray[n-1] = geomsum #note I had to index with n-1\n",
    "error = 1-geomsum   \n",
    "print(geomsum)\n",
    "print('error is ', error)\n",
    "errorarray = 1-geomsumarray\n",
    "print('errorarray is ', errorarray)"
   ]
  },
  {
   "cell_type": "code",
   "execution_count": 16,
   "metadata": {
    "slideshow": {
     "slide_type": "subslide"
    },
    "tags": []
   },
   "outputs": [
    {
     "name": "stdout",
     "output_type": "stream",
     "text": [
      "0.5\n",
      "0.25\n",
      "0.125\n",
      "0.0625\n",
      "0.03125\n",
      "0.015625\n",
      "0.0078125\n",
      "0.00390625\n",
      "0.001953125\n",
      "0.0009765625\n",
      "0.00048828125\n",
      "0.000244140625\n",
      "0.0001220703125\n",
      "6.103515625e-05\n",
      "14\n"
     ]
    }
   ],
   "source": [
    "#while loop solution\n",
    "geomsum = 0 \n",
    "tol = 0.0001 #this is my target\n",
    "error = 1-geomsum # this is my test variable\n",
    "n = 0 #starting value of n \n",
    "while error > tol:\n",
    "    n = n+1 #increment the counter \n",
    "    geomsum = geomsum + 1/2**n #add a term to geomsum \n",
    "    error = 1-geomsum #calculate a new value of error \n",
    "    print(error)\n",
    "print(n)\n",
    "    "
   ]
  },
  {
   "cell_type": "markdown",
   "metadata": {
    "slideshow": {
     "slide_type": "slide"
    },
    "tags": []
   },
   "source": [
    "## Conditional Statements: `if`\n",
    "\n",
    "### Conditionals are statements that evaluate a **logical statement**, using the `if` statement, and then only execute a set of code if the condition evaluates as True. "
   ]
  },
  {
   "cell_type": "code",
   "execution_count": 17,
   "metadata": {
    "slideshow": {
     "slide_type": "subslide"
    },
    "tags": []
   },
   "outputs": [],
   "source": [
    "\n",
    "rng = random.default_rng(seed = 1121)"
   ]
  },
  {
   "cell_type": "code",
   "execution_count": 18,
   "metadata": {
    "slideshow": {
     "slide_type": "subslide"
    },
    "tags": []
   },
   "outputs": [
    {
     "name": "stdout",
     "output_type": "stream",
     "text": [
      "This code executes if the condition evaluates as True.\n"
     ]
    }
   ],
   "source": [
    "condition = True\n",
    "if condition:\n",
    "    print('This code executes if the condition evaluates as True.')"
   ]
  },
  {
   "cell_type": "code",
   "execution_count": 19,
   "metadata": {
    "slideshow": {
     "slide_type": "subslide"
    },
    "tags": []
   },
   "outputs": [
    {
     "name": "stdout",
     "output_type": "stream",
     "text": [
      "This code executes if the condition evaluates as True.\n"
     ]
    }
   ],
   "source": [
    "# equivalent to above\n",
    "if condition == True:\n",
    "    print('This code executes if the condition evaluates as True.')"
   ]
  },
  {
   "cell_type": "code",
   "execution_count": 20,
   "metadata": {
    "slideshow": {
     "slide_type": "subslide"
    },
    "tags": []
   },
   "outputs": [
    {
     "name": "stdout",
     "output_type": "stream",
     "text": [
      "positive\n"
     ]
    }
   ],
   "source": [
    "n = 1 \n",
    "if n > 0:\n",
    "    sign = 'positive'\n",
    "print(sign)"
   ]
  },
  {
   "cell_type": "markdown",
   "metadata": {
    "slideshow": {
     "slide_type": "slide"
    },
    "tags": []
   },
   "source": [
    "### Syntax notes `if`\n",
    "\n",
    "### There are important pieces to the synatax \n",
    "* ### the logical statement leads with an `if` statement \n",
    "* ### the logical statement is followed by a colon `:`\n",
    "* ### the code to be executed if the conditional statement is met is indented. \n",
    "\n",
    "### Indentation facilitates clearly understanding of the hierarchy of execution control. "
   ]
  },
  {
   "cell_type": "markdown",
   "metadata": {
    "slideshow": {
     "slide_type": "subslide"
    },
    "tags": []
   },
   "source": [
    "### Table of Comparison Operations\n",
    "\n",
    "### A logical statement almost always involves comparisons. Examples of comparisons that come to mind might be \n",
    "* #### `==` - equal                    \n",
    "* #### `!=` - not equal                \n",
    "* #### `>`  - greater than             \n",
    "* #### `>=` - greater than or equal    \n",
    "* #### `<`  - less than                \n",
    "* #### `<=` - less than or equal       "
   ]
  },
  {
   "cell_type": "markdown",
   "metadata": {
    "slideshow": {
     "slide_type": "subslide"
    },
    "tags": []
   },
   "source": [
    "### Logical Operators \n",
    "\n",
    "### The results of logical operations that can return a *single* value of **True** or **False** can also be used in execution control with an if statement.  \n",
    "### Logical operations on arrays will often return Boolean arrays that contain the result of a comparison operator applied to each element of the array.   \n",
    "### These can be combined in  execution control by \n",
    "\n",
    "* ### np.any - check if any of the of elements of an array are True \n",
    "* ### np.all - check if all of the elements of an array are True\n",
    "+ ### & - (and) to require two (or more) Conditional Statements are True \n",
    "* ### | - (or) to require that at least one of two (or more) Contional Statements are True  "
   ]
  },
  {
   "cell_type": "code",
   "execution_count": 21,
   "metadata": {
    "slideshow": {
     "slide_type": "subslide"
    },
    "tags": []
   },
   "outputs": [
    {
     "name": "stdout",
     "output_type": "stream",
     "text": [
      "[ -6  -8  -4   3   8   9  -1  -2   6  -1  -3   6   4  -6   3  -2   6  -9\n",
      " -10   5]\n",
      "There were negative numbers\n"
     ]
    }
   ],
   "source": [
    "# Example 1 \n",
    "array_a = rng.integers(-10,10,20)\n",
    "print(array_a)\n",
    "if np.any(array_a < 0):\n",
    "    print('There were negative numbers')\n"
   ]
  },
  {
   "cell_type": "code",
   "execution_count": 23,
   "metadata": {
    "slideshow": {
     "slide_type": "subslide"
    },
    "tags": []
   },
   "outputs": [
    {
     "name": "stdout",
     "output_type": "stream",
     "text": [
      "[ 9 -3  5  2  7 -8 -9  1  7 -9  4  3 -9 -8 -3  4 -7 -5  0 -9]\n"
     ]
    }
   ],
   "source": [
    "#what happens when the logical statement is false.  \n",
    "array_a = rng.integers(-10,10,20)\n",
    "print(array_a)\n",
    "if np.all(array_a < 0):\n",
    "    print('All numbers were negative numbers')\n",
    "#Nothing!"
   ]
  },
  {
   "cell_type": "markdown",
   "metadata": {
    "slideshow": {
     "slide_type": "subslide"
    },
    "tags": []
   },
   "source": [
    "## Conditional statements: `else`\n",
    "\n",
    "### After an if, you can use an `else` that will run if the logical statement was **False** and the conditional statement was not met. \n",
    "\n",
    "### Only one of the blocks of code will run.  The logical statement can only one of **True** or **False**"
   ]
  },
  {
   "cell_type": "code",
   "execution_count": 24,
   "metadata": {
    "slideshow": {
     "slide_type": "subslide"
    },
    "tags": []
   },
   "outputs": [
    {
     "name": "stdout",
     "output_type": "stream",
     "text": [
      "This code executes if the condition evaluates as False\n"
     ]
    }
   ],
   "source": [
    "condition = False\n",
    "\n",
    "if condition:\n",
    "    print('This code executes if the condition evaluates as True.')\n",
    "else: \n",
    "    print('This code executes if the condition evaluates as False')"
   ]
  },
  {
   "cell_type": "code",
   "execution_count": 25,
   "metadata": {
    "slideshow": {
     "slide_type": "subslide"
    },
    "tags": []
   },
   "outputs": [
    {
     "name": "stdout",
     "output_type": "stream",
     "text": [
      "At least one number was a positive number\n"
     ]
    }
   ],
   "source": [
    "array_a = rng.integers(-10,10,20)\n",
    "if np.all(array_a < 0):\n",
    "    print('All numbers were negative numbers')\n",
    "else:\n",
    "    print('At least one number was a positive number')\n",
    "    "
   ]
  },
  {
   "cell_type": "code",
   "execution_count": 26,
   "metadata": {
    "slideshow": {
     "slide_type": "subslide"
    },
    "tags": []
   },
   "outputs": [
    {
     "name": "stdout",
     "output_type": "stream",
     "text": [
      "At least one number was zero or a positive number\n",
      "Not negative:  8\n"
     ]
    }
   ],
   "source": [
    "array_a = rng.integers(-10,10,20)\n",
    "if np.all(array_a < 0):\n",
    "    print('All numbers were negative numbers')\n",
    "else:\n",
    "    print('At least one number was zero or a positive number')\n",
    "    n_notnegative = np.sum(array_a >= 0)\n",
    "    print('Not negative: ', n_notnegative)"
   ]
  },
  {
   "cell_type": "markdown",
   "metadata": {
    "slideshow": {
     "slide_type": "slide"
    },
    "tags": []
   },
   "source": [
    "### Syntax notes `else`\n",
    "\n",
    "### Notice that the `else` statement is itself a conditional statement.  Thus, it is completed with a colon `:`\n",
    "\n",
    "### Notice also, that the structure of an if-else statement can have multiple lines of code under each conditional statement \n",
    "\n",
    "    if logical statement: \n",
    "        do this  #CODE BLOCK EXECUTES ONLY IF LOGICAL STATEMENT IS TRUE \n",
    "        and this \n",
    "        and this \n",
    "    else:\n",
    "        do this  #CODE BLOCK EXECUTES ONLY IF LOGICAL STATEMENT IS FALSE\n",
    "        and this\n",
    "        and this\n",
    "\n"
   ]
  },
  {
   "cell_type": "markdown",
   "metadata": {
    "slideshow": {
     "slide_type": "slide"
    },
    "tags": []
   },
   "source": [
    "## Conditional Statements: `elif`\n",
    "\n",
    "### Multiple **non-overlapping** conditional statements can be organized together using an `elif` statement.\n",
    "\n",
    "### `elif` combines else and if into one statement. "
   ]
  },
  {
   "cell_type": "code",
   "execution_count": 28,
   "metadata": {
    "slideshow": {
     "slide_type": "subslide"
    },
    "tags": []
   },
   "outputs": [
    {
     "name": "stdout",
     "output_type": "stream",
     "text": [
      "This code executes if condition_1 evaluates as True.\n"
     ]
    }
   ],
   "source": [
    "condition_1 = True\n",
    "condition_2 = True\n",
    "\n",
    "if condition_1:\n",
    "    print('This code executes if condition_1 evaluates as True.')\n",
    "elif condition_2:\n",
    "    print('This code executes if condition_1 did not evaluate as True, but condition_2 does.')\n",
    "else: \n",
    "    print('This code executes if both condition_1 and condition_2 evaluate as False')"
   ]
  },
  {
   "cell_type": "markdown",
   "metadata": {
    "slideshow": {
     "slide_type": "subslide"
    },
    "tags": []
   },
   "source": [
    "### `elif` without an `else`\n",
    "\n",
    "### An `else` statement is not required, but if both the `if` and the `elif` condtions are not met (both evaluate as **False**), then nothing is returned.\n"
   ]
  },
  {
   "cell_type": "code",
   "execution_count": null,
   "metadata": {
    "slideshow": {
     "slide_type": "subslide"
    },
    "tags": []
   },
   "outputs": [],
   "source": [
    "condition_1 = True\n",
    "condition_2 = False\n",
    "\n",
    "if condition_1:\n",
    "    print('This code executes if condition_1 evaluates as True.')\n",
    "elif condition_2:\n",
    "    print('This code executes if condition_1 did not evaluate as True, but condition_2 does.')"
   ]
  },
  {
   "cell_type": "markdown",
   "metadata": {
    "slideshow": {
     "slide_type": "subslide"
    },
    "tags": []
   },
   "source": [
    "### `elif` after an `else` does not make sense\n",
    "\n",
    "### The order will always be `if-elif-else`...with only the `if` being required. \n",
    "### If the `elif` is at the end...it will never be tested, as the else will have already returned a value once reached (and thus Python will throw an error).\n"
   ]
  },
  {
   "cell_type": "code",
   "execution_count": 29,
   "metadata": {
    "slideshow": {
     "slide_type": "subslide"
    },
    "tags": []
   },
   "outputs": [
    {
     "ename": "SyntaxError",
     "evalue": "invalid syntax (2506253379.py, line 9)",
     "output_type": "error",
     "traceback": [
      "\u001b[0;36m  Cell \u001b[0;32mIn[29], line 9\u001b[0;36m\u001b[0m\n\u001b[0;31m    elif condition_2:\u001b[0m\n\u001b[0m    ^\u001b[0m\n\u001b[0;31mSyntaxError\u001b[0m\u001b[0;31m:\u001b[0m invalid syntax\n"
     ]
    }
   ],
   "source": [
    "## THIS CODE WILL PRODUCE AN ERROR\n",
    "condition_1 = False\n",
    "condition_2 = False\n",
    "\n",
    "if condition_1:\n",
    "    print('This code executes if condition_1 evaluates as True.')\n",
    "else: \n",
    "    print('This code executes if both condition_1 and condition_2 evaluate as False')\n",
    "elif condition_2:\n",
    "    print('This code executes if condition_1 did not evaluate as True, but condition_2 does.')"
   ]
  },
  {
   "cell_type": "code",
   "execution_count": 30,
   "metadata": {
    "scrolled": true,
    "slideshow": {
     "slide_type": "subslide"
    },
    "tags": []
   },
   "outputs": [
    {
     "name": "stdout",
     "output_type": "stream",
     "text": [
      "I did Math\n"
     ]
    }
   ],
   "source": [
    "# But Python will not always produce an error and will allow you to write nonsense. \n",
    "if 1 + 1 == 2:\n",
    "    print(\"I did Math\")\n",
    "elif 1/0:\n",
    "    print(\"I broke Math\")\n",
    "else:\n",
    "    print(\"I didn't do math\")\n",
    "# Python is an interpreted language.  it is not testing all your code before executing.  It is interpeting it line by line while executing it. "
   ]
  },
  {
   "cell_type": "markdown",
   "metadata": {
    "slideshow": {
     "slide_type": "subslide"
    },
    "tags": []
   },
   "source": [
    "### Syntax notes `elif`\n",
    "\n",
    "    if logical statement 1: \n",
    "        do this  #CODE BLOCK EXECUTES ONLY IF LOGICAL STATEMENT 1 IS TRUE \n",
    "        and this \n",
    "        and this \n",
    "    elif logical statement 2: \n",
    "        do this  #CODE BLOCK EXECUTES ONLY IF LOGICAL STATMENT 2 is TRUE\n",
    "        and this\n",
    "        and this\n",
    "    else:\n",
    "        do this  #CODE BLOCK EXECUTES ONLY IF LOGICAL STATEMENT IS FALSE\n",
    "        and this\n",
    "        and this\n",
    "\n",
    "### An important implication of using the `if-elif-else` for execution control is to have a clear understanding of  the relationship between logical statement 1 and logical statement 2.   \n",
    "\n",
    "### You should think about this in terms of sets and subsets.  There is a subset that meets the conditions of logical statement 1.  If that is **True** , *logical statement 2 is never evaluated* \n",
    "\n",
    "### Thus *implicitly* in the above bit of code, the `elif` statement should be read (in your mind) as \n",
    "\n",
    "    elif (logical statement 2) & ~ (logical statement 1) "
   ]
  },
  {
   "cell_type": "code",
   "execution_count": null,
   "metadata": {
    "slideshow": {
     "slide_type": "subslide"
    },
    "tags": []
   },
   "outputs": [],
   "source": [
    "#This is a logically screwed up set of statements. DONT DO THIS! \n",
    "n = 6\n",
    "if n < 10:\n",
    "    print('single digit')\n",
    "elif n > 5:\n",
    "    print('greater than 5')\n",
    "else:\n",
    "    print('double digit number')\n",
    "# The problem with the above block of code is that the subsets of the space of integers that meet the criterion overlap.  \n",
    "# if n is 6,7,8,9 it meets two criteria, and only the first one executes. \n",
    "# if n >= 10 it meets two criteria and only the first one executes. "
   ]
  },
  {
   "cell_type": "markdown",
   "metadata": {
    "slideshow": {
     "slide_type": "slide"
    },
    "tags": []
   },
   "source": [
    "## Properties of conditionals\n",
    "\n",
    "- ### All conditionals start with an `if`, can have an optional and variable number of `elif`'s and an optional `else` statement\n",
    "- ### Conditionals can take any expression that can be evaluated as `True` or `False`. \n",
    "- ### At most one component (`if` / `elif` / `else`) of a conditional will run\n",
    "- ### The order of conditional blocks is always `if` then `elif`(s) then `else`\n",
    "- ### Code is only ever executed if the condition is met\n",
    "- ### The first condition met is executed.  Other condiitons will not be evaluated. "
   ]
  },
  {
   "cell_type": "markdown",
   "metadata": {
    "slideshow": {
     "slide_type": "slide"
    },
    "tags": []
   },
   "source": [
    "## Compound conditional statements \n",
    "\n",
    "### The only requirement on the logical statement that makes the conditional `if` statement is that can return either **True** or **False**.  We can make compound conditional statements using Boolean Operators `&` (and) `|` (or)"
   ]
  },
  {
   "cell_type": "code",
   "execution_count": 31,
   "metadata": {
    "slideshow": {
     "slide_type": "subslide"
    },
    "tags": []
   },
   "outputs": [
    {
     "name": "stdout",
     "output_type": "stream",
     "text": [
      "Even and less than or equal to 10\n"
     ]
    }
   ],
   "source": [
    "n = 8 \n",
    "if (n%2 == 1) | (n > 10):\n",
    "    print('Either odd or Larger than 10')\n",
    "else:\n",
    "    print('Even and less than or equal to 10')\n",
    "    \n",
    "#Note that the opposite of an OR (|) conditional boolean operator in an AND.     "
   ]
  },
  {
   "cell_type": "code",
   "execution_count": 32,
   "metadata": {
    "slideshow": {
     "slide_type": "subslide"
    },
    "tags": []
   },
   "outputs": [
    {
     "name": "stdout",
     "output_type": "stream",
     "text": [
      "Either odd or less than or equal to 10\n"
     ]
    }
   ],
   "source": [
    "n = 17 \n",
    "if (n%2 == 0) & (n > 10):\n",
    "    print('Even and Larger than 10')\n",
    "else:\n",
    "    print('Either odd or less than or equal to 10')\n",
    "    \n",
    "#Note that the opposite of an AND (&) conditional boolean operator in an OR.    "
   ]
  },
  {
   "cell_type": "markdown",
   "metadata": {
    "slideshow": {
     "slide_type": "slide"
    },
    "tags": []
   },
   "source": [
    "## Nested conditional statements \n",
    "\n",
    "### Another option for execution control with combined conditions is to nest `if-elif-else` statements. \n",
    "\n",
    "### This structure allows for more flexible options in the output than the compound conditional statement. \n",
    "\n",
    "### It can also be easier when you write code. "
   ]
  },
  {
   "cell_type": "code",
   "execution_count": null,
   "metadata": {
    "slideshow": {
     "slide_type": "subslide"
    },
    "tags": []
   },
   "outputs": [],
   "source": [
    "n = 17 \n",
    "if n%2 == 0:   #Everything inside here is even\n",
    "    if n > 10:\n",
    "        print('Even and larger than 10')\n",
    "    else:\n",
    "        print('Even and smaller than or equal to 10')\n",
    "else:         #Everything inside here is not even, i.e., odd.  \n",
    "    if n > 10:\n",
    "        print('Odd and larger than 10')\n",
    "    else:\n",
    "        print('Odd and smaller than or equal to 10')\n"
   ]
  },
  {
   "cell_type": "markdown",
   "metadata": {
    "slideshow": {
     "slide_type": "subslide"
    },
    "tags": []
   },
   "source": [
    "### Syntax notes - nested conditional statements\n",
    "\n",
    "### Notice that if you nest conditional statements you have to be careful about indentation.  Indentation determines which conditional statement is associated with the code block. \n",
    "\n",
    "    if logical statement 1: \n",
    "        if logical statement 2: #CODE BLOCK EXECUTES ONLY IF LOGICAL STATEMENT 1 AND LOGICAL STATEMENT 2 IS TRUE \n",
    "            do this  \n",
    "            and this \n",
    "            and this\n",
    "        else: #CODE BLOCK EXECUTES ONLY IF LOGICAL STATEMENT 1 IS TRUE AND LOGICAL STATEMENT 2 IS FALSE\n",
    "            do this\n",
    "            and this \n",
    "            and this \n",
    "    else:\n",
    "        if logical statement 2: #CODE BLOCK EXECUTES ONLY IF LOGICAL STATEMENT 1 IS FALSE AND LOGICAL STATEMENT 2 IS TRUE \n",
    "            do this  \n",
    "            and this \n",
    "            and this\n",
    "        else: #CODE BLOCK EXECUTES ONLY IF LOGICAL STATEMENT 1 IS FALSE AND LOGICAL STATEMENT 2 IS FALSE\n",
    "            do this\n",
    "            and this \n",
    "            and this \n"
   ]
  },
  {
   "cell_type": "markdown",
   "metadata": {
    "slideshow": {
     "slide_type": "slide"
    },
    "tags": []
   },
   "source": [
    "## When do I need to use execution control?\n",
    "\n",
    "### It is rare to need to use execution control in data analysis or visualization, but is very common in programs that control experiments, particularly experiments where the subject's response is used to adapt the experiment.  We will discuss an example of this later in the quarter.  "
   ]
  },
  {
   "cell_type": "markdown",
   "metadata": {
    "slideshow": {
     "slide_type": "subslide"
    },
    "tags": []
   },
   "source": [
    "### Let's make a grading example.  Suppose I want to write a bit of code to assign a letter grade.  \n",
    "### grades between  90 and 100 are A\n",
    "###                 80 and 89 are B\n",
    "###                 below 80 are C"
   ]
  },
  {
   "cell_type": "code",
   "execution_count": null,
   "metadata": {
    "slideshow": {
     "slide_type": "subslide"
    },
    "tags": []
   },
   "outputs": [],
   "source": [
    "grade = 85\n",
    "if grade > 90:\n",
    "    lettergrade = 'A'\n",
    "elif grade > 80:\n",
    "    lettergrade = 'B'\n",
    "else:\n",
    "    lettergrade = 'C'\n",
    "print(grade,' ',lettergrade)"
   ]
  },
  {
   "cell_type": "markdown",
   "metadata": {
    "slideshow": {
     "slide_type": "slide"
    },
    "tags": []
   },
   "source": [
    "# COLLATZ CONJECTURE (Its in Hwk 4) \n",
    "\n",
    "### This is one of these weird things with numbers that remains unproven, but always works. Collatz had this insight in 1939, but could not prove it, hence it is a conjecture. \n",
    "\n",
    "### Start with any positive integer.  Follow this rule. \n",
    "\n",
    "### (1) if the integer is even, the next integer is one half of the current integer. \n",
    "\n",
    "### (2) if the integer is odd, the next integer is 3 times the integer plus one. \n",
    "\n",
    "### Eventually the sequence of integers will reach 1. This always works! \n",
    "\n",
    "### Write some python code that generates such a sequence, and terminates at 1. Some hints. \n",
    "\n",
    "### (1) A while loop should test if the current state of the integer, and exit if the integer has reached 1. \n",
    "\n",
    "### (2) Remember that the conditional statement n%2 == 0 will return **True** if n is even and **False** if n is odd. \n",
    "\n",
    "### You code should save the sequence of integers and print it out at the end. \n"
   ]
  },
  {
   "cell_type": "code",
   "execution_count": null,
   "metadata": {},
   "outputs": [],
   "source": []
  }
 ],
 "metadata": {
  "interpreter": {
   "hash": "fda1d92c402c9d5e0550eab7f590eb1c0582e487619314e6aa12d68c281f0580"
  },
  "kernelspec": {
   "display_name": "Python 3 (ipykernel)",
   "language": "python",
   "name": "python3"
  },
  "language_info": {
   "codemirror_mode": {
    "name": "ipython",
    "version": 3
   },
   "file_extension": ".py",
   "mimetype": "text/x-python",
   "name": "python",
   "nbconvert_exporter": "python",
   "pygments_lexer": "ipython3",
   "version": "3.9.16"
  }
 },
 "nbformat": 4,
 "nbformat_minor": 4
}
