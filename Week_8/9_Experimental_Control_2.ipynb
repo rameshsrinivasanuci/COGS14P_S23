{
 "cells": [
  {
   "attachments": {},
   "cell_type": "markdown",
   "metadata": {},
   "source": [
    "# Lecture  Experimental Control 2\n",
    "\n",
    "### This lesson will review some of the fundamental programming methods required to develop a controlled experiment for Psychological/Neuroscience research\n",
    "\n",
    "### We will use an auditory experiment as an example but the fundamental methods discussed of controlling the experiment and managing the data explained here will apply to any kind of experiment"
   ]
  },
  {
   "attachments": {},
   "cell_type": "markdown",
   "metadata": {},
   "source": [
    "### Any experiment has two properties. \n",
    "* ### There are some experimental **conditions** that have different stimuli (and/or task instructions) presented\n",
    "* ### There is a **response** obtained from the subject.  "
   ]
  },
  {
   "attachments": {},
   "cell_type": "markdown",
   "metadata": {},
   "source": [
    "### The main issues discussed here are:\n",
    "* ### randomization\n",
    "* ### obtaining responses from a participant\n",
    "* ### organizing behavioral data using Pandas DataFrames\n",
    "* ### saving the data to a file "
   ]
  },
  {
   "cell_type": "code",
   "execution_count": null,
   "metadata": {},
   "outputs": [],
   "source": [
    "import numpy as np\n",
    "from matplotlib import pyplot as plt\n",
    "import pandas as pd\n",
    "import simpleaudio as sa"
   ]
  },
  {
   "attachments": {},
   "cell_type": "markdown",
   "metadata": {},
   "source": [
    "### For the purpose of experimental control, we need to start the random number generator. \n",
    "### the seed of the random number generator is very important here. \n",
    "### If we never change the seed we will always run the same experiment on every participant. \n",
    "### We should always use a different seed on different participants.  "
   ]
  },
  {
   "cell_type": "code",
   "execution_count": null,
   "metadata": {},
   "outputs": [],
   "source": [
    "from numpy import random \n",
    "rng = random.default_rng(seed = 21)"
   ]
  },
  {
   "attachments": {},
   "cell_type": "markdown",
   "metadata": {},
   "source": [
    "### I dont want to reinvent the wheel.  Why don't I make use of the functions I wrote in the last lesson. "
   ]
  },
  {
   "cell_type": "code",
   "execution_count": null,
   "metadata": {},
   "outputs": [],
   "source": [
    "def make_tone(f,duration,sr = 44100,ramp = 200):\n",
    "    time_vec = np.linspace(0, duration, int(duration*sr)) # The number of samples is the length of time X sampling rate.\n",
    "    tone = np.sin(f * time_vec  * 2 * np.pi)\n",
    "    risingramp = np.linspace(0,1,ramp)\n",
    "    descendingramp = np.linspace(1,0,ramp)\n",
    "    tone[0:ramp] = tone[0:ramp]*risingramp\n",
    "    tone[-ramp:] = tone[-ramp:]*descendingramp\n",
    "    return tone"
   ]
  },
  {
   "cell_type": "code",
   "execution_count": null,
   "metadata": {},
   "outputs": [],
   "source": [
    "def play_sound(tone,volume = 0.05,sr = 44100):\n",
    "    tone  = tone*32768 / np.max(np.abs(tone)) # scale to the range of the sound card.  \n",
    "    tone = volume*tone # FOR SAFETY.  PLEASE LIMIT THE MAXIMIM VOLUME! \n",
    "    tone  = tone.astype(np.int16) # convert to 16 bit integers. \n",
    "    play_obj = sa.play_buffer(tone , 1, 2, sr) # i created an object here. \n",
    "    play_obj.wait_done() # tells python to wait for the sound to finish before going any further. "
   ]
  },
  {
   "attachments": {},
   "cell_type": "markdown",
   "metadata": {},
   "source": [
    "### For simplicity, I am going to fix certain facts about the auditory examples I am going to use in this tutorial.  "
   ]
  },
  {
   "cell_type": "code",
   "execution_count": null,
   "metadata": {},
   "outputs": [],
   "source": [
    "# fixed facts about the sine functions\n",
    "duration = 0.25 # length of the sound in seconds. \n",
    "volume = 0.005   # DO NOT MAKE VOLUME LARGER THAN 0.5 "
   ]
  },
  {
   "cell_type": "markdown",
   "metadata": {},
   "source": [
    "### Let's consider a task where the subject has to identify a note played as A (440 Hz) or B (494 Hz).  On each trial, we will present one of the notes, and the subject's task is to respond with A or B on the keyboard. \n",
    "### I will implement this task in two different ways here. \n",
    "\n",
    "### First let's make the two notes "
   ]
  },
  {
   "cell_type": "code",
   "execution_count": null,
   "metadata": {},
   "outputs": [],
   "source": [
    "fA = 440 \n",
    "A_note = make_tone(fA,duration)\n",
    "fB = 494\n",
    "B_note = make_tone(fB,duration)"
   ]
  },
  {
   "attachments": {},
   "cell_type": "markdown",
   "metadata": {},
   "source": [
    "## Randomization  \n",
    "\n",
    "### To make an experiment that is well controlled, psychologists make use of randomization. \n",
    "### For example, if we want to carry out an experiment with different types of emotional stimuli (e.g., words with negative or positive affect), we usually want to present an experimental **condition** (negative or positive) chosen at random on each trial of the experiment \n",
    "### As discussed below, there are two ways of doing this - \n",
    "* ### selecting a condition at random using a random number generator \n",
    "* ### selecting a random order of the stimuli  "
   ]
  },
  {
   "attachments": {},
   "cell_type": "markdown",
   "metadata": {},
   "source": [
    "### Random Sampling\n",
    "\n",
    "### In this implementation, I am going to make an experiment that has the number of trials set by the variable ntrials.  \n",
    "### On each trial, I am going to use rng.integers to randomly select whether to play A or B. \n",
    "### I am going to assign the integer 1 to A, and the integer 2 to B.  \n",
    "### First lets consider the logic of randomly selecting A or B "
   ]
  },
  {
   "cell_type": "code",
   "execution_count": null,
   "metadata": {},
   "outputs": [],
   "source": [
    "trial_type  = rng.integers(1,3) # This will randomly select a 1 or 2 \n",
    "print(trial_type)\n",
    "if trial_type == 1:  # if trial_type is 1 we are going to play A \n",
    "    play_sound(A_note,volume=volume)\n",
    "else:\n",
    "    play_sound(B_note,volume= volume)"
   ]
  },
  {
   "attachments": {},
   "cell_type": "markdown",
   "metadata": {},
   "source": [
    "### Run the code block above a few times.  We should see that each time we run it, we select a note at random.  \n",
    "\n",
    "### We could put that block of code in a for loop and repeat for a certain number of *trials*.  I will set the variable **ntrials** to determine the number of trials. \n",
    "\n",
    "### I also need to save what i presented on each trial so I know the correct answer. I am making a **condition** to hold this information "
   ]
  },
  {
   "cell_type": "code",
   "execution_count": null,
   "metadata": {},
   "outputs": [],
   "source": []
  },
  {
   "cell_type": "code",
   "execution_count": null,
   "metadata": {},
   "outputs": [],
   "source": [
    "ntrials = 6\n",
    "condition = []\n",
    "for j in range(ntrials):\n",
    "    trial_type  = rng.integers(1,3) # This will randomly select a 1 or 2 \n",
    "    if trial_type == 1:  # if trial_type is 1 we are going to play A \n",
    "        play_sound(A_note,volume=volume)\n",
    "        condition.append('A')\n",
    "    else:\n",
    "        play_sound(B_note,volume= volume)\n",
    "        condition.append('B')\n",
    "print(condition)"
   ]
  },
  {
   "cell_type": "markdown",
   "metadata": {},
   "source": [
    "### In principle we could make a small task now, where we play a random note and ask the subject to identify it as A or B.  This type of task is known as a **Two-Alternative Forced Choice** task \n",
    "### We just have to collect the responses which we discuss in the next section.  "
   ]
  },
  {
   "attachments": {},
   "cell_type": "markdown",
   "metadata": {},
   "source": [
    "### Random permutation\n",
    "\n",
    "### One limitation of the randomization approach presented in the previous section is that we dont have control over the number of trials presented in each condition of the experiment.  \n",
    "\n",
    "### That is, we will have a different number of A and B notes.   \n",
    "\n",
    "### In many situations, we want to make sure the number of trials per condition is equal.  In that case, we have to use random **permutation** instead of random sampling as our approach.  \n",
    "\n",
    "### First consider the following code "
   ]
  },
  {
   "cell_type": "code",
   "execution_count": null,
   "metadata": {},
   "outputs": [],
   "source": [
    "trial_1 = np.ones(3) # an array with 3 ones\n",
    "trial_2 = 2*np.ones(3) # an array with 3 twos\n",
    "trial_order = np.concatenate((trial_1,trial_2)) # concatenate the array\n",
    "for j in range(ntrials):\n",
    "    if trial_order[j] == 1:  # if trial_type is 1 we are going to play A \n",
    "        play_sound(A_note,volume=volume)\n",
    "    else:\n",
    "        play_sound(B_note,volume= volume)\n",
    "print(trial_order)"
   ]
  },
  {
   "cell_type": "markdown",
   "metadata": {},
   "source": [
    "### That block of code plays the note A three times and then the note B three times.  The order of trials is controlled by the variable trial_order"
   ]
  },
  {
   "attachments": {},
   "cell_type": "markdown",
   "metadata": {},
   "source": [
    "### In order to **randomize** the order of presentation, I need to shuffle the entriels of trial_order in a random way. \n",
    "### The numpy function, `np.random.permutation` can enable us to do this.  "
   ]
  },
  {
   "cell_type": "code",
   "execution_count": null,
   "metadata": {},
   "outputs": [],
   "source": [
    "trial_1 = np.ones(3) # an array with 3 ones\n",
    "trial_2 = 2*np.ones(3) # an array with 3 twos\n",
    "trial_order = np.concatenate((trial_1,trial_2)) # concatenate the array\n",
    "print(trial_order)\n",
    "ntrials = np.size(trial_order) #get the length of trial_order\n",
    "trial_shuffle = np.random.permutation(ntrials)\n",
    "print(trial_shuffle)\n",
    "trial_order = trial_order[trial_shuffle]\n",
    "condition = list()\n",
    "for j in range(ntrials):\n",
    "    if trial_order[j] == 1:  # if trial_type is 1 we are going to play A \n",
    "        play_sound(A_note,volume=volume)\n",
    "        condition.append('A')\n",
    "    else:\n",
    "        play_sound(B_note,volume= volume)\n",
    "        condition.append('B')\n",
    "print(trial_order)\n",
    "print(condition)"
   ]
  },
  {
   "cell_type": "markdown",
   "metadata": {},
   "source": [
    "### The advantage of this logic is that we can control the number of trials per condition and equate them.  "
   ]
  },
  {
   "attachments": {},
   "cell_type": "markdown",
   "metadata": {},
   "source": [
    "## Responses from the Keyboard - `input`\n",
    "\n",
    "### We can obtain responses from the keyboard using the `input` command\n",
    "\n",
    "### When you run the next cell, be sure to hit any letter, then the enter key "
   ]
  },
  {
   "cell_type": "markdown",
   "metadata": {},
   "source": [
    "### The input command will continue to run until the enter key is pressed.  "
   ]
  },
  {
   "cell_type": "code",
   "execution_count": null,
   "metadata": {},
   "outputs": [],
   "source": [
    "a = input('Type a Key:')"
   ]
  },
  {
   "attachments": {},
   "cell_type": "markdown",
   "metadata": {},
   "source": [
    "### This is less than ideal for a number of reasons.  For one thing, if you type two letters, it will take them both in.  \n",
    "\n",
    "### Or if you hit enter before a letter, it will proceed to take an empty response. \n",
    "\n",
    "### Nevertheless, for many purposes, it works fine to use the keyboard to collect response information.  \n",
    "\n"
   ]
  },
  {
   "attachments": {},
   "cell_type": "markdown",
   "metadata": {},
   "source": [
    "### It can sometimes be useful to control the accepted responses.  \n",
    "\n",
    "### For example, in the simple experiment above, we may only accept a response of a or b. \n",
    "\n",
    "### YOur homework this week addresses how to do this. I will show you one approach here. "
   ]
  },
  {
   "cell_type": "markdown",
   "metadata": {},
   "source": [
    "### Let's put it together with the A/B note experiment "
   ]
  },
  {
   "cell_type": "code",
   "execution_count": null,
   "metadata": {},
   "outputs": [],
   "source": [
    "ntrials_per_condition = 2\n",
    "trial_1 = np.ones(ntrials_per_condition) # an array with 3 ones\n",
    "trial_2 = 2*np.ones(ntrials_per_condition) # an array with 3 twos\n",
    "trial_order = np.concatenate((trial_1,trial_2)) # concatenate the array\n",
    "ntrials = np.size(trial_order) #get the length of trial_order\n",
    "shuffle = random.permutation(ntrials) # get a random order of trials\n",
    "trial_order = trial_order[shuffle] # permute trial order \n",
    "\n",
    "condition = list()\n",
    "trialresponse = list()\n",
    "for j in range(ntrials):\n",
    "    if trial_order[j] == 1:  # if trial_type is 1 we are going to play A \n",
    "        play_sound(A_note,volume=volume)\n",
    "        condition.append('A')\n",
    "    else:\n",
    "        play_sound(B_note,volume= volume)\n",
    "        condition.append('B')\n",
    "    response_check = False # I set the response_check to false.  I will only change response_check if i get a valid response \n",
    "    while response_check == False: # This while loop runs until I get a valid response \n",
    "        response = input() #Get a keyboard input\n",
    "        if (response =='a') | (response == 'b'): #check if its an a or b \n",
    "            response_check = True # if it is update response_check to true  \n",
    "            trialresponse.append(response)\n",
    "        else:\n",
    "            print('Invalid Response Try Again')  # ask the participant to enter a new response \n",
    "print('DONE!')"
   ]
  },
  {
   "attachments": {},
   "cell_type": "markdown",
   "metadata": {},
   "source": [
    "## Documenting and Saving Experimental Data using Pandas Data frames "
   ]
  },
  {
   "attachments": {},
   "cell_type": "markdown",
   "metadata": {},
   "source": [
    "### What do we need to save in our hypothetical experiment? \n",
    "### On each trial, we need to know the condition (i.e., the note that was played) and the response (i.e., the note that was identified) and the response"
   ]
  },
  {
   "cell_type": "markdown",
   "metadata": {},
   "source": [
    "### Let's take a look at the results "
   ]
  },
  {
   "cell_type": "code",
   "execution_count": null,
   "metadata": {},
   "outputs": [],
   "source": [
    "print(condition)\n",
    "print(trialresponse)"
   ]
  },
  {
   "cell_type": "markdown",
   "metadata": {},
   "source": [
    "### We can store them in a pandas DataFrame, and write to a csv or xlsx file.  "
   ]
  },
  {
   "cell_type": "code",
   "execution_count": null,
   "metadata": {},
   "outputs": [],
   "source": [
    "data = pd.DataFrame(columns = ['Condition','Response']) #create a data frame\n",
    "data['Condition'] = condition #save trial order\n",
    "data['Response'] = trialresponse  #save response \n",
    "#Do one of these\n",
    "#data.to_csv('A_B.csv')\n",
    "data.to_excel('A_B.xlsx')"
   ]
  },
  {
   "attachments": {},
   "cell_type": "markdown",
   "metadata": {},
   "source": []
  }
 ],
 "metadata": {
  "kernelspec": {
   "display_name": "cogs14p",
   "language": "python",
   "name": "python3"
  },
  "language_info": {
   "codemirror_mode": {
    "name": "ipython",
    "version": 3
   },
   "file_extension": ".py",
   "mimetype": "text/x-python",
   "name": "python",
   "nbconvert_exporter": "python",
   "pygments_lexer": "ipython3",
   "version": "3.9.16"
  },
  "vscode": {
   "interpreter": {
    "hash": "3c307f3b88d37df7aa1f23f76646a5bfdc46f3bd9d5689784cb584eca653bc8e"
   }
  }
 },
 "nbformat": 4,
 "nbformat_minor": 4
}
