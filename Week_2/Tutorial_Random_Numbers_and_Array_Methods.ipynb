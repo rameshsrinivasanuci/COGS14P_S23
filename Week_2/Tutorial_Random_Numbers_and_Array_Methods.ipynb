{
 "cells": [
  {
   "cell_type": "markdown",
   "metadata": {},
   "source": [
    "# **Tutorial**  Random Numbers and Array Methods "
   ]
  },
  {
   "cell_type": "markdown",
   "metadata": {
    "slideshow": {
     "slide_type": "slide"
    },
    "tags": []
   },
   "source": [
    "# Random Numbers \n",
    "\n",
    "### A random number is an important concept in programming for scientific research.   Random numbers are used in \n",
    "\n",
    "1. #### Stimulus Generation (Adding noise to hide or occlude stimuli in an experiment).\n",
    "\n",
    "2. #### Experimental Control (Randomization of experiments within an experiments and across participants). \n",
    "\n",
    "3. #### Simulation and Modeling of data.\n",
    "\n",
    "### A classic definition of a random number is a number that cannot be predicted. \n",
    "\n",
    "### Usually we have a more narrow definition of a random number, which is tied to the way that we generate random numbers.  "
   ]
  },
  {
   "cell_type": "markdown",
   "metadata": {
    "slideshow": {
     "slide_type": "slide"
    },
    "tags": []
   },
   "source": [
    "## Random Number Generators\n",
    "\n",
    "### Random number generation is a process by which, often by means of a random number **Generator** object, a sequence of numbers or symbols that cannot be reasonably predicted better than by random chance is generated. \n",
    "\n",
    "### Some of these have existed since ancient times, among whose ranks are well-known \"classic\" examples, including the rolling of dice or coin flipping, the shuffling of playing cards.  \n",
    "\n",
    "### I am going make use of random numbers here today just to make examples on how to handle arrays, and how to use numpy functions. \n",
    "\n",
    "### **Importantly, I will show you here how to make random number sequences that you can reproduce** - It's random, but it's not! \n"
   ]
  },
  {
   "cell_type": "markdown",
   "metadata": {
    "slideshow": {
     "slide_type": "slide"
    },
    "tags": []
   },
   "source": [
    "### Let's begin by importing the modules that we need.  "
   ]
  },
  {
   "cell_type": "code",
   "execution_count": null,
   "metadata": {
    "slideshow": {
     "slide_type": "subslide"
    },
    "tags": []
   },
   "outputs": [],
   "source": [
    "import numpy as np "
   ]
  },
  {
   "cell_type": "markdown",
   "metadata": {
    "slideshow": {
     "slide_type": "subslide"
    },
    "tags": []
   },
   "source": [
    "### Now I'm going to use a somewhat different form of importing\n",
    "\n",
    "`from numpy import random`\n",
    "\n",
    "### In the above line I import the specific **submodule** `random` from **numpy**.  \n",
    "\n",
    "### I do this because I dont want to write *np.random* over and over again in today's lesson and I just want to write *random*. \n",
    "\n",
    "### This is because I am going to call functions or methods from random.  This would lead to awkward constructs like \n",
    "\n",
    "`np.random.function_name`\n",
    "\n",
    "### I want to be able to not type np every time.  \n",
    "\n",
    "### `numpy` has a *lot* of built in functions.   More than I know!.  \n",
    "\n",
    "### They are organized into **submodules** that group together functions of a particular type.  Here there is a submodule `random` which has all the random number generators in python.   \n",
    "\n",
    "### You can always import submodules and specific functions by name to avoid having to write out the module or submodule they come from.  "
   ]
  },
  {
   "cell_type": "code",
   "execution_count": null,
   "metadata": {
    "slideshow": {
     "slide_type": "subslide"
    },
    "tags": []
   },
   "outputs": [],
   "source": [
    "from numpy import random "
   ]
  },
  {
   "cell_type": "markdown",
   "metadata": {
    "slideshow": {
     "slide_type": "slide"
    },
    "tags": []
   },
   "source": [
    "## Create and *Initialize* the random number generator\n",
    "\n",
    "### In this example create a random number generator object **rng** using `default_rng`.  \n",
    "### In order to control the random number generator we will set the **seed** of the random number generator.\n",
    "### The **seed** of the random number generator controls the random number sequence generated.  *If you enter the same seed, you will get the same sequence*\n",
    "### The **seed** of a random number generator is any integer\n"
   ]
  },
  {
   "cell_type": "code",
   "execution_count": null,
   "metadata": {
    "slideshow": {
     "slide_type": "subslide"
    },
    "tags": []
   },
   "outputs": [],
   "source": [
    "#set the seed for the random number generator\n",
    "myseed = 1234\n",
    "#create the random number generator object\n",
    "rng = random.default_rng(seed = myseed)\n",
    "### Take a look at the Variable Inspector.  A fundamentally new data type has been created, called a **Generator**"
   ]
  },
  {
   "cell_type": "markdown",
   "metadata": {
    "slideshow": {
     "slide_type": "slide"
    },
    "tags": []
   },
   "source": [
    "## Random Integers\n",
    "\n",
    "### In order to generate integers, we can use the method `integers`.  To use this method, we have to specify,\n",
    "### `my_integers = `rng.integers`(low,high,size)` \n",
    "### Here low is the lowest integer (inclusive), high is the highest integers (exclusive) and size is the dimensions of the numpy array to be created.  "
   ]
  },
  {
   "cell_type": "code",
   "execution_count": null,
   "metadata": {
    "slideshow": {
     "slide_type": "subslide"
    },
    "tags": []
   },
   "outputs": [],
   "source": [
    "rint1 = rng.integers(1,7,10)\n",
    "print(rint1)"
   ]
  },
  {
   "cell_type": "markdown",
   "metadata": {
    "slideshow": {
     "slide_type": "subslide"
    },
    "tags": []
   },
   "source": [
    "### The output is what you might see if you rolled 10 different 6 sided die.\n",
    "### Let's run it again.   "
   ]
  },
  {
   "cell_type": "code",
   "execution_count": null,
   "metadata": {
    "slideshow": {
     "slide_type": "subslide"
    },
    "tags": []
   },
   "outputs": [],
   "source": [
    "rint2 = rng.integers(1,7,10)\n",
    "print(rint2)"
   ]
  },
  {
   "cell_type": "markdown",
   "metadata": {
    "slideshow": {
     "slide_type": "subslide"
    },
    "tags": []
   },
   "source": [
    "### Naturally, since these are random numbers, mimicking die rolls, I get different numbers. \n",
    "\n",
    "### What happens if I reset the random number seed. "
   ]
  },
  {
   "cell_type": "code",
   "execution_count": null,
   "metadata": {
    "slideshow": {
     "slide_type": "subslide"
    },
    "tags": []
   },
   "outputs": [],
   "source": [
    "myseed = 1234\n",
    "rng = random.default_rng(seed = myseed)\n",
    "rint3 = rng.integers(1,7,10)\n",
    "print('rint3: ',rint3)\n",
    "print('rint1: ',rint1)"
   ]
  },
  {
   "cell_type": "markdown",
   "metadata": {
    "slideshow": {
     "slide_type": "subslide"
    },
    "tags": []
   },
   "source": [
    "### The random numbers I get are identical to the first set!\n",
    "### At first, Tthis may seem disturbing and certainly not at all *random*\n",
    "### The way to think about it is that there is an infinite sequence of die rolls.  The seed selects where in the sequence I start to get numbers. "
   ]
  },
  {
   "cell_type": "markdown",
   "metadata": {
    "slideshow": {
     "slide_type": "subslide"
    },
    "tags": []
   },
   "source": [
    "### Now let's create an array with 5 random numbers between 0 and 9 "
   ]
  },
  {
   "cell_type": "code",
   "execution_count": null,
   "metadata": {
    "slideshow": {
     "slide_type": "subslide"
    },
    "tags": []
   },
   "outputs": [],
   "source": [
    "rdec = rng.integers(0,10,5)\n",
    "print(rdec)\n",
    "### Lets not forget integers can be negative. \n",
    "rdec2 = rng.integers(-10,10,5)\n",
    "print(rdec2)"
   ]
  },
  {
   "cell_type": "markdown",
   "metadata": {
    "slideshow": {
     "slide_type": "subslide"
    },
    "tags": []
   },
   "source": [
    "### I can also create a higher dimensional array like a matrix, by passing a **tuple** for the dimension of the array. "
   ]
  },
  {
   "cell_type": "code",
   "execution_count": null,
   "metadata": {
    "slideshow": {
     "slide_type": "subslide"
    },
    "tags": []
   },
   "outputs": [],
   "source": [
    "# If i want a matrix with 4 rows and 3 columns instead of a vector of 5 numbers, I should provide a tuple (4,3) instead of 5.\n",
    "rmat = rng.integers(0,10,(4,3))\n",
    "print(rmat)"
   ]
  },
  {
   "cell_type": "markdown",
   "metadata": {
    "slideshow": {
     "slide_type": "slide"
    },
    "tags": []
   },
   "source": [
    "## Random floating point numbers from a uniform distribution\n",
    "\n",
    "### In order to generate floating point numbers from a uniform distribution, we can use the method `uniform`.  To use this method to create an array **runiform**, we have to specify, \n",
    "\n",
    "### runiform = `rng.uniform`(low,high,size)\n",
    "\n",
    "### These are floating point numbers (real-valued) ranging low (inclusive) to high (exclusive) but can take any value in between with **equal probability**"
   ]
  },
  {
   "cell_type": "code",
   "execution_count": null,
   "metadata": {
    "slideshow": {
     "slide_type": "subslide"
    },
    "tags": []
   },
   "outputs": [],
   "source": [
    "runiform = rng.uniform(0,1,10)\n",
    "print(runiform)"
   ]
  },
  {
   "cell_type": "markdown",
   "metadata": {
    "slideshow": {
     "slide_type": "subslide"
    },
    "tags": []
   },
   "source": [
    "### We can increase the range, and incorporate positive and negative numbers"
   ]
  },
  {
   "cell_type": "code",
   "execution_count": null,
   "metadata": {
    "slideshow": {
     "slide_type": "subslide"
    },
    "tags": []
   },
   "outputs": [],
   "source": [
    "runiform2 = rng.uniform(-5,5,10)\n",
    "print(runiform2)"
   ]
  },
  {
   "cell_type": "markdown",
   "metadata": {
    "slideshow": {
     "slide_type": "subslide"
    },
    "tags": []
   },
   "source": [
    "### And we can specify a matrix with dimensions in a tuple. Here we make a matrix of size 3 rows and 5 columns. "
   ]
  },
  {
   "cell_type": "code",
   "execution_count": null,
   "metadata": {
    "slideshow": {
     "slide_type": "subslide"
    },
    "tags": []
   },
   "outputs": [],
   "source": [
    "runiform_mat = rng.uniform(-5,5,(3,5))\n",
    "print(runiform_mat)"
   ]
  },
  {
   "cell_type": "markdown",
   "metadata": {
    "slideshow": {
     "slide_type": "subslide"
    },
    "tags": []
   },
   "source": [
    "### There are many more ways to generate random numbers.  \n",
    "### The method `normal`, which draws random numbers from a normal distribution, is also useful.  "
   ]
  },
  {
   "cell_type": "markdown",
   "metadata": {
    "slideshow": {
     "slide_type": "slide"
    },
    "tags": []
   },
   "source": [
    "# Manipulating Arrays\n",
    "\n",
    "### Indexing\n",
    "### We can index elements in an array using square brackets and indices just like lists. \n",
    "### The most *challenging/irritating/annoying/exasperating* aspect of indexing is ALWAYS remembering that python \n",
    "### **starts counting at 0**\n",
    "### I am going to first make a vector and a matrix of *random* integers in order to facilitate understanding indexing. \n"
   ]
  },
  {
   "cell_type": "code",
   "execution_count": null,
   "metadata": {
    "slideshow": {
     "slide_type": "subslide"
    },
    "tags": []
   },
   "outputs": [],
   "source": [
    "# v is a vector, and has only one dimension, taking one index\n",
    "\n",
    "v = rng.integers(-7,7,20)\n",
    "print('v=', v)\n",
    "\n",
    "# M is a matrix, or a 2 dimensional array, taking two indices \n",
    "\n",
    "M = rng.integers(1,7,(3,4))\n",
    "print('M=', M)"
   ]
  },
  {
   "cell_type": "code",
   "execution_count": null,
   "metadata": {
    "slideshow": {
     "slide_type": "subslide"
    },
    "tags": []
   },
   "outputs": [],
   "source": [
    "### To extract a specific value of v, I have to use and index.  Let's grab the 5th value of v\n",
    "h = v[4]\n",
    "print(h)\n",
    "print(v)\n",
    "#Verify you got the 5th element.  "
   ]
  },
  {
   "cell_type": "markdown",
   "metadata": {
    "slideshow": {
     "slide_type": "subslide"
    },
    "tags": []
   },
   "source": [
    "### One of the reasons we use indexing is to place values at a location in an array. \n",
    "### If I want to place the number -10 in the 3rd entry of v: "
   ]
  },
  {
   "cell_type": "code",
   "execution_count": null,
   "metadata": {
    "slideshow": {
     "slide_type": "subslide"
    },
    "tags": []
   },
   "outputs": [],
   "source": [
    "print(v)\n",
    "v[2] = -9\n",
    "print(v) "
   ]
  },
  {
   "cell_type": "markdown",
   "metadata": {
    "slideshow": {
     "slide_type": "subslide"
    },
    "tags": []
   },
   "source": [
    "### To index into a matrix M, I  provide a **row** index and **column** index. \n",
    "### In order to get the entry 2nd row and 3rd column, I have to index M as M[1,2]"
   ]
  },
  {
   "cell_type": "code",
   "execution_count": null,
   "metadata": {
    "slideshow": {
     "slide_type": "subslide"
    },
    "tags": []
   },
   "outputs": [],
   "source": [
    "print(M)\n",
    "m23 = M[1,2] #entry at row 2, column 3 \n",
    "print('m23: ', m23)\n",
    "m11 = M[0,0] #first entry of a 3 x 4 matrix \n",
    "print('m11: ', m11)\n",
    "m34 = M[2,3] #last entry of a 3 x 4 matrix\n",
    "print('m34: ',m34)"
   ]
  },
  {
   "cell_type": "markdown",
   "metadata": {
    "slideshow": {
     "slide_type": "subslide"
    },
    "tags": []
   },
   "source": [
    "### Of course, if I go out of range, python will just complain.  "
   ]
  },
  {
   "cell_type": "code",
   "execution_count": null,
   "metadata": {
    "slideshow": {
     "slide_type": "subslide"
    },
    "tags": []
   },
   "outputs": [],
   "source": [
    "M[3,4]"
   ]
  },
  {
   "cell_type": "markdown",
   "metadata": {
    "slideshow": {
     "slide_type": "subslide"
    },
    "tags": []
   },
   "source": [
    "### We can address a single row or column of the matrix by "
   ]
  },
  {
   "cell_type": "code",
   "execution_count": null,
   "metadata": {
    "slideshow": {
     "slide_type": "subslide"
    },
    "tags": []
   },
   "outputs": [],
   "source": [
    "print(M)\n",
    "M2 = M[1]\n",
    "print('M2: ', M2)"
   ]
  },
  {
   "cell_type": "markdown",
   "metadata": {
    "slideshow": {
     "slide_type": "subslide"
    },
    "tags": []
   },
   "source": [
    "### In my opinion, the above is very poor syntax because it is ambiguous which axis you are referring to. \n",
    "\n",
    "### It requires that you know that python defaults to rows, and that a single index will extract that row.  \n",
    "\n",
    "### The same thing can be achieved with more clarity using `:` to indicate *ALL ELEMENTS* "
   ]
  },
  {
   "cell_type": "code",
   "execution_count": null,
   "metadata": {
    "slideshow": {
     "slide_type": "subslide"
    },
    "tags": []
   },
   "outputs": [],
   "source": [
    "R2 = M[1,:] # row 2\n",
    "C1 = M[:,0] # column 1\n",
    "print(M)\n",
    "print('R2: ',R2)\n",
    "print('C1: ',C1)"
   ]
  },
  {
   "cell_type": "code",
   "execution_count": null,
   "metadata": {
    "slideshow": {
     "slide_type": "subslide"
    },
    "tags": []
   },
   "outputs": [],
   "source": [
    "## I can extract a row and column of a matrix into a new array and do some math on it. \n",
    "m = M[:,0]  # I grabbed the first column of M and copied it into m \n",
    "u = m**2 - 5 # I squared the values and subtracted v and placed in a new array u\n",
    "print(u)"
   ]
  },
  {
   "cell_type": "code",
   "execution_count": null,
   "metadata": {
    "slideshow": {
     "slide_type": "subslide"
    },
    "tags": []
   },
   "outputs": [],
   "source": [
    "# I can manipulate a specific row or column in the matrix \n",
    "print(M)\n",
    "M[:,0] = u #replace the first column with u\n",
    "M[:,1] = -10 #replace the second column with -10 at all locations\n",
    "print(M)"
   ]
  },
  {
   "cell_type": "markdown",
   "metadata": {
    "slideshow": {
     "slide_type": "subslide"
    },
    "tags": []
   },
   "source": [
    "### Size matters!\n"
   ]
  },
  {
   "cell_type": "code",
   "execution_count": null,
   "metadata": {
    "slideshow": {
     "slide_type": "subslide"
    },
    "tags": []
   },
   "outputs": [],
   "source": [
    "### Each row of M has 4 elements. If I try to place a vector length other than 4 into a row of M it will fail\n",
    "v = np.array([1,2,3])\n",
    "M[0,:] = v"
   ]
  },
  {
   "cell_type": "code",
   "execution_count": null,
   "metadata": {
    "slideshow": {
     "slide_type": "subslide"
    },
    "tags": []
   },
   "outputs": [],
   "source": [
    "## IF the size matches, I will succeed. \n",
    "v = np.array([1,2,3,4])\n",
    "M[0,:] = v"
   ]
  },
  {
   "cell_type": "markdown",
   "metadata": {
    "slideshow": {
     "slide_type": "slide"
    },
    "tags": []
   },
   "source": [
    "## Index slicing \n",
    "\n",
    "### Index slicing is the technical name for the syntax `v[lower:upper:step]` to extract part of an array:"
   ]
  },
  {
   "cell_type": "code",
   "execution_count": null,
   "metadata": {
    "slideshow": {
     "slide_type": "subslide"
    },
    "tags": []
   },
   "outputs": [],
   "source": [
    "A = rng.integers(0,10,8)\n",
    "print(A)\n",
    "a = A[1:3] #notice it is inclusive of the lower bound and exclusive of the upper bound\n",
    "       #also notice I did not specifiy a step, so it defaulted to 1. \n",
    "print(a)"
   ]
  },
  {
   "cell_type": "code",
   "execution_count": null,
   "metadata": {
    "slideshow": {
     "slide_type": "subslide"
    },
    "tags": []
   },
   "outputs": [],
   "source": [
    "print(A)\n",
    "b = A[6:8]  # notice a weird bit of syntax here A[8] does not exist, but i can write A[6:8] because it excludes 8\n",
    "print(b)"
   ]
  },
  {
   "cell_type": "code",
   "execution_count": null,
   "metadata": {
    "slideshow": {
     "slide_type": "subslide"
    },
    "tags": []
   },
   "outputs": [],
   "source": [
    "print(A)\n",
    "c = A[1:7:2]  #In this example, i use step of size 2. Since my upper bound is 7, index 7 is excluded \n",
    "print(c)"
   ]
  },
  {
   "cell_type": "code",
   "execution_count": null,
   "metadata": {
    "slideshow": {
     "slide_type": "subslide"
    },
    "tags": []
   },
   "outputs": [],
   "source": [
    "# We can modify this set of entries in the array if we correctly match the dimensions\n",
    "print(A)\n",
    "newvalues = np.array([-5,-10,-15]) # I made a new array from a list \n",
    "A[1:7:2] = newvalues\n",
    "print(A)"
   ]
  },
  {
   "cell_type": "code",
   "execution_count": null,
   "metadata": {
    "slideshow": {
     "slide_type": "subslide"
    },
    "tags": []
   },
   "outputs": [],
   "source": [
    "# We can even make a new call to rng and get new random integers.\n",
    "print(A)\n",
    "A[0:2] = rng.integers(-100,-90,2)  # get 2 integers between -100 and -90 and place them in A as the first 2 entries\n",
    "print(A)"
   ]
  },
  {
   "cell_type": "markdown",
   "metadata": {
    "slideshow": {
     "slide_type": "slide"
    },
    "tags": []
   },
   "source": [
    "### Arrays strictly control data type. \n",
    "\n",
    "### First, lets make an array of of integers and an array of uniform random numbers.  "
   ]
  },
  {
   "cell_type": "code",
   "execution_count": null,
   "metadata": {
    "slideshow": {
     "slide_type": "subslide"
    },
    "tags": []
   },
   "outputs": [],
   "source": [
    "A = rng.integers(0,10,7)\n",
    "print(A)\n",
    "B = rng.uniform(-5,0,3)\n",
    "print(B)"
   ]
  },
  {
   "cell_type": "code",
   "execution_count": null,
   "metadata": {
    "slideshow": {
     "slide_type": "subslide"
    },
    "tags": []
   },
   "outputs": [],
   "source": [
    "## Now lets copy B into our integer array A , starting at the 3rd entry to the 5th entry \n",
    "print(A[3:6])  # print out the current values of A from the 3rd to 5th entry\n",
    "A[3:6] = B  # replace these with B \n",
    "print(B)\n",
    "print(A[3:6]) #print new values in A "
   ]
  },
  {
   "cell_type": "markdown",
   "metadata": {
    "slideshow": {
     "slide_type": "subslide"
    },
    "tags": []
   },
   "source": [
    "### A is an integer array.  If you place floating point numbers in A, it will **crop** the decimal values.  \n",
    "### When you create an array, it has a data type, and when you put something into the array it will convert it to that data type.  \n",
    "### When you create an array you can force its data type. "
   ]
  },
  {
   "cell_type": "code",
   "execution_count": null,
   "metadata": {
    "slideshow": {
     "slide_type": "subslide"
    },
    "tags": []
   },
   "outputs": [],
   "source": [
    "lst = [1,2,3]\n",
    "lst_int = np.array(lst)\n",
    "lst_float = np.array(lst,dtype='float')\n",
    "print(lst)\n",
    "print(lst_int)\n",
    "print(lst_float)"
   ]
  },
  {
   "cell_type": "markdown",
   "metadata": {
    "slideshow": {
     "slide_type": "slide"
    },
    "tags": []
   },
   "source": [
    "### Index slicing in matrices"
   ]
  },
  {
   "cell_type": "code",
   "execution_count": null,
   "metadata": {
    "slideshow": {
     "slide_type": "subslide"
    },
    "tags": []
   },
   "outputs": [],
   "source": [
    "B = rng.integers(1,7,(7,7))\n",
    "print(B)"
   ]
  },
  {
   "cell_type": "code",
   "execution_count": null,
   "metadata": {
    "slideshow": {
     "slide_type": "subslide"
    },
    "tags": []
   },
   "outputs": [],
   "source": [
    "# a block from the original array\n",
    "C = B[0:2, 1:3]\n",
    "print(C)"
   ]
  },
  {
   "cell_type": "markdown",
   "metadata": {
    "slideshow": {
     "slide_type": "slide"
    },
    "tags": []
   },
   "source": [
    "## The concept **axis**?  \n",
    "\n",
    "### I referred to the rows and columns of m.  Python thinks of these as the **axis** of the array. \n",
    "1. #### axis 0 is the rows\n",
    "1. #### axis 1 is the columns\n",
    "1. #### axis 2 is the ????  ...\n",
    "### There is no limit to the number of dimensions to a python array.   Right now we are working with vectors and matrices.  \n",
    "### But, in many practical applications we need more than 2 dimensions.   \n",
    "### For example, when we record brain images from human subject, each image has 3 dimensions, and there is a 4th dimension of time."
   ]
  },
  {
   "cell_type": "code",
   "execution_count": null,
   "metadata": {},
   "outputs": [],
   "source": []
  }
 ],
 "metadata": {
  "interpreter": {
   "hash": "fda1d92c402c9d5e0550eab7f590eb1c0582e487619314e6aa12d68c281f0580"
  },
  "kernelspec": {
   "display_name": "Python 3 (ipykernel)",
   "language": "python",
   "name": "python3"
  },
  "language_info": {
   "codemirror_mode": {
    "name": "ipython",
    "version": 3
   },
   "file_extension": ".py",
   "mimetype": "text/x-python",
   "name": "python",
   "nbconvert_exporter": "python",
   "pygments_lexer": "ipython3",
   "version": "3.9.16"
  }
 },
 "nbformat": 4,
 "nbformat_minor": 4
}
