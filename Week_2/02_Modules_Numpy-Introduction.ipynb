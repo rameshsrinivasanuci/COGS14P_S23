{
 "cells": [
  {
   "cell_type": "markdown",
   "metadata": {
    "slideshow": {
     "slide_type": "slide"
    }
   },
   "source": [
    "# **Lecture 2**: Numpy Module for Scientific Computing: Arrays and Math Functions "
   ]
  },
  {
   "cell_type": "markdown",
   "metadata": {
    "slideshow": {
     "slide_type": "slide"
    }
   },
   "source": [
    "## Python Modules"
   ]
  },
  {
   "cell_type": "markdown",
   "metadata": {
    "slideshow": {
     "slide_type": "subslide"
    }
   },
   "source": [
    "### Python is organized around **modules**. A module is a collection of *functions* or *classes*, that are grouped together. \n",
    "\n",
    "### For now, you can think of a function or a class as some program that already exists, that you can make use of for your program, by *calling* the function or class.  \n",
    "\n",
    "### Some widely used modules and what they stand for \n",
    "\n",
    "1. ####  `numpy` - Numerical functions for Python\n",
    "\n",
    "1. ####  `scipy` - Scientific functions for Python, including engineering and statistics methods.  \n",
    "\n",
    "1. ####  `sklearn` - Data science and related statistical methods\n",
    "\n",
    "1. ####  `pandas` - File input, output and data organization methods. \n",
    "\n",
    "1. ####  `matplotlib` - Plotting and Data Visualization functions. \n",
    "\n",
    "### How do I learn more about this.  Google is your friend. \n"
   ]
  },
  {
   "cell_type": "markdown",
   "metadata": {
    "slideshow": {
     "slide_type": "slide"
    }
   },
   "source": [
    "## Functions and Classes \n",
    "\n",
    "### A **function** is a specialized operation that has been programmed to take one or more *input* variables and return one or more *output* variables.  \n",
    "\n",
    "### When your call a function, you will write a line of code that looks something like this \n",
    "\n",
    "`output_variables =  function_name(input_variables)`\n",
    "\n",
    "### There can be more than one output_variables, and more than one input_variables, separated by commas. \n",
    "\n",
    "### A Class is a template to create an **object** that has **methods** associated with it.\n",
    "\n",
    "`output_variables = object.method(input_variables)`\n"
   ]
  },
  {
   "cell_type": "markdown",
   "metadata": {
    "slideshow": {
     "slide_type": "slide"
    }
   },
   "source": [
    "## Numpy \n",
    "\n",
    "### The `numpy` **module** is used in almost all numerical computation using Python.  I do not think I have ever written a program without numpy.  \n",
    "\n",
    "### It is a package that provide high-performance vector, matrix and even higher-dimensional data structures for Python. \n",
    "\n",
    "### Underneath the hood, it is implemented in C and Fortran so performance is very good. You can't write anything faster.  \n",
    "\n",
    "### To use `numpy` you need to import the module, **sub-module** , or a specific **function** inside a module or submodile.  \n"
   ]
  },
  {
   "cell_type": "markdown",
   "metadata": {
    "slideshow": {
     "slide_type": "slide"
    },
    "tags": []
   },
   "source": [
    "## Import the numpy module\n",
    "\n",
    "### Because `numpy` is so generally useful, we usually import the entire numpy module.  There are two ways to do this:\n",
    "\n",
    "### `import numpy`\n",
    "\n",
    "### This tells python to import `numpy`\n",
    "\n",
    "### `import numpy as np`\n",
    "\n",
    "### This tells python to import the `numpy` module and use the abbreviation `np` to refer to it in the code. This is convenient as we concatenate function names as `np.function`.  \n",
    "\n",
    "### Note that you could have called it whatever you want.  `np` is widely used as an abbreviation for `numpy`. \n"
   ]
  },
  {
   "cell_type": "code",
   "execution_count": null,
   "metadata": {
    "slideshow": {
     "slide_type": "subslide"
    }
   },
   "outputs": [],
   "source": [
    "import numpy as np"
   ]
  },
  {
   "cell_type": "markdown",
   "metadata": {
    "slideshow": {
     "slide_type": "slide"
    }
   },
   "source": [
    "## Creating `numpy` arrays\n",
    "\n",
    "### In the `numpy` module the basic data type is an **array**. \n",
    "\n",
    "### Working with an array is a lot like working with a list, but arrays are more disciplined, so we can do more with them. \n",
    "\n",
    "### The critically important property is this: **Arrays only have 1 data type**\n"
   ]
  },
  {
   "cell_type": "markdown",
   "metadata": {
    "slideshow": {
     "slide_type": "subslide"
    }
   },
   "source": [
    "### There are a number of ways to initialize new numpy arrays, for example from\n",
    "1.  using functions that are dedicated to generating numpy arrays, such as `arange`, `linspace`\n",
    "1.  creating an array filled with the same value at every entry using functions such as `zeros` or `ones`\n",
    "1.  creating an array filled with random numbers using functions such as `random`\n",
    "### In working with data we will learn also how to create numpy arrays by \n",
    "1. reading data from different types of files\n",
    "1.  converting a Python list or tuples, using functions such as `array`"
   ]
  },
  {
   "cell_type": "markdown",
   "metadata": {
    "slideshow": {
     "slide_type": "slide"
    }
   },
   "source": [
    "## Initializing an array of zeros\n",
    "\n",
    "## Probably the most common way to create an array is to initialize all the elements of the array with the value 0. \n",
    "\n",
    "### This can be done with the function `zeros`. \n",
    "\n",
    "### A function takes input arguments \n",
    "\n",
    "### To invoke this function use `np.zeros`. I refer to it as `zeros` as it is the function `zeros` in the `np` module.\n",
    "\n",
    "### In principle, there could be another function called `zeros` in another module.  Specifying the module avoids confusion.  \n",
    "\n",
    "### An array always has a **size**.  In this example below i initialize an array called my_array with 5 elements, all of which have the value 0.  \n"
   ]
  },
  {
   "cell_type": "code",
   "execution_count": null,
   "metadata": {
    "slideshow": {
     "slide_type": "subslide"
    }
   },
   "outputs": [],
   "source": [
    "my_array = np.zeros(5)\n",
    "print(my_array)\n",
    "type(my_array)"
   ]
  },
  {
   "cell_type": "markdown",
   "metadata": {
    "slideshow": {
     "slide_type": "subslide"
    }
   },
   "source": [
    "### Notice that by default the array is floating point and not integer. How do we know that? \n",
    "\n",
    "### The type of variable is a numpy.ndarray\n",
    "\n",
    "### An array with 2 dimensions is called a **matrix**. In this case, I have to specify the 2-dimensions in a special type of list called a `tuple` which has round brackets `()` instead of square `[]` "
   ]
  },
  {
   "cell_type": "code",
   "execution_count": null,
   "metadata": {
    "slideshow": {
     "slide_type": "subslide"
    }
   },
   "outputs": [],
   "source": [
    "### Lets initialize a matrix\n",
    "my_array2 = np.zeros((3,4))\n",
    "print(my_array2)"
   ]
  },
  {
   "cell_type": "markdown",
   "metadata": {},
   "source": [
    "### Notice the form of the array above.  It has an outer square bracket, and then 3 separate numpy arrays of size 4 stacked on top of each other.  "
   ]
  },
  {
   "cell_type": "markdown",
   "metadata": {
    "slideshow": {
     "slide_type": "subslide"
    }
   },
   "source": [
    "### Now I'm going to initialize a slightly different array.  This is an array which has two dimensions.  It has 1 row and 5 columns. "
   ]
  },
  {
   "cell_type": "code",
   "execution_count": null,
   "metadata": {
    "slideshow": {
     "slide_type": "subslide"
    }
   },
   "outputs": [],
   "source": [
    "my_array3 = np.zeros((1,5))\n",
    "print(my_array3)"
   ]
  },
  {
   "cell_type": "markdown",
   "metadata": {},
   "source": [
    "### In the variables pane, we can compare the dimensions of my_array3 to my_array.  my_array3 has an extra dimension of size 1. \n",
    "\n",
    "### Dimensions of size 1 are not really helpful.  `numpy` has a function to get rid of them called `squeeze`"
   ]
  },
  {
   "cell_type": "code",
   "execution_count": null,
   "metadata": {},
   "outputs": [],
   "source": [
    "my_array4 = np.squeeze(my_array3)\n",
    "print(my_array4)"
   ]
  },
  {
   "cell_type": "markdown",
   "metadata": {
    "slideshow": {
     "slide_type": "slide"
    }
   },
   "source": [
    "## Checking the type of array.  \n",
    "### The `type` function in python will tell us what type of variable is my_array"
   ]
  },
  {
   "cell_type": "code",
   "execution_count": null,
   "metadata": {
    "slideshow": {
     "slide_type": "subslide"
    }
   },
   "outputs": [],
   "source": [
    "print(type(my_array))\n",
    "print(type(my_array2))\n",
    "print(type(my_array3))"
   ]
  },
  {
   "cell_type": "markdown",
   "metadata": {
    "slideshow": {
     "slide_type": "slide"
    }
   },
   "source": [
    "## Examining Array Size, Shape, and Data Type\n",
    "### Arrays generated with numpy are `objects` that have built in `methods`.  Some of these methods return properties of the arrays, and some of them can be used to manipulate the array\n",
    "###\n",
    "* ### `shape` tells us the shape of an array\n",
    "* ### `size` tells us the total number of elements in an array \n",
    "* ### `dtype` query the array for the type of data contained in it."
   ]
  },
  {
   "cell_type": "code",
   "execution_count": null,
   "metadata": {
    "scrolled": true,
    "slideshow": {
     "slide_type": "subslide"
    }
   },
   "outputs": [],
   "source": [
    "#array shape\n",
    "array_shape = my_array.shape\n",
    "print(array_shape)\n",
    "array2_shape = my_array2.shape\n",
    "print(array2_shape)"
   ]
  },
  {
   "cell_type": "code",
   "execution_count": null,
   "metadata": {
    "slideshow": {
     "slide_type": "subslide"
    }
   },
   "outputs": [],
   "source": [
    "#array size\n",
    "array_size = my_array.size\n",
    "print(array_size)\n",
    "array2_size = my_array2.size\n",
    "print(array2_size)\n"
   ]
  },
  {
   "cell_type": "code",
   "execution_count": null,
   "metadata": {
    "slideshow": {
     "slide_type": "subslide"
    }
   },
   "outputs": [],
   "source": [
    "### Alternatively, you could obtain the same information by using the corresponding `numpy` functions\n",
    "array2_shape = np.shape(my_array2)\n",
    "print(array2_shape)\n",
    "array2_size = np.size(my_array2)\n",
    "print(array2_size)\n",
    "### But its a good idea to gain some experience with the object-oriented syntax, because some things cannot be done without it.  "
   ]
  },
  {
   "cell_type": "code",
   "execution_count": null,
   "metadata": {
    "slideshow": {
     "slide_type": "subslide"
    }
   },
   "outputs": [],
   "source": [
    "#dtype is only available as an object method\n",
    "print(my_array2.dtype)"
   ]
  },
  {
   "cell_type": "markdown",
   "metadata": {
    "slideshow": {
     "slide_type": "subslide"
    }
   },
   "source": [
    "### We made a matrix of zeros.  zeros could have been integers, but they can also be floating point numbers. \n",
    "\n",
    "### notice that instead of `float` it specifies the type as `float64`.  This refers the precision of the computer on which you are doing calculations.   \n",
    "\n",
    "### We usually don't worry about the bit-size and let python go to its default which is usually 64 bit on modern computers.  \n",
    "\n",
    "### However, there are some times you have to pay attention to it, that usually involves data that comes from an external source.  \n",
    "\n",
    "### One example is in handling **images**, where the number of bits controls the degree of specificity in color, etc of an image. \n",
    "\n",
    "### Another example comes from measuring physiological signals like EEG or heart rate while doing behavioral experiments.  In this case, the devices are constrained by acquisition speed, and may limit the resolution to 16 bits.  \n"
   ]
  },
  {
   "cell_type": "markdown",
   "metadata": {
    "slideshow": {
     "slide_type": "slide"
    }
   },
   "source": [
    "## Initializing an array of ones or any arbitrary value.\n",
    "### Similar to the function `zeros` numpy has a function called `ones`\n",
    "### You can use it to make arrays containing arbitrary values\n",
    "### An array of ones can be multiplied by an arbitrary constant to make an array of that value. "
   ]
  },
  {
   "cell_type": "code",
   "execution_count": null,
   "metadata": {
    "slideshow": {
     "slide_type": "subslide"
    }
   },
   "outputs": [],
   "source": [
    "my_one_array = np.ones(4)\n",
    "print(my_one_array)\n",
    "my_fives_array = 5*np.ones(10)\n",
    "print(my_fives_array)"
   ]
  },
  {
   "cell_type": "markdown",
   "metadata": {
    "slideshow": {
     "slide_type": "slide"
    }
   },
   "source": [
    "## Array-generating functions\n",
    "### `zeros` and `ones` are examples of array generating function, which populates an array of user specified size with the value zero or one respectively.  \n",
    "### There are a number of very useful array generating functions in the numpy module.\n",
    "### We will introduce the 2 of the most important ones here:\n",
    "### * `arange` - creates a range of linearly spaced values specifying interval\n",
    "### * `linspace` - lineary spaced values specifying number of values"
   ]
  },
  {
   "cell_type": "markdown",
   "metadata": {
    "slideshow": {
     "slide_type": "subslide"
    }
   },
   "source": [
    "### `arange` creates an array containing values from a starting point to an ending point with a user specified step. \n",
    "\n",
    "###  With `arange` **the ending point is not included in the array.**  "
   ]
  },
  {
   "cell_type": "code",
   "execution_count": null,
   "metadata": {
    "slideshow": {
     "slide_type": "subslide"
    }
   },
   "outputs": [],
   "source": [
    "# create a range\n",
    "#using arange the stop point IS NOT included\n",
    "x = np.arange(0, 10, 1) # arguments: start, stop, step\n",
    "print(x)"
   ]
  },
  {
   "cell_type": "code",
   "execution_count": null,
   "metadata": {
    "slideshow": {
     "slide_type": "subslide"
    }
   },
   "outputs": [],
   "source": [
    "y = np.arange(-4, 4.01, 0.5)  #notice I stopped it at 4.01 instead of 4.  \n",
    "print(y)"
   ]
  },
  {
   "cell_type": "markdown",
   "metadata": {
    "slideshow": {
     "slide_type": "subslide"
    }
   },
   "source": [
    "### `linspace` creates an array from a starting point to an ending point, with the number of points specified by the user rather than the step.  \n",
    "\n",
    "### With `linspace` **the ending point is included in the array** "
   ]
  },
  {
   "cell_type": "code",
   "execution_count": null,
   "metadata": {
    "slideshow": {
     "slide_type": "subslide"
    }
   },
   "outputs": [],
   "source": [
    "# using linspace, both end points ARE included\n",
    "z = np.linspace(0, 10, 26) #arguments: start, stop, number of points\n",
    "print(z)"
   ]
  },
  {
   "cell_type": "code",
   "execution_count": null,
   "metadata": {
    "slideshow": {
     "slide_type": "subslide"
    }
   },
   "outputs": [],
   "source": [
    "np.shape(z)"
   ]
  },
  {
   "cell_type": "markdown",
   "metadata": {
    "slideshow": {
     "slide_type": "slide"
    }
   },
   "source": [
    "## Converting other data types into an array\n",
    "\n",
    "### The function `array` can be used to convert other data types into arrays. \n",
    "\n",
    "### The most common use is to convert a **list** into a **ndarray** \n"
   ]
  },
  {
   "cell_type": "code",
   "execution_count": null,
   "metadata": {
    "slideshow": {
     "slide_type": "subslide"
    }
   },
   "outputs": [],
   "source": [
    "my_list = [1,2,3]\n",
    "print('my_list = ', my_list)\n",
    "my_array = np.array(my_list)\n",
    "print('my_array = ',my_array)\n",
    "# Notice that the list is separated by commas while arrays are separated by spaces.   "
   ]
  },
  {
   "cell_type": "code",
   "execution_count": null,
   "metadata": {
    "slideshow": {
     "slide_type": "subslide"
    }
   },
   "outputs": [],
   "source": [
    "my_list = [2.0,2.9,13]\n",
    "print('my_list = ', my_list)\n",
    "my_array = np.array(my_list)\n",
    "print('my_array = ',my_array)\n",
    "# Notice that in this example my list had two floating point numbers and 1 integer.  By default, it will convert the integer into a floating point because an array can only have 1 data type.  "
   ]
  },
  {
   "cell_type": "code",
   "execution_count": null,
   "metadata": {},
   "outputs": [],
   "source": [
    "# I could try to force the array to produce integers. This will cause all decimal values to be removed. "
   ]
  },
  {
   "cell_type": "code",
   "execution_count": null,
   "metadata": {},
   "outputs": [],
   "source": [
    "my_array_int = np.array(my_list,dtype = 'int') # notice I specified the dtype\n",
    "print(my_array_int)"
   ]
  },
  {
   "cell_type": "code",
   "execution_count": null,
   "metadata": {
    "slideshow": {
     "slide_type": "subslide"
    }
   },
   "outputs": [],
   "source": [
    "my_kawhi_list = ['Kawhi','Leonard','June',29,1991,79.0]\n",
    "print('my_kawhi_list = ', my_kawhi_list)\n",
    "my_kawhi_array = np.array(my_kawhi_list)\n",
    "print('my_kawhi_array = ',my_kawhi_array)\n",
    "#Notice that the presence of a string converts all of the elements of the list into an array of strings. "
   ]
  },
  {
   "cell_type": "markdown",
   "metadata": {
    "slideshow": {
     "slide_type": "slide"
    }
   },
   "source": [
    "##  Mathematical Functions in numpy"
   ]
  },
  {
   "cell_type": "markdown",
   "metadata": {
    "slideshow": {
     "slide_type": "subslide"
    }
   },
   "source": [
    "### Numpy has built in a large number of mathematical functions.  \n",
    "\n",
    "### Basic Math\n",
    "### Of course the basic operations will work on numpy arrays, element by element:\n",
    "* +, addition                                  \n",
    "* -, subtraction\n",
    "* \\*, multiplication\n",
    "* / division \n",
    "* \\*\\*, exponentiation \n",
    "* //, floor division or integer division \n",
    "* %, remainder \n",
    "### **THEY WILL ONLY WORK WITH A SCALAR NUMBER OR WITH ARRAYS OF THE SAME SIZE**"
   ]
  },
  {
   "cell_type": "code",
   "execution_count": null,
   "metadata": {
    "scrolled": true,
    "slideshow": {
     "slide_type": "subslide"
    }
   },
   "outputs": [],
   "source": [
    "a = np.array([0.5, 1,2])\n",
    "b = np.array([4,6,8]) \n",
    "c = np.array([-1,1])\n",
    "print(a)\n",
    "print(b)\n",
    "print(c)\n",
    "#lets test the operations above. "
   ]
  },
  {
   "cell_type": "markdown",
   "metadata": {
    "slideshow": {
     "slide_type": "subslide"
    }
   },
   "source": [
    "### Arithmetic with scalar numbers. \n",
    "### We can use the usual arithmetic operators to multiply, add, subtract, and divide arrays with scalar numbers.\n"
   ]
  },
  {
   "cell_type": "code",
   "execution_count": null,
   "metadata": {
    "slideshow": {
     "slide_type": "subslide"
    }
   },
   "outputs": [],
   "source": [
    "print(b)\n",
    "add = b+2 \n",
    "print(add)\n",
    "subtract = b-2\n",
    "print(subtract)\n",
    "multiply = b*2\n",
    "print(multiply)\n",
    "divide = b/2 \n",
    "print(divide)\n"
   ]
  },
  {
   "cell_type": "markdown",
   "metadata": {
    "slideshow": {
     "slide_type": "subslide"
    }
   },
   "source": [
    "### This is just a self exercise, to make sure you are comfortable with doing basic math operations. \n",
    "### verify what happens when you do \n",
    "*   a+b\n",
    "*   a-b\n",
    "*   a*b\n",
    "*   a/b\n",
    "*   a**2\n",
    "*   b/3\n",
    "*   b//3\n",
    "*   b%3 \n",
    "### You dont need to submit these responses.  Just do it for yourself in the box below. \n",
    "### Also confirm you cannot do this \n",
    "*   a+c\n",
    "### This is because the arrays do not match in size.  \n"
   ]
  },
  {
   "cell_type": "code",
   "execution_count": null,
   "metadata": {
    "slideshow": {
     "slide_type": "subslide"
    }
   },
   "outputs": [],
   "source": []
  },
  {
   "cell_type": "markdown",
   "metadata": {
    "slideshow": {
     "slide_type": "slide"
    }
   },
   "source": [
    "## Manipulating Sign and Data Type\n",
    "### There are also some basic manipulation of the sign and type of data:\n",
    "* `abs`, computes the absolute value\n",
    "* `rint`, rounds to the nearest integer\n",
    "* `floor`, return the first integer value less than the number  \n",
    "* `ceil`, return the first integer higher than the number\n",
    "* `sign`, returns -1 for negative values and 1 for positive values "
   ]
  },
  {
   "cell_type": "code",
   "execution_count": null,
   "metadata": {
    "slideshow": {
     "slide_type": "subslide"
    }
   },
   "outputs": [],
   "source": [
    "c = np.array([-1.75, -0.75, -0.5, 0, 0.5, 0.75, 1.75])\n",
    "print(c)\n",
    "#let's test the operations above\n",
    "print('abs: ',np.abs(c))\n",
    "print('rint: ',np.rint(c))\n",
    "print('floor: ',np.floor(c))\n",
    "print('ceil: ',np.ceil(c))\n",
    "print('sign: ',np.sign(c))"
   ]
  },
  {
   "cell_type": "markdown",
   "metadata": {},
   "source": [
    "## Indexing into arrays manually and using `range`\n",
    "### Indexing into arrays works identically to indexing into lists\n",
    "### The `range` function can be helpful in indexing into arrays \n",
    "### The `range` function is useful for automatically making list of indices.  "
   ]
  },
  {
   "cell_type": "code",
   "execution_count": null,
   "metadata": {},
   "outputs": [],
   "source": [
    "c = np.array([-1.75, -0.75, -0.5, 0, 0.5, 0.75, 1.75])\n",
    "## this is the 4th element of c\n",
    "print(c[3]) \n",
    "## This is the first 3 elements of c \n",
    "print(c[0:3])\n",
    "## you could also do this with the range function \n",
    "print(c[range(4)])\n",
    "## This is the last 2 elements of c \n",
    "print(c[-2:])\n",
    "## This is the 1st,3rd, and 5th element of c \n",
    "print(c[0:5:2])\n",
    "## You could also do this with the range function \n",
    "print (c[range(0,5,2)])\n",
    "## This is the first, 4th, and 8th element of c\n",
    "print(c[range(0,8,3)])"
   ]
  },
  {
   "cell_type": "code",
   "execution_count": null,
   "metadata": {},
   "outputs": [],
   "source": []
  }
 ],
 "metadata": {
  "celltoolbar": "Slideshow",
  "interpreter": {
   "hash": "fda1d92c402c9d5e0550eab7f590eb1c0582e487619314e6aa12d68c281f0580"
  },
  "kernelspec": {
   "display_name": "Python 3 (ipykernel)",
   "language": "python",
   "name": "python3"
  },
  "language_info": {
   "codemirror_mode": {
    "name": "ipython",
    "version": 3
   },
   "file_extension": ".py",
   "mimetype": "text/x-python",
   "name": "python",
   "nbconvert_exporter": "python",
   "pygments_lexer": "ipython3",
   "version": "3.11.3"
  }
 },
 "nbformat": 4,
 "nbformat_minor": 4
}
