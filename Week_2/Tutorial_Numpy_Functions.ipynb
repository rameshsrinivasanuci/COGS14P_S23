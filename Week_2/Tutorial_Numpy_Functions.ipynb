{
 "cells": [
  {
   "cell_type": "markdown",
   "metadata": {
    "slideshow": {
     "slide_type": "slide"
    },
    "tags": []
   },
   "source": [
    "# Tutorial **Numpy Functions** - Array Handling"
   ]
  },
  {
   "cell_type": "markdown",
   "metadata": {
    "slideshow": {
     "slide_type": "subslide"
    },
    "tags": []
   },
   "source": [
    "### The `numpy` **module** is used in almost all numerical computation using Python. \n",
    "\n",
    "### A **function** is a specialized operation that has been programmed to take one or more *input* variables and return one or more *output* variables. \n",
    "### In this lesson, we will learn about a number of numpy functions that are useful.  I am not going to cover every numpy function.  Im not even going to cover most of them. \n",
    "\n"
   ]
  },
  {
   "cell_type": "code",
   "execution_count": null,
   "metadata": {
    "slideshow": {
     "slide_type": "subslide"
    },
    "tags": []
   },
   "outputs": [],
   "source": [
    "# Import the numpy module\n",
    "import numpy as np"
   ]
  },
  {
   "cell_type": "markdown",
   "metadata": {
    "slideshow": {
     "slide_type": "subslide"
    },
    "tags": []
   },
   "source": [
    "### I'm also going to specifically import the random submodule in order to make my code easier to read\n",
    "### I will also start the random number generator"
   ]
  },
  {
   "cell_type": "code",
   "execution_count": null,
   "metadata": {
    "slideshow": {
     "slide_type": "subslide"
    },
    "tags": []
   },
   "outputs": [],
   "source": [
    "from numpy import random\n",
    "myseed = 1967\n",
    "rng = random.default_rng(seed = myseed)"
   ]
  },
  {
   "cell_type": "markdown",
   "metadata": {
    "slideshow": {
     "slide_type": "slide"
    },
    "tags": []
   },
   "source": [
    "##  Mathematical Functions in numpy"
   ]
  },
  {
   "cell_type": "markdown",
   "metadata": {
    "slideshow": {
     "slide_type": "slide"
    },
    "tags": []
   },
   "source": [
    "### Basic Math\n",
    "### Of course the basic operations will work on numpy arrays, element by element:\n",
    "* +, addition                                  \n",
    "* -, subtraction\n",
    "* \\*, multiplication\n",
    "* / division \n",
    "* \\*\\*, exponentiation \n",
    "* //, floor division or integer division \n",
    "* %, remainder \n",
    "### **THEY WILL ONLY WORK WITH A CONSTANT OR WITH ARRAYS OF THE SAME SIZE**"
   ]
  },
  {
   "cell_type": "code",
   "execution_count": null,
   "metadata": {
    "scrolled": true,
    "slideshow": {
     "slide_type": "subslide"
    },
    "tags": []
   },
   "outputs": [],
   "source": [
    "a = np.array([0.5, 1,2])\n",
    "b = np.array([4,6,8]) \n",
    "c = np.array([-1,1])\n",
    "print('b ', b)\n",
    "#operating on a constant \n",
    "add = b+2   \n",
    "print('b+2 ',add)\n",
    "subtract = b-2\n",
    "print('b-2 ', subtract)\n",
    "multiply = b*2\n",
    "print('b*2 ', multiply)\n",
    "divide = b/2 \n",
    "print('b/2 ', divide)\n",
    "exponent = b**2\n",
    "print('b**2 ', exponent)"
   ]
  },
  {
   "cell_type": "code",
   "execution_count": null,
   "metadata": {
    "slideshow": {
     "slide_type": "subslide"
    },
    "tags": []
   },
   "outputs": [],
   "source": [
    "print('a ',a)\n",
    "print('b ',b)\n",
    "#operating on arrays \n",
    "add = b+a   \n",
    "print('b+a ',add)\n",
    "subtract = b-a\n",
    "print('b-a ',subtract)\n",
    "multiply = b*a\n",
    "print('b*a ',multiply)\n",
    "divide = b/a \n",
    "print('b/a ', divide)"
   ]
  },
  {
   "cell_type": "markdown",
   "metadata": {
    "slideshow": {
     "slide_type": "slide"
    },
    "tags": []
   },
   "source": [
    "## Manipulating Sign and Data Type\n",
    "### There are also some basic manipulation of the sign and type of data:\n",
    "* `abs`, computes the absolute value\n",
    "* `rint`, rounds to the nearest integer\n",
    "* `floor`, discard the decimal and return integer value  \n",
    "* `ceil`, return the first integer higher than the number\n",
    "* `sign`, returns -1 for negative values and 1 for positive values "
   ]
  },
  {
   "cell_type": "code",
   "execution_count": null,
   "metadata": {
    "slideshow": {
     "slide_type": "subslide"
    },
    "tags": []
   },
   "outputs": [],
   "source": [
    "c = np.array([-1.25, -0.75,-0.25, 0,0.25, 0.75, 1.25])\n",
    "print('c ', c)\n",
    "#let's test the operations above\n",
    "c_abs = np.abs(c)\n",
    "print('abs ',c_abs)\n",
    "c_rint = np.rint(c)\n",
    "print('rint ',c_rint)\n",
    "c_floor = np.floor(c)\n",
    "print('floor ',c_floor)\n",
    "c_ceil = np.ceil(c)\n",
    "print('ceil ',c_ceil)\n",
    "c_sign = np.sign(c)\n",
    "print('sign ',c_sign)\n",
    "\n"
   ]
  },
  {
   "cell_type": "markdown",
   "metadata": {
    "slideshow": {
     "slide_type": "slide"
    },
    "tags": []
   },
   "source": [
    "## Maximum and minimum \n",
    "### There are three pairs of functions that handle maximum and minimum of arrays. \n",
    "### 1. Within an array to find the maximum/minimum\n",
    "* `amax`\n",
    "* `amin` \n",
    "### 2. to find the *index* of the maximum or minimum element of an array\n",
    "* `argmax`\n",
    "* `argmin`\n",
    "### 3. to compare two equal size arrays element by element, use \n",
    "* `maximum`\n",
    "* `minimum` "
   ]
  },
  {
   "cell_type": "markdown",
   "metadata": {},
   "source": [
    "### Lets get the maximum and minimum of an array and the index of the maximum and minimum of an array"
   ]
  },
  {
   "cell_type": "code",
   "execution_count": null,
   "metadata": {
    "slideshow": {
     "slide_type": "subslide"
    },
    "tags": []
   },
   "outputs": [],
   "source": [
    "v = rng.integers(1,21,15) #15 integers ranging from 1 to 20\n",
    "maxv = np.max(v) # find the maximum value of v\n",
    "index_maxv = np.argmax(v) #find the index into v that gives the maximum value.  \n",
    "print('v = ',v)\n",
    "print('maxv = ',maxv)\n",
    "print('index_maxv =', index_maxv)\n",
    "minv = np.min(v) #find the minimum value of v\n",
    "index_minv = np.argmin(v) # find the index into v that gives the minimum value \n",
    "print('v = ',v)\n",
    "print('minv = ',minv)\n",
    "print('index_minv =', index_minv)"
   ]
  },
  {
   "cell_type": "markdown",
   "metadata": {
    "slideshow": {
     "slide_type": "subslide"
    },
    "tags": []
   },
   "source": [
    "### We can compute the minimum or maximum of a matrix.  "
   ]
  },
  {
   "cell_type": "code",
   "execution_count": null,
   "metadata": {
    "slideshow": {
     "slide_type": "subslide"
    },
    "tags": []
   },
   "outputs": [],
   "source": [
    "M = rng.integers(1,21,(4,8)) # random numbers between 1 and 20 in a 5 x 6 matrix\n",
    "M_min = np.min(M) # find the minimum of a matrix\n",
    "M_min_index = np.argmin(M) # find the index into a matrix that identifies the minimim \n",
    "M_max = np.max(M) #find the maximum of a matrix \n",
    "M_max_index = np.argmax(M) #find the index into a matrix that identifies the maximum\n",
    "print('M')\n",
    "print(M)\n",
    "print('M_min')\n",
    "print(M_min)\n",
    "print('M_min_index')\n",
    "print(M_min_index) #Here, the index is computed in row order\n",
    "print('M_max')\n",
    "print(M_max)\n",
    "print('M_max_index')\n",
    "print(M_max_index) #Here the index is computed in row order.  "
   ]
  },
  {
   "cell_type": "markdown",
   "metadata": {
    "slideshow": {
     "slide_type": "subslide"
    },
    "tags": []
   },
   "source": [
    "### When working with a matrix we often want to compute the maximum or minimum of each row or column.  To do that, we have to specify an *axis*"
   ]
  },
  {
   "cell_type": "code",
   "execution_count": null,
   "metadata": {
    "scrolled": true,
    "slideshow": {
     "slide_type": "subslide"
    },
    "tags": []
   },
   "outputs": [],
   "source": [
    "M = rng.integers(1,21,(7,3)) # random numbers between 1 and 20 in a 5 x 6 matrix\n",
    "maxM_0 = np.max(M,axis = 0)\n",
    "maxM_1 = np.max(M,axis = 1)\n",
    "print('M')\n",
    "print(M)\n",
    "print('max, axis = 0') # maximum of each column, \n",
    "print(maxM_0)\n",
    "print('max, axis = 1') # maximum of each row, \n",
    "print(maxM_1)"
   ]
  },
  {
   "cell_type": "markdown",
   "metadata": {
    "slideshow": {
     "slide_type": "subslide"
    },
    "tags": []
   },
   "source": [
    "### I can also compare two arrays and choose the maximum or minimum element by element "
   ]
  },
  {
   "cell_type": "code",
   "execution_count": null,
   "metadata": {
    "slideshow": {
     "slide_type": "subslide"
    },
    "tags": []
   },
   "outputs": [],
   "source": [
    "w = rng.integers(1,7,10)\n",
    "u = rng.integers(1,7,10)\n",
    "print('w = ',w)\n",
    "print('u = ',u)\n",
    "p = np.maximum(u,w)\n",
    "q = np.minimum(u,w)\n",
    "print('p = ',p)\n",
    "print('q = ',q)"
   ]
  },
  {
   "cell_type": "markdown",
   "metadata": {
    "slideshow": {
     "slide_type": "slide"
    },
    "tags": []
   },
   "source": [
    "## Sort functions for `numpy` arrays\n",
    "### In many operations with data it is useful to be able to sort the data from lowest to highest, or highest to lowest. \n",
    "### It is perhaps not surprising that the function that will sort an array is called `sort`"
   ]
  },
  {
   "cell_type": "code",
   "execution_count": null,
   "metadata": {
    "slideshow": {
     "slide_type": "subslide"
    },
    "tags": []
   },
   "outputs": [],
   "source": [
    "v = rng.integers(1,7,10)  # 10 random numbers between 1 and 6\n",
    "v_sorted = np.sort(v) #sort v in ascending order \n",
    "print('v =', v)\n",
    "print('v_sorted =',v_sorted)"
   ]
  },
  {
   "cell_type": "markdown",
   "metadata": {
    "slideshow": {
     "slide_type": "subslide"
    },
    "tags": []
   },
   "source": [
    "### Numpy `sort` function always sorts in ascending order from lowest to highest.  What if I wanted to sort from highest to lowest? \n",
    "\n",
    "### Numpy has a `flip` function that allows up reverse the order of the elements in an array. "
   ]
  },
  {
   "cell_type": "code",
   "execution_count": null,
   "metadata": {
    "slideshow": {
     "slide_type": "subslide"
    },
    "tags": []
   },
   "outputs": [],
   "source": [
    "v_flipped = np.flip(v)\n",
    "print('v = ',v)\n",
    "print('v_flipped = ', v_flipped)"
   ]
  },
  {
   "cell_type": "code",
   "execution_count": null,
   "metadata": {
    "slideshow": {
     "slide_type": "subslide"
    },
    "tags": []
   },
   "outputs": [],
   "source": [
    "v_sorted = np.sort(v)\n",
    "v_sorted = np.flip(v_sorted)\n",
    "print('v_sorted =', v_sorted)"
   ]
  },
  {
   "cell_type": "code",
   "execution_count": null,
   "metadata": {
    "scrolled": true,
    "slideshow": {
     "slide_type": "subslide"
    },
    "tags": []
   },
   "outputs": [],
   "source": [
    "#I could actually do it one step by **nesting** my functions like this. \n",
    "v_sorted = np.flip(np.sort(v)) # I implicitly take the output of np.sort and enter into np.flip\n",
    "print('v_sorted =', v_sorted)"
   ]
  },
  {
   "cell_type": "markdown",
   "metadata": {
    "slideshow": {
     "slide_type": "subslide"
    },
    "tags": []
   },
   "source": [
    "## Matrix sort and the `axis`\n",
    "### What does sorting a matrix (or any array with more than one dimension) do? "
   ]
  },
  {
   "cell_type": "code",
   "execution_count": null,
   "metadata": {
    "scrolled": true,
    "slideshow": {
     "slide_type": "subslide"
    },
    "tags": []
   },
   "outputs": [],
   "source": [
    "M = rng.integers(1,7,(6,10)) # 6 by 10 matrix containing random numbers between 1 and 6 \n",
    "M_test = np.sort(M)\n",
    "print('M')\n",
    "print(M)\n",
    "print('M_test')\n",
    "print(M_test)"
   ]
  },
  {
   "cell_type": "markdown",
   "metadata": {
    "slideshow": {
     "slide_type": "subslide"
    },
    "tags": []
   },
   "source": [
    "### If we compare the two matrices, it looks like it took each row of M and applied a sort to it by *default*.\n",
    "### When sorting a matrix or higher dimension array, we can make explicit which dimension we want to apply the sort along. \n",
    "### Recall that in a matrix (2 dimensional array), the first dimension is the row and the second dimension is the columns \n",
    "### In python the first dimension *axis* is 0 for the row and the second dimension or *axis* is 1 for columns.  "
   ]
  },
  {
   "cell_type": "code",
   "execution_count": null,
   "metadata": {
    "slideshow": {
     "slide_type": "slide"
    },
    "tags": []
   },
   "outputs": [],
   "source": [
    "M_sorted_0 = np.sort(M, axis = 0) #sort each column \n",
    "M_sorted_1 = np.sort(M, axis = 1) #sort each row \n",
    "print('M_sorted_0')\n",
    "print(M_sorted_0)\n",
    "print('M_sorted_1')\n",
    "print(M_sorted_1)"
   ]
  },
  {
   "cell_type": "markdown",
   "metadata": {
    "slideshow": {
     "slide_type": "subslide"
    },
    "tags": []
   },
   "source": [
    "### Specifying axis = 0 sorted each column along the rows.\n",
    "### Specifying axis = 1 sorted each row along the columns. \n",
    "### The default behavior of `sort` is to sort along the last axis.\n",
    "### It's good practice to specify the *axis* along which you want to sort unless its a simple array. "
   ]
  },
  {
   "cell_type": "markdown",
   "metadata": {
    "slideshow": {
     "slide_type": "subslide"
    },
    "tags": []
   },
   "source": [
    "### If I need to sort one dimension of a matrix along descending order, I can use the sort function as above, and the `flip` function also specifying an axis "
   ]
  },
  {
   "cell_type": "code",
   "execution_count": null,
   "metadata": {
    "scrolled": true,
    "slideshow": {
     "slide_type": "slide"
    },
    "tags": []
   },
   "outputs": [],
   "source": [
    "M_sorted_1 = np.flip(M_sorted_1,axis =1)\n",
    "print(M_sorted_1)"
   ]
  },
  {
   "cell_type": "markdown",
   "metadata": {
    "slideshow": {
     "slide_type": "slide"
    },
    "tags": []
   },
   "source": [
    "## Ordered Indices - `argsort`\n",
    "### In many (*most?*) circumstances you don't only want to be able to obtain a sorted list of items, but you also want to know *what order of indices* produces the sorted list.  This may not seem obvious, but i will make some examples here that illustrate why this is important. \n",
    "\n",
    "### The `argsort` function tells you the order of indices to sort an array"
   ]
  },
  {
   "cell_type": "code",
   "execution_count": null,
   "metadata": {
    "slideshow": {
     "slide_type": "subslide"
    },
    "tags": []
   },
   "outputs": [],
   "source": [
    "v = rng.integers(1,7,10)\n",
    "v_sorted = np.sort(v) #This obtains a sorted list in increasing order. \n",
    "sort_order = np.argsort(v) #This obtains a list of ordered indices that you could use to sort v \n",
    "v_sorted_byorder = v[sort_order]\n",
    "print('i = ',np.arange(0,10,1)) # i juat wanted to track the index \n",
    "print('v = ',v)\n",
    "print('sort_order = ',sort_order)\n",
    "print('v_sorted = ',v_sorted)\n",
    "print('v_sorted_byorder = ', v_sorted_byorder)"
   ]
  },
  {
   "cell_type": "markdown",
   "metadata": {
    "slideshow": {
     "slide_type": "subslide"
    },
    "tags": []
   },
   "source": [
    "### Why is this useful? \n",
    "\n",
    "### Many times, we want to sort data on one variable, *and sort other variables in the same order*\n",
    "\n",
    "### I provide an example here on the relationship between age and LDL-bad cholesterol. "
   ]
  },
  {
   "cell_type": "code",
   "execution_count": null,
   "metadata": {
    "slideshow": {
     "slide_type": "subslide"
    },
    "tags": []
   },
   "outputs": [],
   "source": [
    "age = np.array([55,58,72,46,48,65]) #age in years\n",
    "LDL = np.array([65,90,120,55,70,100]) #LDL - bad cholesterol "
   ]
  },
  {
   "cell_type": "markdown",
   "metadata": {
    "slideshow": {
     "slide_type": "subslide"
    },
    "tags": []
   },
   "source": [
    "### I want to quickly look at those numbers and determine if LDL goes up with age.  \n",
    "### What I'm going to do is sort the data by age and then use that sort order with the LDL data. "
   ]
  },
  {
   "cell_type": "code",
   "execution_count": null,
   "metadata": {
    "slideshow": {
     "slide_type": "subslide"
    },
    "tags": []
   },
   "outputs": [],
   "source": [
    "age_order = np.argsort(age)\n",
    "age_sorted = age[age_order]\n",
    "LDL_sorted_byage = LDL[age_order] # notice i passed the indices to order age into LDL\n",
    "print('age = ', age_sorted)\n",
    "print('LDL = ', LDL_sorted_byage)"
   ]
  }
 ],
 "metadata": {
  "interpreter": {
   "hash": "fda1d92c402c9d5e0550eab7f590eb1c0582e487619314e6aa12d68c281f0580"
  },
  "kernelspec": {
   "display_name": "Python 3 (ipykernel)",
   "language": "python",
   "name": "python3"
  },
  "language_info": {
   "codemirror_mode": {
    "name": "ipython",
    "version": 3
   },
   "file_extension": ".py",
   "mimetype": "text/x-python",
   "name": "python",
   "nbconvert_exporter": "python",
   "pygments_lexer": "ipython3",
   "version": "3.11.3"
  }
 },
 "nbformat": 4,
 "nbformat_minor": 4
}
