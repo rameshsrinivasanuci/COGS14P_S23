{
 "cells": [
  {
   "cell_type": "markdown",
   "metadata": {
    "slideshow": {
     "slide_type": "slide"
    },
    "tags": []
   },
   "source": [
    "# **Lecture** How to Make and Use Functions\n",
    "\n",
    "## A **function** is a re-usable piece of code that performs operations on a specified set of variables, and returns the result. \n",
    "## You have worked with many built-in python and numpy **functions** like `print` and `np.mean`, etc.  \n"
   ]
  },
  {
   "cell_type": "markdown",
   "metadata": {
    "slideshow": {
     "slide_type": "slide"
    },
    "tags": []
   },
   "source": [
    "## **Why do I need this?** \n",
    "* ### Some pieces of code perform a particular operation which you plan to use many times. Rather than copying the code you can use the function. \n",
    "* ### If we define a function it becomes easy to use the same code in many programs. \n",
    "* ### It improves testing, readability, and reliability by breaking up the program into smaller units. "
   ]
  },
  {
   "cell_type": "markdown",
   "metadata": {
    "slideshow": {
     "slide_type": "slide"
    },
    "tags": []
   },
   "source": [
    "## Syntax of a Function\n",
    "\n",
    "### These are the essential pieces to a function: \n",
    "* ### `def` statement naming the function and how to call it. The def statement should end with a colon :\n",
    "* ### The function has a name.  This name will be used to call the function. \n",
    "* ###  The function may have **arguments**.  Arguments are variables passed into the function. \n",
    "* ### `return` statement indicating what variables are returned (almost always!)."
   ]
  },
  {
   "cell_type": "markdown",
   "metadata": {
    "slideshow": {
     "slide_type": "slide"
    },
    "tags": []
   },
   "source": [
    "### So, the most basic structure of a function definition is \n",
    "\n",
    "    def function_name(arg):\n",
    "        some code that works on arg and creates output_variable\n",
    "        return output_variable "
   ]
  },
  {
   "cell_type": "code",
   "execution_count": 1,
   "metadata": {
    "slideshow": {
     "slide_type": "slide"
    },
    "tags": []
   },
   "outputs": [],
   "source": [
    "import numpy as np \n",
    "from numpy import random\n",
    "rng = random.default_rng(seed = 1967)"
   ]
  },
  {
   "cell_type": "code",
   "execution_count": 2,
   "metadata": {
    "slideshow": {
     "slide_type": "slide"
    },
    "tags": []
   },
   "outputs": [],
   "source": [
    "### Example: Square a number\n",
    "def square(x):  #Here, x is called the argument. \n",
    "    y = x**2    #Here I do the calculation \n",
    "    return y    # here i tell it to return y"
   ]
  },
  {
   "cell_type": "code",
   "execution_count": 3,
   "metadata": {
    "slideshow": {
     "slide_type": "subslide"
    },
    "tags": []
   },
   "outputs": [
    {
     "name": "stdout",
     "output_type": "stream",
     "text": [
      "25\n"
     ]
    }
   ],
   "source": [
    "x = 5\n",
    "y = square(x)\n",
    "print(y)"
   ]
  },
  {
   "cell_type": "code",
   "execution_count": 4,
   "metadata": {
    "slideshow": {
     "slide_type": "subslide"
    },
    "tags": []
   },
   "outputs": [
    {
     "name": "stdout",
     "output_type": "stream",
     "text": [
      "4\n"
     ]
    }
   ],
   "source": [
    "### I dont really need to define x, I could just pass the number in \n",
    "y = square(2)\n",
    "print(y)"
   ]
  },
  {
   "cell_type": "markdown",
   "metadata": {
    "slideshow": {
     "slide_type": "subslide"
    },
    "tags": []
   },
   "source": [
    "### There is nothing special about x and y, I could use any variable names. \n",
    "### The only name that is important is the **function** name, which is `square`\n",
    "### The function name is defined in the `def` statement\n"
   ]
  },
  {
   "cell_type": "code",
   "execution_count": 5,
   "metadata": {
    "slideshow": {
     "slide_type": "subslide"
    },
    "tags": []
   },
   "outputs": [
    {
     "name": "stdout",
     "output_type": "stream",
     "text": [
      "9\n"
     ]
    }
   ],
   "source": [
    "my_var = 3\n",
    "my_var_sq = square(my_var)\n",
    "print(my_var_sq)"
   ]
  },
  {
   "cell_type": "markdown",
   "metadata": {
    "slideshow": {
     "slide_type": "slide"
    },
    "tags": []
   },
   "source": [
    "## Functions Have Independent Namespaces \n",
    "## What is a Namespace?  \n",
    "### The Namespace is the total set of variables, object, functions defined by you while programming.  \n",
    "### You can quickly view the namespace using the Variable Explorer\n",
    "### The Namespace of a function is hidden. \n",
    "### The variables inside a function are not visible to you, unless you explicitly return them.  "
   ]
  },
  {
   "cell_type": "code",
   "execution_count": 6,
   "metadata": {
    "slideshow": {
     "slide_type": "slide"
    },
    "tags": []
   },
   "outputs": [
    {
     "name": "stdout",
     "output_type": "stream",
     "text": [
      "64\n"
     ]
    }
   ],
   "source": [
    "def cube(z):\n",
    "    z_cube = z**3\n",
    "    return z_cube \n",
    "\n",
    "my_number = 4\n",
    "my_cube = cube(my_number)\n",
    "print(my_cube)\n"
   ]
  },
  {
   "cell_type": "code",
   "execution_count": 7,
   "metadata": {
    "slideshow": {
     "slide_type": "subslide"
    },
    "tags": []
   },
   "outputs": [
    {
     "ename": "NameError",
     "evalue": "name 'z_cube' is not defined",
     "output_type": "error",
     "traceback": [
      "\u001b[0;31m---------------------------------------------------------------------------\u001b[0m",
      "\u001b[0;31mNameError\u001b[0m                                 Traceback (most recent call last)",
      "Cell \u001b[0;32mIn[7], line 2\u001b[0m\n\u001b[1;32m      1\u001b[0m \u001b[39m### z and z_cube only exist inside the function. \u001b[39;00m\n\u001b[0;32m----> 2\u001b[0m \u001b[39mprint\u001b[39m(z_cube)\n",
      "\u001b[0;31mNameError\u001b[0m: name 'z_cube' is not defined"
     ]
    }
   ],
   "source": [
    "### z and z_cube only exist inside the function. \n",
    "print(z_cube)"
   ]
  },
  {
   "cell_type": "code",
   "execution_count": 9,
   "metadata": {
    "slideshow": {
     "slide_type": "subslide"
    },
    "tags": []
   },
   "outputs": [
    {
     "name": "stdout",
     "output_type": "stream",
     "text": [
      "x =  2\n",
      "y =  27\n"
     ]
    }
   ],
   "source": [
    "def cubeplusone(z):\n",
    "    z = z+1  #notice here the value of z is being updated by adding 1.  \n",
    "    z_cube = z**3\n",
    "    return z_cube \n",
    "x = 2\n",
    "y = cubeplusone(x)\n",
    "print('x = ',x)  # even though x was put in the position of the argument z and 1 was added to z nothing happens to x\n",
    "print('y = ',y)  "
   ]
  },
  {
   "cell_type": "code",
   "execution_count": null,
   "metadata": {
    "slideshow": {
     "slide_type": "subslide"
    },
    "tags": []
   },
   "outputs": [],
   "source": [
    "z = 1 \n",
    "z_cube = cubeplusone(z)\n",
    "print(z)  #even if the variable name is the same inside and outside the function it does not get modified. \n",
    "#z inside the function and z outside the function are separate entiries\n",
    "print(z_cube) "
   ]
  },
  {
   "cell_type": "markdown",
   "metadata": {
    "slideshow": {
     "slide_type": "subslide"
    },
    "tags": []
   },
   "source": [
    "### What happens in the function, stays in the function. \n",
    "### The only thing you know about is what comes back in the `return` statement. "
   ]
  },
  {
   "cell_type": "markdown",
   "metadata": {
    "slideshow": {
     "slide_type": "slide"
    },
    "tags": []
   },
   "source": [
    "## Multiple Inputs and Outputs To A Function \n",
    "\n",
    "### A function can take multiple input and return multiple outputs. "
   ]
  },
  {
   "cell_type": "code",
   "execution_count": null,
   "metadata": {
    "slideshow": {
     "slide_type": "subslide"
    },
    "tags": []
   },
   "outputs": [],
   "source": [
    "def npower(x,n):\n",
    "    y = x**n\n",
    "    return y\n",
    "\n",
    "z = 3\n",
    "m = 4\n",
    "y = npower(z,m)  # this computes z**m.\n",
    "print(y)"
   ]
  },
  {
   "cell_type": "code",
   "execution_count": null,
   "metadata": {
    "slideshow": {
     "slide_type": "subslide"
    },
    "tags": []
   },
   "outputs": [],
   "source": [
    "def power_and_root(x,n):\n",
    "    y = x**n\n",
    "    z = x**(1/n)\n",
    "    return y,z \n",
    "\n",
    "z = 4\n",
    "m = 2\n",
    "y1,y2 = power_and_root(z,m)  # this computes z**m and z**(1/m) which is the mth root of z.\n",
    "print(y1)\n",
    "print(y2)"
   ]
  },
  {
   "cell_type": "code",
   "execution_count": null,
   "metadata": {},
   "outputs": [],
   "source": [
    "### What if you forget that there are 2 outputs? \n",
    "y = power_and_root(z,m)\n",
    "print(y)"
   ]
  },
  {
   "cell_type": "code",
   "execution_count": null,
   "metadata": {},
   "outputs": [],
   "source": [
    "### Then you get them back as a list (Actually a tuple).  \n",
    "print(y[0])\n",
    "print(y[1])"
   ]
  },
  {
   "cell_type": "markdown",
   "metadata": {
    "slideshow": {
     "slide_type": "slide"
    },
    "tags": []
   },
   "source": [
    "## Functions Can Interact with the Global Namespace \n",
    "\n",
    "### Example 1 Something that should bother you\n",
    "### The first time I encountered this, it made me really uncomfortable. "
   ]
  },
  {
   "cell_type": "code",
   "execution_count": null,
   "metadata": {
    "slideshow": {
     "slide_type": "subslide"
    },
    "tags": []
   },
   "outputs": [],
   "source": [
    "def zum(a,b):  #Here, a,b the argument. \n",
    "    c = a+b\n",
    "    d = (a+b)/z #Notice, z does not appear in the argument list.  \n",
    "    return c,d"
   ]
  },
  {
   "cell_type": "code",
   "execution_count": null,
   "metadata": {
    "slideshow": {
     "slide_type": "subslide"
    },
    "tags": []
   },
   "outputs": [],
   "source": [
    "a = 1\n",
    "b = 2\n",
    "z = 3\n",
    "c,d = zum(a,b)\n",
    "print(c)\n",
    "print(d)"
   ]
  },
  {
   "cell_type": "markdown",
   "metadata": {},
   "source": [
    "### This should bother you!  \n",
    "### Why is it that I can use the variable z, even though it was not one of the arguments of the function.  "
   ]
  },
  {
   "cell_type": "code",
   "execution_count": null,
   "metadata": {
    "slideshow": {
     "slide_type": "subslide"
    },
    "tags": []
   },
   "outputs": [],
   "source": [
    "def zum_a1(a,b):  #Here, a,b the argument. \n",
    "    a = a+1\n",
    "    c = a+b\n",
    "    d = (a+b)/z #Notice, z does not appear in the argument list.  \n",
    "    return c,d"
   ]
  },
  {
   "cell_type": "code",
   "execution_count": null,
   "metadata": {
    "scrolled": true,
    "slideshow": {
     "slide_type": "subslide"
    },
    "tags": []
   },
   "outputs": [],
   "source": [
    "a = 1\n",
    "b = 2\n",
    "z = 3\n",
    "c,d = zum_a1(a,b)\n",
    "print(c)\n",
    "print(d)\n",
    "print(a)"
   ]
  },
  {
   "cell_type": "code",
   "execution_count": null,
   "metadata": {
    "slideshow": {
     "slide_type": "subslide"
    },
    "tags": []
   },
   "outputs": [],
   "source": [
    "def zum_z1(a,b):  #Here, a,b the argument. \n",
    "    z = z+1\n",
    "    c = a+b\n",
    "    d = (a+b)/z #Notice, z does not appear in the argument list.  \n",
    "    return c,d"
   ]
  },
  {
   "cell_type": "code",
   "execution_count": null,
   "metadata": {
    "scrolled": true,
    "slideshow": {
     "slide_type": "subslide"
    },
    "tags": []
   },
   "outputs": [],
   "source": [
    "a = 1\n",
    "b = 2\n",
    "z = 3\n",
    "c,d = zum_z1(a,b)\n",
    "print(c)\n",
    "print(d)"
   ]
  },
  {
   "cell_type": "markdown",
   "metadata": {
    "slideshow": {
     "slide_type": "subslide"
    },
    "tags": []
   },
   "source": [
    "### While I can use global namespace variable z in the function, **I cannot update its value** \n"
   ]
  },
  {
   "cell_type": "code",
   "execution_count": null,
   "metadata": {
    "slideshow": {
     "slide_type": "subslide"
    },
    "tags": []
   },
   "outputs": [],
   "source": [
    "### Do I need any arguments at all? \n",
    "def zum():  #Here, a,b the argument. \n",
    "    c = a+b\n",
    "    d = (a+b)/z #Notice, z does not appear in the argument list.  \n",
    "    return c,d"
   ]
  },
  {
   "cell_type": "code",
   "execution_count": null,
   "metadata": {
    "slideshow": {
     "slide_type": "subslide"
    },
    "tags": []
   },
   "outputs": [],
   "source": [
    "a = 1\n",
    "b = 2\n",
    "z = 3\n",
    "c,d = zum()\n",
    "print(c)\n",
    "print(d)"
   ]
  },
  {
   "cell_type": "markdown",
   "metadata": {
    "slideshow": {
     "slide_type": "slide"
    },
    "tags": []
   },
   "source": [
    "## Global versus Local namespace. \n",
    "\n",
    "### Any function can see all the variables in the **global** namespace and use them in calculations. \n",
    "### *But it cannot manipulate them or change their values* \n",
    "\n",
    "### Any argument passed into the function can have its value changed inside the **local** namespace of the function, without changing its value in the global namespace. \n",
    "\n",
    "### Values of variables in the **global** namespace are only changed by returning the value and **replacing** the original value.  \n"
   ]
  },
  {
   "cell_type": "code",
   "execution_count": null,
   "metadata": {
    "slideshow": {
     "slide_type": "subslide"
    },
    "tags": []
   },
   "outputs": [],
   "source": [
    "def zum_a1(a,b):  #Here, a,b the argument. \n",
    "    a = a+1\n",
    "    d = (a+b)/z #Notice, z does not appear in the argument list.  \n",
    "    return d,a"
   ]
  },
  {
   "cell_type": "code",
   "execution_count": null,
   "metadata": {
    "slideshow": {
     "slide_type": "subslide"
    },
    "tags": []
   },
   "outputs": [],
   "source": [
    "a = 1\n",
    "b = 2\n",
    "z = 3\n",
    "c,e = zum_a1(a,b)\n",
    "print(c)\n",
    "print(e)\n"
   ]
  },
  {
   "cell_type": "code",
   "execution_count": null,
   "metadata": {
    "slideshow": {
     "slide_type": "subslide"
    },
    "tags": []
   },
   "outputs": [],
   "source": [
    "a = 1\n",
    "b = 2\n",
    "z = 3\n",
    "c,a = zum_a1(a,b)\n",
    "print(c)\n",
    "print(a)"
   ]
  },
  {
   "cell_type": "markdown",
   "metadata": {
    "slideshow": {
     "slide_type": "subslide"
    },
    "tags": []
   },
   "source": [
    "### When do I use an argument?  \n",
    "\n",
    "### If you want to be able change the value of the variable inside the function (but not in the global namespace) you should pass it as an argument to the function. \n",
    "\n",
    "### As good programming practice, I like to use arguments as much as possible for things I change to make the function behave differently, as it makes you remember what are the variables you need to be able to use a function. \n"
   ]
  },
  {
   "cell_type": "markdown",
   "metadata": {
    "slideshow": {
     "slide_type": "slide"
    },
    "tags": []
   },
   "source": [
    "## Keyword Arguments \n",
    "\n",
    "### There are two types of inputs to a function:\n",
    "* ### postional arguments - the variable corresponding to the argument is based on its position in the argument list. \n",
    "* ### keyword arguments - the variable corresponding to the argument is made explicit with an equality sign. \n"
   ]
  },
  {
   "cell_type": "markdown",
   "metadata": {
    "slideshow": {
     "slide_type": "subslide"
    },
    "tags": []
   },
   "source": [
    "### In the examples today, I only used positional arguments. But actually you have made use of a keyword argument previously \n",
    "\n",
    "    my_matrix = rng.integers(0,10,(6,7))\n",
    "    row_mean = np.mean(my_matrix,axis = 0)\n",
    "    column_mean = np.mean(my_matrix, axis = 1)\n",
    "\n",
    "### `my_matrix` is a positional argument \n",
    "### `axis = 1` is a **keyword** argument\n",
    "\n",
    "### Another example where you used a **keyword** argeument was in plotting\n",
    "\n",
    "    ax.plot(x,y,label = 'thelabel')"
   ]
  },
  {
   "cell_type": "markdown",
   "metadata": {
    "slideshow": {
     "slide_type": "subslide"
    },
    "tags": []
   },
   "source": [
    "### You can always use keyword arguments instead of positional arguments. \n",
    "### The advantages of keyword arguments are: \n",
    "* #### you dont have to remember the order of the arguments.\n",
    "* #### you can set **default** values"
   ]
  },
  {
   "cell_type": "code",
   "execution_count": 10,
   "metadata": {
    "slideshow": {
     "slide_type": "subslide"
    },
    "tags": []
   },
   "outputs": [
    {
     "name": "stdout",
     "output_type": "stream",
     "text": [
      "81\n",
      "3.0\n",
      "81\n",
      "3.0\n"
     ]
    }
   ],
   "source": [
    "def power_and_root(x,n):\n",
    "    y = x**n\n",
    "    z = x**(1/n)\n",
    "    return y,z \n",
    "\n",
    "y,z = power_and_root(x=9,n=2)\n",
    "print(y)\n",
    "print(z)\n",
    "y,z = power_and_root(n=2,x=9)  #now the order DOES NOT MATTER because I am making the variables explicit.  \n",
    "print(y)\n",
    "print(z)"
   ]
  },
  {
   "cell_type": "code",
   "execution_count": 11,
   "metadata": {
    "slideshow": {
     "slide_type": "subslide"
    },
    "tags": []
   },
   "outputs": [
    {
     "name": "stdout",
     "output_type": "stream",
     "text": [
      "81\n",
      "3.0\n"
     ]
    }
   ],
   "source": [
    "y,z = power_and_root(9,n=2)\n",
    "print(y)\n",
    "print(z)"
   ]
  },
  {
   "cell_type": "code",
   "execution_count": 12,
   "metadata": {
    "scrolled": true,
    "slideshow": {
     "slide_type": "subslide"
    },
    "tags": []
   },
   "outputs": [
    {
     "ename": "SyntaxError",
     "evalue": "positional argument follows keyword argument (401158260.py, line 1)",
     "output_type": "error",
     "traceback": [
      "\u001b[0;36m  Cell \u001b[0;32mIn[12], line 1\u001b[0;36m\u001b[0m\n\u001b[0;31m    y,z = power_and_root(x=9,2)\u001b[0m\n\u001b[0m                              ^\u001b[0m\n\u001b[0;31mSyntaxError\u001b[0m\u001b[0;31m:\u001b[0m positional argument follows keyword argument\n"
     ]
    }
   ],
   "source": [
    "y,z = power_and_root(x=9,2)\n",
    "print(y)\n",
    "print(z)"
   ]
  },
  {
   "cell_type": "markdown",
   "metadata": {
    "slideshow": {
     "slide_type": "subslide"
    },
    "tags": []
   },
   "source": [
    "### Functions can be used with \n",
    "* ### positional arguments alone.  In this case, you need to know the correct order. \n",
    "* ### keyword arguments alone.  In this case you can provide them in any order. \n",
    "* ### positional and keyword arguments.  In this case, positional arguments must come first then keyword arguments.  \n",
    "* ### As soon as you make use of a keyword argument, you can no longer use positional arguments. "
   ]
  },
  {
   "cell_type": "markdown",
   "metadata": {
    "slideshow": {
     "slide_type": "slide"
    },
    "tags": []
   },
   "source": [
    "## Default values for arguments \n",
    "### The most useful thing about keyword arguments, is that they can be used to set default values of arguments.  \n",
    "### This means if you use a function with a particular argument most of the time, you can just ignore those arguments and let them assume predefined values. "
   ]
  },
  {
   "cell_type": "code",
   "execution_count": 13,
   "metadata": {},
   "outputs": [],
   "source": [
    "def npower(x,n=2):  # notice that in the definition of the function, I provided a default value of n\n",
    "    y = x**n\n",
    "    return y"
   ]
  },
  {
   "cell_type": "markdown",
   "metadata": {},
   "source": [
    "### When defining a function, you can determine **default** values of the arguments. \n",
    "\n",
    "### Then if those arguments are not provided the function will assume the default value applies. "
   ]
  },
  {
   "cell_type": "code",
   "execution_count": null,
   "metadata": {},
   "outputs": [],
   "source": [
    "z = npower(3)\n",
    "print(z)"
   ]
  },
  {
   "cell_type": "code",
   "execution_count": null,
   "metadata": {},
   "outputs": [],
   "source": [
    "#I can override the default with a keyword argument. \n",
    "z = npower(3,n=3)\n",
    "print(z)"
   ]
  },
  {
   "cell_type": "code",
   "execution_count": null,
   "metadata": {},
   "outputs": [],
   "source": [
    "#I can override the default with a positional argument.\n",
    "z = npower(3,4)\n",
    "print(z)"
   ]
  },
  {
   "cell_type": "markdown",
   "metadata": {
    "slideshow": {
     "slide_type": "slide"
    },
    "tags": []
   },
   "source": [
    "## Examples - from Problem Set 3\n",
    "\n",
    "### 2. Given the lengths of 3 sides of a triangle - x, y and z - use a statement of the type (`if`-`elif`-`else`) to determine whether the triangle is 'equilateral', 'isosceles' or 'obtuse' and set the variable **triangle** to the correct string value\n",
    "### Note: equilateral means all sides are equal, isosceles means two of the sides are equal but not the third one, obtuse means all 3 sides are different.\n",
    "### There is no preferred way to do this problem, and there are many possible solutions. \n",
    "### Note that i have created 3 test cases here. The code should be the identical for all 3 cases and produce the correct answer, and you should just copy and paste the same code.  \n",
    "### When testing a piece of code, you should always test that all possible cases work. \n"
   ]
  },
  {
   "cell_type": "code",
   "execution_count": null,
   "metadata": {
    "slideshow": {
     "slide_type": "subslide"
    },
    "tags": []
   },
   "outputs": [],
   "source": [
    "x = 6\n",
    "y = 7 \n",
    "z = 7 \n",
    "\n",
    "if (x == y) & (y == z):\n",
    "    triangle = 'equilateral'\n",
    "elif (x == y) | (x == z) | (y == z):\n",
    "    triangle = 'isosceles'\n",
    "else:\n",
    "    triangle = 'obtuse'\n",
    "print(triangle)"
   ]
  },
  {
   "cell_type": "code",
   "execution_count": 14,
   "metadata": {
    "slideshow": {
     "slide_type": "subslide"
    },
    "tags": []
   },
   "outputs": [],
   "source": [
    "def trianglename(s1,s2,s3):\n",
    "    if (s1 == s2) & (s2 == s3):\n",
    "        triangle = 'equilateral'\n",
    "    elif (s1 == s2) | (s1 == s3) | (s2 == s3):\n",
    "        triangle = 'isosceles'\n",
    "    else:\n",
    "        triangle = 'obtuse'\n",
    "    return triangle"
   ]
  },
  {
   "cell_type": "code",
   "execution_count": 15,
   "metadata": {
    "slideshow": {
     "slide_type": "subslide"
    },
    "tags": []
   },
   "outputs": [
    {
     "name": "stdout",
     "output_type": "stream",
     "text": [
      "isosceles\n"
     ]
    }
   ],
   "source": [
    "x = 6\n",
    "y = 7 \n",
    "z = 7 \n",
    "triangle = trianglename(x,y,z)\n",
    "print(triangle)"
   ]
  },
  {
   "cell_type": "code",
   "execution_count": 16,
   "metadata": {
    "slideshow": {
     "slide_type": "subslide"
    },
    "tags": []
   },
   "outputs": [
    {
     "name": "stdout",
     "output_type": "stream",
     "text": [
      "equilateral\n"
     ]
    }
   ],
   "source": [
    "x = 7\n",
    "y = 7 \n",
    "z = 7 \n",
    "triangle = trianglename(x,y,z)\n",
    "print(triangle)"
   ]
  },
  {
   "cell_type": "code",
   "execution_count": null,
   "metadata": {
    "slideshow": {
     "slide_type": "subslide"
    },
    "tags": []
   },
   "outputs": [],
   "source": [
    "x = 6\n",
    "y = 7 \n",
    "z = 8 \n",
    "triangle = trianglename(x,y,z)\n",
    "print(triangle)"
   ]
  }
 ],
 "metadata": {
  "kernelspec": {
   "display_name": "Python 3 (ipykernel)",
   "language": "python",
   "name": "python3"
  },
  "language_info": {
   "codemirror_mode": {
    "name": "ipython",
    "version": 3
   },
   "file_extension": ".py",
   "mimetype": "text/x-python",
   "name": "python",
   "nbconvert_exporter": "python",
   "pygments_lexer": "ipython3",
   "version": "3.11.3"
  }
 },
 "nbformat": 4,
 "nbformat_minor": 4
}
