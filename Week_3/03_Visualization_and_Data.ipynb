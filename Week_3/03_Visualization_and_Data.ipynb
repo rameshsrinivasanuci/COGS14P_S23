{
 "cells": [
  {
   "cell_type": "markdown",
   "metadata": {
    "slideshow": {
     "slide_type": "slide"
    },
    "tags": []
   },
   "source": [
    "# **Lecture 3:** Visualization and Data Input\n",
    "\n",
    "### This Lecture will introduce two new modules `matplotlib` and `pandas`\n",
    "### We will use `matplotlib` for visualization of data \n",
    "### We will use `pandas` as a tool for getting data into python.  "
   ]
  },
  {
   "cell_type": "markdown",
   "metadata": {
    "slideshow": {
     "slide_type": "slide"
    },
    "tags": []
   },
   "source": [
    "## Data Visualization \n",
    "\n",
    "### The `matplotlib` **module** is used the basic module for data visualization using Python. \n",
    "\n",
    "### Other more sophisticated (prettier!) modules have been developed, e.g., `seaborn`, https://seaborn.pydata.org/, but these are always built on top of `matplotlib`\n",
    "\n",
    "### In fact, the seaborn documentation recommends you understand how `matplotlib` works to get the most out of seaborn.  \n",
    "\n",
    "### The vast majority of the data visualization make use of a single submodule called `pyplot` \n"
   ]
  },
  {
   "cell_type": "markdown",
   "metadata": {
    "slideshow": {
     "slide_type": "slide"
    },
    "tags": []
   },
   "source": [
    "## The `pyplot` submodule"
   ]
  },
  {
   "cell_type": "code",
   "execution_count": null,
   "metadata": {
    "slideshow": {
     "slide_type": "subslide"
    },
    "tags": []
   },
   "outputs": [],
   "source": [
    "### The line below imports the pyplot submodule of matplotlib and gives it the short name plt\n",
    "from matplotlib import pyplot as plt\n",
    "### And as always, I'm going to import numpy\n",
    "import numpy as np"
   ]
  },
  {
   "cell_type": "code",
   "execution_count": null,
   "metadata": {
    "slideshow": {
     "slide_type": "slide"
    },
    "tags": []
   },
   "outputs": [],
   "source": [
    "# For the sake of todays exercise, I am going to make a sine and a cosine function \n",
    "# If you pull up the documentation on numpy, you will find the functions and figure out how to call them.  \n",
    "angle = np.linspace(0,2*np.pi,100) #I make 100 evenly spaced values going from 0 to 2*pi\n",
    "C = np.cos(angle) #cosine function \n",
    "S = np.sin(angle) #sine function"
   ]
  },
  {
   "cell_type": "markdown",
   "metadata": {
    "slideshow": {
     "slide_type": "slide"
    },
    "tags": []
   },
   "source": [
    "## Simple Line Plots\n",
    "### Perhaps not so surprisingly, the simplest command to make a plot in `pyplot` is called `plot`.  Here is a simple example. "
   ]
  },
  {
   "cell_type": "code",
   "execution_count": null,
   "metadata": {
    "slideshow": {
     "slide_type": "subslide"
    },
    "tags": []
   },
   "outputs": [],
   "source": [
    "plt.plot(S) #This plots the array S and implicitly makes the x axis the index into the array \n",
    "plt.show() #this makes a clean display of the plot. "
   ]
  },
  {
   "cell_type": "code",
   "execution_count": null,
   "metadata": {
    "slideshow": {
     "slide_type": "subslide"
    },
    "tags": []
   },
   "outputs": [],
   "source": [
    "plt.plot(angle,S) # when making plot, the two inputs are x and y.  \n",
    "plt.show() # this makes a clean display of the plot.   \n"
   ]
  },
  {
   "cell_type": "markdown",
   "metadata": {
    "slideshow": {
     "slide_type": "subslide"
    },
    "tags": []
   },
   "source": [
    "### This is the simplest, easiest way to invoke a plot in python.  And when you just want a quick plot, this is the way to do it. I do it all the time! \n",
    "### However, when you want to make a high quality plot, you want to make use of a different **\"modern\"** interface to pyplot.  Today's lesson will make use of that interface which is often referred to as the **object oriented** interface.  "
   ]
  },
  {
   "cell_type": "markdown",
   "metadata": {
    "slideshow": {
     "slide_type": "slide"
    },
    "tags": []
   },
   "source": [
    "## Object-orient Interface to `pyplot`\n",
    "\n",
    "1. ###  We create a figure *object* named **fig**.  This object has properties which control the figure as a whole\n",
    "2. ###  We create an axes *object* named **ax**.  This object has properties which control the axis of a specific plot. \n",
    "3. ###  We add a plot to the axes **ax**  <br>\n",
    "\n",
    "### When we use `plot` we are in fact invoking a figure and an axes, then adding a plot.  But, by using `plot` we are making use of the default values. \n",
    "### Our objective here is to make pretty plots.  Because the scientist who makes the prettiest plot gets **$$$**.  "
   ]
  },
  {
   "cell_type": "code",
   "execution_count": null,
   "metadata": {
    "slideshow": {
     "slide_type": "subslide"
    },
    "tags": []
   },
   "outputs": [],
   "source": [
    "#object-oriented interface\n",
    "fig = plt.figure()   #creates a blank canvas \n",
    "ax = fig.add_axes([0,0,1,1]) #creates an axes - (starting pt x, starting pt y, fractional size x, fractional size y)\n",
    "ax.plot(angle,S) #add a plot to the axes.  \n",
    "plt.show()"
   ]
  },
  {
   "cell_type": "markdown",
   "metadata": {
    "slideshow": {
     "slide_type": "subslide"
    },
    "tags": []
   },
   "source": [
    "\n",
    "### We can add a second line to the same plot, by calling plot again. "
   ]
  },
  {
   "cell_type": "code",
   "execution_count": null,
   "metadata": {
    "slideshow": {
     "slide_type": "subslide"
    },
    "tags": []
   },
   "outputs": [],
   "source": [
    "fig = plt.figure()   #creates a blank canvas \n",
    "ax = fig.add_axes([0,0,1,1]) #creates an axes - (starting pt x, starting pt y, fractional size x, fractional size y)\n",
    "ax.plot(angle,S) #add a plot to the axes.  \n",
    "ax.plot(angle,C) #add a plot to the axes.  \n",
    "plt.show()"
   ]
  },
  {
   "cell_type": "markdown",
   "metadata": {
    "slideshow": {
     "slide_type": "slide"
    },
    "tags": []
   },
   "source": [
    "## Labeling the plot. \n",
    "\n",
    "### What's wrong with that plot?   Its missing information to be able to interpret the plot.  \n",
    "\n",
    "1. #### Axes labels  - What is the x axis, what is the y axis? \n",
    "1. #### Line labels  - which one is sine, and which one is cosine? \n",
    "1. ####  Title (optional) - maybe I need a title. "
   ]
  },
  {
   "cell_type": "code",
   "execution_count": null,
   "metadata": {
    "slideshow": {
     "slide_type": "subslide"
    },
    "tags": []
   },
   "outputs": [],
   "source": [
    "fig = plt.figure()   #creates a blank canvas \n",
    "ax = fig.add_axes([0,0,1,1]) #creates an axes - (starting pt x, starting pt y, fractional size x, fractional size y)\n",
    "ax.plot(angle,S,label ='sine')  #add a plot to the axes.\n",
    "                                #I also gave the line a label. \n",
    "ax.plot(angle,C,label = 'cosine' ) #add a plot to the axes.\n",
    "                                #I also gave the line a label.  \n",
    "ax.set_xlabel('Angle(radians)') #I added a x axis label \n",
    "ax.set_ylabel('Function value') #I added a y axis label\n",
    "ax.legend() #I gave the figure a legend.  \n",
    "ax.set_title('Trignometric Functions') # Let's give the figure a title.                              \n",
    "plt.show() "
   ]
  },
  {
   "cell_type": "markdown",
   "metadata": {
    "slideshow": {
     "slide_type": "slide"
    },
    "tags": []
   },
   "source": [
    "## Improving the communication of plots  \n",
    "### One might argue that we are done now, and all necessary information to understand the plot is given, but it still *sucks*. \n",
    "### Why?  \n",
    "1. #### Units \n",
    "2. #### Readability\n",
    "3. #### Aesthetics"
   ]
  },
  {
   "cell_type": "markdown",
   "metadata": {
    "slideshow": {
     "slide_type": "slide"
    },
    "tags": []
   },
   "source": [
    "### **Units** should mean something to people\n",
    "### Here i am going to make 2 equivalent version of the angle variables, one in degrees and the other in radians.  \n",
    "### I will use the version in *radians* to **compute** sine and cosine, but i will use the one in *degrees* to make the **plot**. "
   ]
  },
  {
   "cell_type": "code",
   "execution_count": null,
   "metadata": {
    "slideshow": {
     "slide_type": "subslide"
    },
    "tags": []
   },
   "outputs": [],
   "source": [
    "angle_in_degrees = np.arange(0,360,1) # note here that because i used arange i do not include 360. I made step size 1 degree. \n",
    "angle = angle_in_degrees*np.pi/180 # since 180 degrees is  equal to pi\n",
    "C = np.cos(angle) #cosine function \n",
    "S = np.sin(angle) #sine function"
   ]
  },
  {
   "cell_type": "code",
   "execution_count": null,
   "metadata": {
    "slideshow": {
     "slide_type": "subslide"
    },
    "tags": []
   },
   "outputs": [],
   "source": [
    "fig = plt.figure()   #creates a blank canvas \n",
    "ax = fig.add_axes([0,0,1,1]) #creates an axes - (starting pt x, starting pt y, fractional size x, fractional size y)\n",
    "ax.plot(angle_in_degrees,S,label ='sine')  #add a plot to the axes.\n",
    "                                #I also gave the line a label. \n",
    "ax.plot(angle_in_degrees,C,label = 'cosine' ) #add a plot to the axes.\n",
    "                                #I also gave the line a label.  \n",
    "ax.set_xlabel('Angle(Degrees)') #I added a x axis label \n",
    "ax.set_ylabel('Function value') #I added a y axis label\n",
    "ax.legend() #I gave the figure a legend.  \n",
    "ax.set_title('Trignometric Functions') # Let's give the figure a title.                              \n",
    "plt.show() "
   ]
  },
  {
   "cell_type": "markdown",
   "metadata": {
    "slideshow": {
     "slide_type": "slide"
    },
    "tags": []
   },
   "source": [
    "### **Reading Graphs**  \n",
    "### We're almost there, but I'm still not happy. \n",
    "### When I look at a plot, I want to be able to *easily read out features of the data*.  \n",
    "### I also want to be able to easily understand the domain and range of the the data and find the minimum and maximum.  \n",
    "### Here the domain is 0 to 360 and the range is -1 to 1. \n",
    "### The features of the data are clear maxima and minima at function values -1 and 1 of the curves plotted but its not that easy to read out at values of angle at which the maxima occur.  \n",
    "### The solution is to take control of the x and/or y axis values."
   ]
  },
  {
   "cell_type": "code",
   "execution_count": null,
   "metadata": {
    "slideshow": {
     "slide_type": "subslide"
    },
    "tags": []
   },
   "outputs": [],
   "source": [
    "fig = plt.figure()   #creates a blank canvas \n",
    "ax = fig.add_axes([0,0,1,1]) #creates an axes - (starting pt x, starting pt y, fractional size x, fractional size y)\n",
    "ax.plot(angle_in_degrees,S,label ='sine')  #add a plot to the axes.\n",
    "                                #I also gave the line a label. \n",
    "ax.plot(angle_in_degrees,C,label = 'cosine' ) #add a plot to the axes.\n",
    "                                #I also gave the line a label.  \n",
    "ax.set_xlabel('Angle(Degrees)') #I added a x axis label \n",
    "ax.set_ylabel('Function value') #I added a y axis label\n",
    "ax.legend() #I gave the figure a legend.  \n",
    "ax.set_title('Trignometric Functions') # Let's give the figure a title. \n",
    "xticklocations = np.linspace(0,360,9) # I am going to determine to have 9 ticks on the x axis between 0 and 360(inclusive)\n",
    "ax.set_xticks(xticklocations)\n",
    "#Note I could make a similar set of calls to `set_yticks` but I am happy with the default.  \n",
    "plt.show()"
   ]
  },
  {
   "cell_type": "markdown",
   "metadata": {
    "slideshow": {
     "slide_type": "subslide"
    },
    "tags": []
   },
   "source": [
    "### **OK I'm feeling better** \n",
    "### But, a plot can always be improved. How about this. "
   ]
  },
  {
   "cell_type": "code",
   "execution_count": null,
   "metadata": {
    "slideshow": {
     "slide_type": "subslide"
    },
    "tags": []
   },
   "outputs": [],
   "source": [
    "fig = plt.figure()   #creates a blank canvas \n",
    "ax = fig.add_axes([0,0,1,1]) #creates an axes - (starting pt x, starting pt y, fractional size x, fractional size y)\n",
    "ax.plot(angle_in_degrees,S,label ='sine')  #add a plot to the axes.\n",
    "                                #I also gave the line a label. \n",
    "ax.plot(angle_in_degrees,C,label = 'cosine' ) #add a plot to the axes.\n",
    "                                #I also gave the line a label.  \n",
    "ax.set_xlabel('Angle(Degrees)') #I added a x axis label \n",
    "ax.set_ylabel('Function value') #I added a y axis label\n",
    "ax.legend() #I gave the figure a legend.  \n",
    "ax.set_title('Trignometric Functions') # Let's give the figure a title. \n",
    "xticklocations = np.linspace(0,360,9) # I am going to determine to have 9 ticks on the x axis between 0 and 360(inclusive)\n",
    "ax.set_xticks(xticklocations)\n",
    "#Note I could make a similar set of calls to `set_yticks` but I am happy with the default.  \n",
    "plt.grid(True)  #Here I turned on grid lines, to improve readability.  \n",
    "plt.show()"
   ]
  },
  {
   "cell_type": "markdown",
   "metadata": {
    "slideshow": {
     "slide_type": "subslide"
    },
    "tags": []
   },
   "source": [
    "### Now we can start thinking about aesthetics.  I like the default blue, orange lines, but others may disagree.  \n",
    "### Im also going to manipulate the figure size and adjust the aspect ratio of the figure.  \n",
    "### Try this. "
   ]
  },
  {
   "cell_type": "code",
   "execution_count": null,
   "metadata": {
    "slideshow": {
     "slide_type": "subslide"
    },
    "tags": []
   },
   "outputs": [],
   "source": [
    "fig = plt.figure(figsize = (8,6))   #creates a blank canvas, figsize should be set to a tuple () \n",
    "ax = fig.add_axes([0,0,1,1]) #creates an axes - (starting pt x, starting pt y, fractional size x, fractional size y)\n",
    "ax.plot(angle_in_degrees,S,'r-', linewidth = 2, label ='sine')  #add a plot to the axes.\n",
    "                                #I also gave the line a label.\n",
    "                                # I selected the color red and a solid line\n",
    "                                # I set the linewidth to 2, default is 1.   \n",
    "ax.plot(angle_in_degrees,C,'g--', linewidth = 2, label = 'cosine' ) #add a plot to the axes.\n",
    "                                #I also gave the line a label.  \n",
    "                                # I selected the color green and a dashed line\n",
    "                                # I set the linewidth to 2, default is 1.  \n",
    "ax.set_xlabel('Angle(Degrees)') #I added a x axis label \n",
    "ax.set_ylabel('Function value') #I added a y axis label\n",
    "ax.legend() #I gave the figure a legend.  \n",
    "ax.set_title('Trignometric Functions') # Let's give the figure a title. \n",
    "xticklocations = np.linspace(0,360,13) # I am going to determine to have 13 ticks on the x axis between 0 and 360(inclusive)\n",
    "ax.set_xticks(xticklocations)\n",
    "#Note I could make a similar set of calls to `set_yticks` but I am happy with the default.  \n",
    "plt.grid(True)  #Here I turned on grid lines, to improve readability.  \n",
    "plt.show()"
   ]
  },
  {
   "cell_type": "markdown",
   "metadata": {
    "slideshow": {
     "slide_type": "slide"
    },
    "tags": []
   },
   "source": [
    "## Bar plots\n",
    "### It makes sense to use a line plot when your domain (x-axis) is a continuous variable.  But it does not make sense to do this when your domain is a categorical variable.  "
   ]
  },
  {
   "cell_type": "code",
   "execution_count": null,
   "metadata": {
    "slideshow": {
     "slide_type": "subslide"
    },
    "tags": []
   },
   "outputs": [],
   "source": [
    "fruitnames = ['apple','pear','pluot','strawberries'] #This is a list\n",
    "fruitnumber = np.array([2,5,9,8]) #I converted a list of fruit counts into a numpy array. Actually not needed."
   ]
  },
  {
   "cell_type": "code",
   "execution_count": null,
   "metadata": {
    "slideshow": {
     "slide_type": "subslide"
    },
    "tags": []
   },
   "outputs": [],
   "source": [
    "fig = plt.figure()   #creates a blank canvas \n",
    "ax = fig.add_axes([0,0,1,1]) #creates an axes - (starting pt x, starting pt y, fractional size x, fractional size y)\n",
    "ax.plot(fruitnames,fruitnumber)\n",
    "ax.set_xlabel('Fruit')\n",
    "ax.set_ylabel('Number')\n",
    "plt.show()"
   ]
  },
  {
   "cell_type": "code",
   "execution_count": null,
   "metadata": {
    "slideshow": {
     "slide_type": "subslide"
    },
    "tags": []
   },
   "outputs": [],
   "source": [
    "fig = plt.figure()   #creates a blank canvas \n",
    "ax = fig.add_axes([0,0,1,1]) #creates an axes - (starting pt x, starting pt y, fractional size x, fractional size y)\n",
    "ax.plot(fruitnames,fruitnumber,'bo') #Here I forced it to use a blue circle for each data point \n",
    "ax.set_xlabel('Fruit')\n",
    "ax.set_ylabel('Number')\n",
    "plt.show()"
   ]
  },
  {
   "cell_type": "markdown",
   "metadata": {
    "slideshow": {
     "slide_type": "subslide"
    },
    "tags": []
   },
   "source": [
    "### Clearly, the dot plot below is superior to the plot above.  Drawing a continuous line between categorical variables doesnt make sense because there really isnt a value in between the two fruit categories.  \n",
    "### But the best solution would be a `bar` graph.  "
   ]
  },
  {
   "cell_type": "code",
   "execution_count": null,
   "metadata": {
    "slideshow": {
     "slide_type": "subslide"
    },
    "tags": []
   },
   "outputs": [],
   "source": [
    "fig = plt.figure()   #creates a blank canvas \n",
    "ax = fig.add_axes([0,0,1,1]) #creates an axes - (starting pt x, starting pt y, fractional size x, fractional size y)\n",
    "ax.bar(fruitnames,fruitnumber) #Here I called bar instead of plot \n",
    "ax.set_xlabel('Fruit')\n",
    "ax.set_ylabel('Number')\n",
    "plt.show()"
   ]
  },
  {
   "cell_type": "code",
   "execution_count": null,
   "metadata": {
    "slideshow": {
     "slide_type": "subslide"
    },
    "tags": []
   },
   "outputs": [],
   "source": [
    "fig = plt.figure()   #creates a blank canvas \n",
    "ax = fig.add_axes([0,0,1,1]) #creates an axes - (starting pt x, starting pt y, fractional size x, fractional size y)\n",
    "ax.bar(fruitnames,fruitnumber) #\n",
    "ax.set_xlabel('Fruit')\n",
    "ax.set_ylabel('Number')\n",
    "ax.grid(True,axis='y') #I added a grid and specified it should only be for the y axis \n",
    "plt.show()"
   ]
  },
  {
   "cell_type": "code",
   "execution_count": null,
   "metadata": {
    "slideshow": {
     "slide_type": "subslide"
    },
    "tags": []
   },
   "outputs": [],
   "source": [
    "fig = plt.figure()   #creates a blank canvas \n",
    "ax = fig.add_axes([0,0,1,1]) #creates an axes - (starting pt x, starting pt y, fractional size x, fractional size y)\n",
    "ax.bar(fruitnames,fruitnumber) #\n",
    "ax.set_xlabel('Fruit')\n",
    "ax.set_ylabel('Number')\n",
    "ax.grid(True,axis='y',color='r')#I added a grid and specified it should only be for the y axis and set its color to red\n",
    "plt.show()"
   ]
  },
  {
   "cell_type": "markdown",
   "metadata": {
    "slideshow": {
     "slide_type": "slide"
    },
    "tags": []
   },
   "source": [
    "## Subplot\n",
    "### Sometimes we want to put more than one graph in a figure.  In this case, we can divide the figure into multiple plots. \n",
    "### The syntax `subplots(n,m)`  when I create the figure tells python I want a figure with with n row and m columns each of which can contain a separate **axis**\n"
   ]
  },
  {
   "cell_type": "code",
   "execution_count": null,
   "metadata": {
    "slideshow": {
     "slide_type": "subslide"
    },
    "tags": []
   },
   "outputs": [],
   "source": [
    "#Create some data for four plots\n",
    "x = np.arange(1,10,0.25) \n",
    "y1 = x**2   \n",
    "y2 = np.sqrt(x)\n",
    "y3 = np.exp(x)\n",
    "y4 = np.log(x)"
   ]
  },
  {
   "cell_type": "code",
   "execution_count": null,
   "metadata": {
    "slideshow": {
     "slide_type": "subslide"
    },
    "tags": []
   },
   "outputs": [],
   "source": [
    "fig,a = plt.subplots(2,2,figsize =(5,5))  #Here i create both the figure (fig) and the axes (a) in a single step.  \n",
    "                           #Any options that you would send into the figure call, you can send to subplots.  \n",
    "                           # I've asked for 4 subplots in a 2 x 2 grid.   \n",
    "\n",
    "a[0][0].plot(x,y1)   #notice the syntax in dealing with the axis. The axes have a row index and a column index. \n",
    "a[0][0].set_title('square')\n",
    "a[0][1].plot(x,y2)\n",
    "a[0][1].set_title('square root')\n",
    "a[1][0].plot(x,y3)\n",
    "a[1][0].set_title('exponential')\n",
    "a[1][1].plot(x,y4)\n",
    "a[1][1].set_title('log')\n",
    "#fig.tight_layout()  #this is really cool and fixes many problems! \n",
    "plt.show()"
   ]
  },
  {
   "cell_type": "markdown",
   "metadata": {
    "slideshow": {
     "slide_type": "slide"
    },
    "tags": []
   },
   "source": [
    "## Data Input \n",
    "\n",
    "### In working with data in Python the first problem is always getting the data into Python. \n",
    "### For many common file formats, there are excellent tools to load the file. \n",
    "### Here I will introduce `pandas` to read in the values in either a csv (comma separated values) or excel (xls, xlsx) file. \n",
    "### `pandas` can also be used to save information to these formats.  "
   ]
  },
  {
   "cell_type": "code",
   "execution_count": null,
   "metadata": {
    "slideshow": {
     "slide_type": "subslide"
    },
    "tags": []
   },
   "outputs": [],
   "source": [
    "#just like we use np as short for numpy, I will pd as short for pandas\n",
    "import pandas as pd"
   ]
  },
  {
   "cell_type": "markdown",
   "metadata": {
    "slideshow": {
     "slide_type": "slide"
    },
    "tags": []
   },
   "source": [
    "## Pandas DataFrames\n",
    "\n",
    "### `pandas` is a file i/o and data organization module that is widely used in python programming. \n",
    "\n",
    "### One of the best things about `pandas` is that is can read in two of the most common data file types, \n",
    "* #### csv  - comma separated values\n",
    "* #### xls or xlsx - Microsoft Excel files.  \n",
    "\n",
    "### In this example I am going to load a csv file, *candy-data.csv* which contains data from a famous study of candy preferences. "
   ]
  },
  {
   "cell_type": "code",
   "execution_count": null,
   "metadata": {
    "slideshow": {
     "slide_type": "subslide"
    },
    "tags": []
   },
   "outputs": [],
   "source": [
    "# This creates a DataFrame called candy_data\n",
    "candy_data = pd.read_csv('candy-data.csv')\n",
    "print(candy_data)"
   ]
  },
  {
   "cell_type": "markdown",
   "metadata": {
    "slideshow": {
     "slide_type": "slide"
    },
    "tags": []
   },
   "source": [
    "## Keys \n",
    "### The most important property of a **DataFrame** is its **keys**.  \n",
    "### **Keys** are a label assigned to each column of the csv or xls file. \n",
    "### Pandas will automatically assign the column headers of your xls or csv files, if it finds them. "
   ]
  },
  {
   "cell_type": "code",
   "execution_count": null,
   "metadata": {
    "slideshow": {
     "slide_type": "subslide"
    },
    "tags": []
   },
   "outputs": [],
   "source": [
    "print(candy_data.keys())"
   ]
  },
  {
   "cell_type": "markdown",
   "metadata": {
    "slideshow": {
     "slide_type": "subslide"
    },
    "tags": []
   },
   "source": [
    "### We obtain the values of each of the variables, by passing the **key** to the **DataFrame**"
   ]
  },
  {
   "cell_type": "code",
   "execution_count": null,
   "metadata": {
    "slideshow": {
     "slide_type": "subslide"
    },
    "tags": []
   },
   "outputs": [],
   "source": [
    "candyname = candy_data['competitorname']\n",
    "is_choco = candy_data['chocolate']\n",
    "win_percent = candy_data['winpercent']\n",
    "sugar_percent = candy_data['sugarpercent']"
   ]
  },
  {
   "cell_type": "code",
   "execution_count": null,
   "metadata": {
    "slideshow": {
     "slide_type": "subslide"
    },
    "tags": []
   },
   "outputs": [],
   "source": [
    "### The datatype here is called a **Series** rather than an array.  Let's see what we can do with it. \n",
    "meansugar = np.mean(sugar_percent) #Here I get the average sugar percentage\n",
    "maxsugar = np.argmax(sugar_percent) #Here I get the index into the list of sugar_percent to identify which candy has the most sugar\n",
    "minsugar = np.min(sugar_percent)\n",
    "print(meansugar)\n",
    "print(maxsugar)\n",
    "print(minsugar)\n",
    "print(candyname[maxsugar]) #i pass the index that I got from applying argmax to sugar_percent into candyname to get the name back.  "
   ]
  },
  {
   "cell_type": "markdown",
   "metadata": {
    "slideshow": {
     "slide_type": "subslide"
    },
    "tags": []
   },
   "source": [
    "### Look's like we can apply numpy functions to it. But I have sometimes run into trouble with it, especially with plotting.  \n",
    "### `array` is your friend!\n",
    "### You can always do this: "
   ]
  },
  {
   "cell_type": "code",
   "execution_count": null,
   "metadata": {
    "slideshow": {
     "slide_type": "subslide"
    },
    "tags": []
   },
   "outputs": [],
   "source": [
    "sugar_percent = np.array(sugar_percent)"
   ]
  },
  {
   "cell_type": "markdown",
   "metadata": {
    "slideshow": {
     "slide_type": "subslide"
    },
    "tags": []
   },
   "source": [
    "### Lets end this on a note of a plot!"
   ]
  },
  {
   "cell_type": "code",
   "execution_count": null,
   "metadata": {
    "slideshow": {
     "slide_type": "subslide"
    },
    "tags": []
   },
   "outputs": [],
   "source": [
    "fig = plt.figure(figsize = (4,4))   #creates a blank canvas, but now i took control of the figure size!  \n",
    "ax = fig.add_axes([0,0,1,1]) #creates an axes - (starting pt x, starting pt y, fractional size x, fractional size y)\n",
    "ax.plot(sugar_percent,win_percent,'ro')\n",
    "ax.set_xlabel('Sugar Percent')\n",
    "ax.set_ylabel('Win Percent')\n",
    "#ax.set_xlim([0,100])\n",
    "#ax.set_ylim([0,100])\n",
    "plt.show()"
   ]
  },
  {
   "cell_type": "code",
   "execution_count": null,
   "metadata": {
    "slideshow": {
     "slide_type": "subslide"
    },
    "tags": []
   },
   "outputs": [],
   "source": [
    "fig = plt.figure(figsize = (16,4))   #creates a blank canvas, but now i took control of the figure size!  \n",
    "ax = fig.add_axes([0,0,1,1]) #creates an axes - (starting pt x, starting pt y, fractional size x, fractional size y)\n",
    "ax.bar(candyname,win_percent)\n",
    "ncandy = len(candyname) # here I used len to figure out how many entries are in candyname \n",
    "ax.set_xticks(range(ncandy),candyname,rotation = 'vertical',fontsize='12') # here i first used numeric xticks using the range function with 1 tick for each candy name, then i provided the candyname variable to replace the numeric labels.  \n",
    "                                                                          #i also rotated the labels to be vertical, and shrank the fontsize to 8.    \n",
    "ax.set_xlabel('Candy name',fontsize=16,color='red')\n",
    "ax.set_ylabel('Win Percent',fontsize=16,color='red')\n",
    "#ax.set_xlim([0,100])\n",
    "#ax.set_ylim([0,100])\n",
    "ax.grid(True,axis='y',color='m')\n",
    "plt.show()"
   ]
  }
 ],
 "metadata": {
  "celltoolbar": "Slideshow",
  "interpreter": {
   "hash": "fda1d92c402c9d5e0550eab7f590eb1c0582e487619314e6aa12d68c281f0580"
  },
  "kernelspec": {
   "display_name": "Python 3 (ipykernel)",
   "language": "python",
   "name": "python3"
  },
  "language_info": {
   "codemirror_mode": {
    "name": "ipython",
    "version": 3
   },
   "file_extension": ".py",
   "mimetype": "text/x-python",
   "name": "python",
   "nbconvert_exporter": "python",
   "pygments_lexer": "ipython3",
   "version": "3.11.3"
  }
 },
 "nbformat": 4,
 "nbformat_minor": 4
}
